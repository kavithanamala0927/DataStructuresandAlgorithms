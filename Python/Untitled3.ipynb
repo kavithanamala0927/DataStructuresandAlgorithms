{
 "cells": [
  {
   "cell_type": "code",
   "execution_count": 64,
   "metadata": {},
   "outputs": [],
   "source": [
    " from collections import Counter\n",
    "def componentsGroups(components, minLength, maxLength, maxUnique):\n",
    "    result = []\n",
    "    for i in range(len(components)):\n",
    "        for j in range(i+1, len(components)+1):\n",
    "            length_s = len(components[i:j])\n",
    "            if ((length_s) >= minLength and (length_s) <= maxLength):\n",
    "                result.append(components[i:j])  \n",
    "    count = Counter(result)\n",
    "    print (count)\n",
    "    max_c = 0    \n",
    "    for k,i in count.items():        \n",
    "        if max_c < i:\n",
    "            if len(set(k))<=maxUnique:\n",
    "                max_c = i\n",
    "    print (max_c)  \n"
   ]
  },
  {
   "cell_type": "code",
   "execution_count": 73,
   "metadata": {},
   "outputs": [
    {
     "name": "stdout",
     "output_type": "stream",
     "text": [
      "Counter({'ab': 3, 'aba': 2, 'ba': 2, 'bab': 2})\n",
      "3\n"
     ]
    }
   ],
   "source": [
    "components = \"ababab\"\n",
    "minLength = 2\n",
    "maxLength = 3\n",
    "maxUnique = 4\n",
    "componentsGroups(components, minLength, maxLength, maxUnique)"
   ]
  },
  {
   "cell_type": "code",
   "execution_count": 164,
   "metadata": {},
   "outputs": [],
   "source": [
    "from collections import Counter\n",
    "def checkPalindrome(string):\n",
    "    s = Counter(string)\n",
    "    odd_count = 0\n",
    "    for i in s.values():\n",
    "        if i % 2 != 0:\n",
    "            odd_count += 1\n",
    "        if odd_count > 1:\n",
    "            return (False)\n",
    "    return (True)\n",
    "def scatterPalindrome(strtoEvaluate):\n",
    "    i = 0\n",
    "    \n",
    "    while i < len(strtoEvaluate):    \n",
    "        result = []\n",
    "        print (\"Input String:::\",strtoEvaluate[i])\n",
    "        for j in range(len(strtoEvaluate[i])):\n",
    "            for k in range(j+1, len(strtoEvaluate[i])+1):\n",
    "                result.append(strtoEvaluate[i][j:k])              \n",
    "        count = 0\n",
    "        valid = []\n",
    "        for l in range(len(result)):\n",
    "            if checkPalindrome(result[l]):\n",
    "                valid.append(result[l])\n",
    "                count += 1\n",
    "        print (count)\n",
    "        i += 1\n",
    "                \n",
    "\n",
    "\n",
    "        \n",
    "                "
   ]
  },
  {
   "cell_type": "code",
   "execution_count": 165,
   "metadata": {},
   "outputs": [
    {
     "name": "stdout",
     "output_type": "stream",
     "text": [
      "Input String::: bbrrg\n",
      "12\n",
      "Input String::: aabb\n",
      "9\n"
     ]
    }
   ],
   "source": [
    "\n",
    "strtoEvaluate = ['bbrrg', 'aabb']\n",
    "scatterPalindrome(strtoEvaluate)"
   ]
  },
  {
   "cell_type": "code",
   "execution_count": 152,
   "metadata": {},
   "outputs": [
    {
     "name": "stdout",
     "output_type": "stream",
     "text": [
      "False\n"
     ]
    }
   ],
   "source": [
    "\n",
    "from collections import Counter\n",
    "s = Counter('aabc')\n",
    "odd_count = 0\n",
    "for i in s.values():\n",
    "    if i % 2 != 0:\n",
    "        odd_count += 1\n",
    "    \n",
    "if odd_count > 1:\n",
    "    print (False)\n",
    "else:\n",
    "    print (True)\n",
    "        "
   ]
  },
  {
   "cell_type": "code",
   "execution_count": null,
   "metadata": {},
   "outputs": [],
   "source": []
  }
 ],
 "metadata": {
  "kernelspec": {
   "display_name": "Python 3",
   "language": "python",
   "name": "python3"
  },
  "language_info": {
   "codemirror_mode": {
    "name": "ipython",
    "version": 3
   },
   "file_extension": ".py",
   "mimetype": "text/x-python",
   "name": "python",
   "nbconvert_exporter": "python",
   "pygments_lexer": "ipython3",
   "version": "3.7.3"
  }
 },
 "nbformat": 4,
 "nbformat_minor": 2
}
