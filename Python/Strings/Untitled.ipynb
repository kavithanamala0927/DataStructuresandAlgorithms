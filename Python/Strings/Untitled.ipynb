{
 "cells": [
  {
   "cell_type": "code",
   "execution_count": 8,
   "metadata": {},
   "outputs": [
    {
     "data": {
      "text/plain": [
       "'much.very.program.this.like.i'"
      ]
     },
     "execution_count": 8,
     "metadata": {},
     "output_type": "execute_result"
    }
   ],
   "source": [
    "S = \"i.like.this.program.very.much\"\n",
    "\".\".join(S.split(\".\")[::-1])\n"
   ]
  },
  {
   "cell_type": "code",
   "execution_count": 22,
   "metadata": {},
   "outputs": [
    {
     "data": {
      "text/plain": [
       "1"
      ]
     },
     "execution_count": 22,
     "metadata": {},
     "output_type": "execute_result"
    }
   ],
   "source": [
    "def hasArrayTwoCandidates(arr, n, x):\n",
    "    # code here\n",
    "    flag = 0\n",
    "    for i in range(n):\n",
    "        o = x - arr[i]\n",
    "        if o in arr[i+1:n]:\n",
    "            flag = 1\n",
    "    return flag\n",
    "arr = [1,4,45,6,10,8]\n",
    "x = 16\n",
    "n = len(arr)\n",
    "hasArrayTwoCandidates(arr, n, x)"
   ]
  },
  {
   "cell_type": "code",
   "execution_count": 31,
   "metadata": {},
   "outputs": [
    {
     "data": {
      "text/plain": [
       "1"
      ]
     },
     "execution_count": 31,
     "metadata": {},
     "output_type": "execute_result"
    }
   ],
   "source": [
    "def hasArrayTwoCandidates(arr, n, x):\n",
    "\t\t# code here\n",
    "\t\tarr.sort()\n",
    "\t\tstart = 0\n",
    "\t\tend = n-1\n",
    "\t\twhile start <= end:\n",
    "\t\t    mid = (start+end)//2\n",
    "\t\t    if arr[start] + arr[end] == x:\n",
    "\t\t        return 1\n",
    "\t\t    if start == end :\n",
    "\t\t        end = mid + 1\n",
    "\t\t    elif arr[start] + arr[end] < x:\n",
    "\t\t        start = mid + 1\n",
    "\t\t    else:\n",
    "\t\t        end = mid -1\n",
    "\t\treturn 0\n",
    "arr = [1, 2, 4, 3, 6]\n",
    "x = 10\n",
    "n = len(arr)\n",
    "hasArrayTwoCandidates(arr, n, x)"
   ]
  },
  {
   "cell_type": "code",
   "execution_count": 3,
   "metadata": {},
   "outputs": [
    {
     "data": {
      "text/plain": [
       "Counter({3: 1, 4: 1, 5: 1})"
      ]
     },
     "execution_count": 3,
     "metadata": {},
     "output_type": "execute_result"
    }
   ],
   "source": [
    "list1 = [1,2,3,4,5]\n",
    "list2 = [3,4,5,6]\n",
    "from collections import Counter\n",
    "counter1 = Counter(list1)\n",
    "counter2 = Counter(list2)\n",
    "counter1 & counter2"
   ]
  },
  {
   "cell_type": "code",
   "execution_count": null,
   "metadata": {},
   "outputs": [],
   "source": []
  }
 ],
 "metadata": {
  "kernelspec": {
   "display_name": "Python 3",
   "language": "python",
   "name": "python3"
  },
  "language_info": {
   "codemirror_mode": {
    "name": "ipython",
    "version": 3
   },
   "file_extension": ".py",
   "mimetype": "text/x-python",
   "name": "python",
   "nbconvert_exporter": "python",
   "pygments_lexer": "ipython3",
   "version": "3.7.3"
  }
 },
 "nbformat": 4,
 "nbformat_minor": 2
}
