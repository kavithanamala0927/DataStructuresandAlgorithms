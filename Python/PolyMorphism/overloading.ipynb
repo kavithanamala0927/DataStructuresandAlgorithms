{
 "cells": [
  {
   "cell_type": "code",
   "execution_count": 3,
   "metadata": {},
   "outputs": [
    {
     "data": {
      "text/plain": [
       "'KavithaEswar'"
      ]
     },
     "execution_count": 3,
     "metadata": {},
     "output_type": "execute_result"
    }
   ],
   "source": [
    "class OperatorOverloading:\n",
    "    def add_con(self, a,b):\n",
    "        return a + b\n",
    "\n",
    "obj = OperatorOverloading()\n",
    "obj.add_con(10,20)\n",
    "obj.add_con(\"Kavitha\", \"Eswar\")"
   ]
  },
  {
   "cell_type": "code",
   "execution_count": 10,
   "metadata": {},
   "outputs": [
    {
     "name": "stdout",
     "output_type": "stream",
     "text": [
      "(None, None)\n",
      "(10, None)\n",
      "(10, 20)\n",
      "('kavitha', 'Eswar')\n"
     ]
    }
   ],
   "source": [
    "class MethodOverloading:\n",
    "    def display(self, a = None, b = None):\n",
    "        return a, b\n",
    "\n",
    "obj = MethodOverloading()\n",
    "print (obj.display())\n",
    "print (obj.display(10))\n",
    "print (obj.display(10,20))\n",
    "print (obj.display(\"kavitha\",\"Eswar\"))"
   ]
  },
  {
   "cell_type": "code",
   "execution_count": null,
   "metadata": {},
   "outputs": [],
   "source": []
  }
 ],
 "metadata": {
  "kernelspec": {
   "display_name": "Python 3",
   "language": "python",
   "name": "python3"
  },
  "language_info": {
   "codemirror_mode": {
    "name": "ipython",
    "version": 3
   },
   "file_extension": ".py",
   "mimetype": "text/x-python",
   "name": "python",
   "nbconvert_exporter": "python",
   "pygments_lexer": "ipython3",
   "version": "3.7.3"
  }
 },
 "nbformat": 4,
 "nbformat_minor": 2
}
