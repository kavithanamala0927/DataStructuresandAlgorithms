{
 "cells": [
  {
   "cell_type": "code",
   "execution_count": 8,
   "metadata": {},
   "outputs": [
    {
     "name": "stdout",
     "output_type": "stream",
     "text": [
      "CYCLE\n",
      "BIKE\n",
      "BIKE\n"
     ]
    }
   ],
   "source": [
    "class MethodOverriding:\n",
    "    def transport(self):\n",
    "        return (\"CYCLE\")\n",
    "obj = MethodOverriding()\n",
    "print (obj.transport())\n",
    "class Derived:\n",
    "    def transport(self):\n",
    "        return (\"BIKE\")\n",
    "obj = Derived()\n",
    "print (obj.transport())\n",
    "\n",
    "class Derived(MethodOverriding):\n",
    "    def transport(self):\n",
    "        return (\"BIKE\")\n",
    "obj = Derived()\n",
    "print (obj.transport())"
   ]
  },
  {
   "cell_type": "code",
   "execution_count": null,
   "metadata": {},
   "outputs": [],
   "source": []
  }
 ],
 "metadata": {
  "kernelspec": {
   "display_name": "Python 3",
   "language": "python",
   "name": "python3"
  },
  "language_info": {
   "codemirror_mode": {
    "name": "ipython",
    "version": 3
   },
   "file_extension": ".py",
   "mimetype": "text/x-python",
   "name": "python",
   "nbconvert_exporter": "python",
   "pygments_lexer": "ipython3",
   "version": "3.7.3"
  }
 },
 "nbformat": 4,
 "nbformat_minor": 2
}
