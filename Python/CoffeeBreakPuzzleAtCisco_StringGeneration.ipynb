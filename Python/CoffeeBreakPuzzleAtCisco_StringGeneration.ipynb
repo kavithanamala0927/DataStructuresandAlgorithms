{
 "cells": [
  {
   "cell_type": "code",
   "execution_count": 1,
   "metadata": {},
   "outputs": [
    {
     "name": "stdout",
     "output_type": "stream",
     "text": [
      "10\n",
      "24 6\n",
      "No such string.\n",
      "6 9\n",
      "No such string.\n",
      "80 8\n",
      "aaaaaaaaaaaaaaaaaaaaaaaaaaaaaaaaaaaaaaaaaaaaaaaaaaaaaaaaaaaaaaaaaaaaabbcddeffghh\n",
      "38 17\n",
      "No such string.\n",
      "2 8\n",
      "No such string.\n",
      "22 16\n",
      "No such string.\n",
      "81 12\n",
      "No such string.\n",
      "3 7\n",
      "No such string.\n",
      "40 15\n",
      "aaaaaaaaaaaaaaaaaaabbcddeffghhijjkllmnno\n",
      "2 1\n",
      "No such string.\n"
     ]
    }
   ],
   "source": [
    "def transform (x):\n",
    "    return chr(x+96)\n",
    "def test(N,K):\n",
    "    w = []\n",
    "    for i in range(1,K+1):\n",
    "        if i % 2 == 0 :\n",
    "            o = 2\n",
    "        else:\n",
    "            o = 1\n",
    "        w.extend([i]*o)\n",
    "    if len(w)> N+1:\n",
    "        return (\"No such string.\")\n",
    "    r = N - len(w)\n",
    "    if r%2:\n",
    "        return \"No such string.\"\n",
    "    prefix = [1]*r\n",
    "    prefix.extend(w)\n",
    "    return ''.join(map(transform, prefix))\n",
    "t = int(input())\n",
    "for i in range(t):\n",
    "    N,K = input().split()\n",
    "    N, K = int(N), int(K)\n",
    "    print (test(N,K))"
   ]
  },
  {
   "cell_type": "code",
   "execution_count": null,
   "metadata": {},
   "outputs": [],
   "source": []
  },
  {
   "cell_type": "code",
   "execution_count": null,
   "metadata": {},
   "outputs": [],
   "source": []
  }
 ],
 "metadata": {
  "kernelspec": {
   "display_name": "Python 3",
   "language": "python",
   "name": "python3"
  },
  "language_info": {
   "codemirror_mode": {
    "name": "ipython",
    "version": 3
   },
   "file_extension": ".py",
   "mimetype": "text/x-python",
   "name": "python",
   "nbconvert_exporter": "python",
   "pygments_lexer": "ipython3",
   "version": "3.7.3"
  }
 },
 "nbformat": 4,
 "nbformat_minor": 2
}
