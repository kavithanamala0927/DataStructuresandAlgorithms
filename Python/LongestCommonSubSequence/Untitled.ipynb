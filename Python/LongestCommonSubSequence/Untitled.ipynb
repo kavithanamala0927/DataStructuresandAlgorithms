{
 "cells": [
  {
   "cell_type": "code",
   "execution_count": 61,
   "metadata": {},
   "outputs": [
    {
     "data": {
      "text/plain": [
       "2"
      ]
     },
     "execution_count": 61,
     "metadata": {},
     "output_type": "execute_result"
    }
   ],
   "source": [
    "import numpy as np \n",
    "def commonChild(str1, str2, m, n):\n",
    "    if m == 0 or n == 0:\n",
    "        return 0\n",
    "    elif str1[m-1] == str2[n-1]:\n",
    "        return 1 + commonChild(str1, str2, m-1, n-1)\n",
    "    else:\n",
    "        return max(commonChild(str1, str2, m-1, n), commonChild(str1, str2, m, n-1))\n",
    "s1 = \"ABCDEF\"\n",
    "s2 = \"FBDAMN\"\n",
    "m = len(s1)\n",
    "n = len(s2)\n",
    "commonChild(s1, s2, m, n)"
   ]
  },
  {
   "cell_type": "code",
   "execution_count": 88,
   "metadata": {},
   "outputs": [
    {
     "data": {
      "text/plain": [
       "3"
      ]
     },
     "execution_count": 88,
     "metadata": {},
     "output_type": "execute_result"
    }
   ],
   "source": [
    "\n",
    "def commonChild(s1, s2):\n",
    "    n = len(s2)\n",
    "    prev = [0] * (n+1)\n",
    "    cur = [0]*(n+1)\n",
    "    for c1 in s1:\n",
    "        for j,c2 in enumerate(s2, 1):\n",
    "                cur[j] = 1 + prev[j-1] if c1 == c2 else max(prev[j], cur[j-1])\n",
    "        prev, cur = cur, prev\n",
    "    return prev[-1]\n",
    "\n",
    "s1=\"SHINCHAN\"\n",
    "s2 =\"NOHARAAA\"\n",
    "commonChild(s1, s2)"
   ]
  },
  {
   "cell_type": "code",
   "execution_count": 97,
   "metadata": {},
   "outputs": [
    {
     "name": "stdout",
     "output_type": "stream",
     "text": [
      "Counter({'c': 1, 'd': 1, 'e': 1})\n",
      "Counter({'d': 1, 'c': 1, 'f': 1})\n",
      "2\n"
     ]
    }
   ],
   "source": [
    "s1 = \"cde\"\n",
    "s2 = \"dcf\"\n",
    "from collections import Counter\n"
   ]
  },
  {
   "cell_type": "code",
   "execution_count": 160,
   "metadata": {},
   "outputs": [
    {
     "name": "stdout",
     "output_type": "stream",
     "text": [
      "[3, 2, 4, 1, 5]\n",
      "[4, 2, 3, 1, 5]\n",
      "[1, 2, 3, 4, 5]\n",
      "3\n"
     ]
    }
   ],
   "source": [
    "l = [2, 3, 4, 1, 5]\n",
    "swap = 0\n",
    "i = 0\n",
    "while i < len(l):\n",
    "    index = l[i]-1\n",
    "    if l[i] != l[index]:\n",
    "        l[i], l[index] = l[index], l[i]\n",
    "        swap +=1\n",
    "    else:\n",
    "        i += 1  \n",
    "\n",
    "print (swap)\n",
    "        \n",
    "        \n",
    "\n"
   ]
  },
  {
   "cell_type": "code",
   "execution_count": 231,
   "metadata": {},
   "outputs": [
    {
     "name": "stdout",
     "output_type": "stream",
     "text": [
      "3\n"
     ]
    }
   ],
   "source": [
    "#\n",
    "\n",
    "def minimumBribes(q):\n",
    "    i = len(q)-1\n",
    "    count = 0\n",
    "    flag = 0\n",
    "    while i > 0:\n",
    "        if (q[i] != i+1):\n",
    "            if (q[i-1] == i+1):\n",
    "                q[i], q[i-1] = q[i-1], q[i]\n",
    "                count += 1\n",
    "            elif (q[i-2] == i+1):\n",
    "                q[i], q[i-2] = q[i-2], q[i]\n",
    "                q[i-1], q[i-2] = q[i-2], q[i-1]\n",
    "                count += 2\n",
    "            else:                \n",
    "                flag = 1\n",
    "                break\n",
    "        i -= 1\n",
    "    if flag == 1:\n",
    "        print (\"Too chaotic\")\n",
    "    else:\n",
    "        print (count)\n",
    "        \n",
    "        \n",
    "        \n",
    "q = [2,1,5,3,4]\n",
    "minimumBribes(q)"
   ]
  },
  {
   "cell_type": "code",
   "execution_count": 284,
   "metadata": {},
   "outputs": [
    {
     "name": "stdout",
     "output_type": "stream",
     "text": [
      "[0, 1, 1]\n"
     ]
    }
   ],
   "source": [
    "#queries = [(1,5),(1,6),(3,2),(1,10),(1,10),(1,6),(2,5),(3,2)]\n",
    "#queries = [(3,4),(1,1003),(1,16),(3,1)]\n",
    "queries = [(1,3),(2,3),(3,2),(1,4),(1,5),(1,5),(1,4),(3,2),(2,4),(3,2)]\n",
    "from collections import defaultdict\n",
    "d = defaultdict(int)\n",
    "length = len(queries)\n",
    "out = []\n",
    "for i in queries:\n",
    "    if i[0] == 1:\n",
    "        d[i[1]] += 1\n",
    "    elif i[0] == 2:\n",
    "        if i[1] in d and d[i[1]] > 0:\n",
    "            d[i[1]] -= 1\n",
    "    else:\n",
    "        out.append(1 if i[1] in set(d.values()) else 0)\n",
    "print (out)\n",
    "        "
   ]
  },
  {
   "cell_type": "code",
   "execution_count": 282,
   "metadata": {},
   "outputs": [
    {
     "data": {
      "text/plain": [
       "[0, 1, 1]"
      ]
     },
     "execution_count": 282,
     "metadata": {},
     "output_type": "execute_result"
    }
   ],
   "source": [
    "def frequency(queries):\n",
    "    d = {}\n",
    "    length = len(queries)\n",
    "    out = []\n",
    "    for i in range(length):\n",
    "        if queries[i][0] == 1:\n",
    "            if queries[i][1] in d.keys():\n",
    "                d[queries[i][1]] += 1\n",
    "            else:\n",
    "                d[queries[i][1]] = 1\n",
    "        elif queries[i][0] == 2:\n",
    "            if queries[i][1] in d and d[queries[i][1]] > 0:\n",
    "                d[queries[i][1]] -= 1\n",
    "        elif queries[i][0] == 3: \n",
    "            if queries[i][1] in d.values():\n",
    "                out.append(1)\n",
    "            else:\n",
    "                out.append(0)\n",
    "    return (out)\n",
    "queries = [(1,3),(2,3),(3,2),(1,4),(1,5),(1,5),(1,4),(3,2),(2,4),(3,2)]\n",
    "frequency(queries)"
   ]
  },
  {
   "cell_type": "code",
   "execution_count": 244,
   "metadata": {},
   "outputs": [
    {
     "data": {
      "text/plain": [
       "{1: 1}"
      ]
     },
     "execution_count": 244,
     "metadata": {},
     "output_type": "execute_result"
    }
   ],
   "source": [
    "d = {}\n",
    "a = 1\n",
    "d[a] = 1\n",
    "d"
   ]
  },
  {
   "cell_type": "code",
   "execution_count": 312,
   "metadata": {},
   "outputs": [
    {
     "name": "stdout",
     "output_type": "stream",
     "text": [
      "YES\n"
     ]
    }
   ],
   "source": [
    "from collections import Counter\n",
    "def twoStrings(s1, s2):\n",
    "    result = Counter(s1) & Counter(s2)\n",
    "    if len(result) > 0:\n",
    "        print (\"YES\")\n",
    "    else:\n",
    "        print (\"NO\")\n",
    "\n",
    "s1 = \"aardvark\"\n",
    "s2 = \"apple\"\n",
    "twoStrings(s1, s2)"
   ]
  },
  {
   "cell_type": "code",
   "execution_count": 349,
   "metadata": {},
   "outputs": [
    {
     "name": "stdout",
     "output_type": "stream",
     "text": [
      "YES\n"
     ]
    }
   ],
   "source": [
    "from collections import Counter\n",
    "def checkMagazine(magazine, note):\n",
    "    flag = 0\n",
    "    c1 = Counter(magazine.split())\n",
    "    c2 = Counter(note.split())\n",
    "    for k,v in c2.items():\n",
    "        #print (k, v)\n",
    "        #print (c1)\n",
    "        if k in c1 and c1[k] >= v:\n",
    "            #print (\"tr\")\n",
    "            pass\n",
    "        else:\n",
    "            #print (\"fa\")\n",
    "            flag = 1\n",
    "    if flag:\n",
    "        print (\"NO\")\n",
    "    else:\n",
    "        print (\"YES\")\n",
    "\n",
    "    \n",
    "magazine = \"apgo clm w lxkvg mwz elo bg elo lxkvg elo apgo apgo w elo bg\"\n",
    "note = \"elo lxkvg bg mwz clm w\"\n",
    "checkMagazine(magazine, note)"
   ]
  },
  {
   "cell_type": "code",
   "execution_count": 427,
   "metadata": {},
   "outputs": [
    {
     "name": "stdout",
     "output_type": "stream",
     "text": [
      "[(1237, 1237, 1237), (1237, 1237, 1237), (1237, 1237, 1237), (1237, 1237, 1237)]\n"
     ]
    },
    {
     "data": {
      "text/plain": [
       "4"
      ]
     },
     "execution_count": 427,
     "metadata": {},
     "output_type": "execute_result"
    }
   ],
   "source": [
    "from collections import Counter\n",
    "from itertools import combinations\n",
    "\n",
    "def countTriplets(arr, r):\n",
    "    substrings = list(combinations(arr, 3))\n",
    "    print (substrings)\n",
    "    count = 0\n",
    "    for i in substrings:\n",
    "        if i[1]%r == 0:\n",
    "            if i[1]//r == i[0] and i[1] * r == i[2]:\n",
    "                count += 1\n",
    "    return count\n",
    "arr = [1237, 1237, 1237, 1237]\n",
    "r = 1\n",
    "countTriplets(arr, r)\n",
    "  "
   ]
  },
  {
   "cell_type": "code",
   "execution_count": 374,
   "metadata": {},
   "outputs": [
    {
     "name": "stdout",
     "output_type": "stream",
     "text": [
      "5.196152422706632\n"
     ]
    }
   ],
   "source": [
    "\n",
    "r = 3\n",
    "o = list(combinations(arr, r))\n",
    "count = 0\n",
    "tr = 4\n",
    "for i in o:\n",
    "    if (i[0]*tr == i[1] and i[1]*tr == i[2]):\n",
    "        count += 1\n",
    "    \n",
    "print (\"Count\",count)"
   ]
  },
  {
   "cell_type": "code",
   "execution_count": 411,
   "metadata": {},
   "outputs": [
    {
     "name": "stdout",
     "output_type": "stream",
     "text": [
      "0\n",
      "1\n",
      "3\n"
     ]
    }
   ],
   "source": [
    "print (1//3)\n",
    "print (3//3)\n",
    "print (9//3)"
   ]
  },
  {
   "cell_type": "code",
   "execution_count": null,
   "metadata": {},
   "outputs": [],
   "source": []
  }
 ],
 "metadata": {
  "kernelspec": {
   "display_name": "Python 3",
   "language": "python",
   "name": "python3"
  },
  "language_info": {
   "codemirror_mode": {
    "name": "ipython",
    "version": 3
   },
   "file_extension": ".py",
   "mimetype": "text/x-python",
   "name": "python",
   "nbconvert_exporter": "python",
   "pygments_lexer": "ipython3",
   "version": "3.7.3"
  }
 },
 "nbformat": 4,
 "nbformat_minor": 2
}
