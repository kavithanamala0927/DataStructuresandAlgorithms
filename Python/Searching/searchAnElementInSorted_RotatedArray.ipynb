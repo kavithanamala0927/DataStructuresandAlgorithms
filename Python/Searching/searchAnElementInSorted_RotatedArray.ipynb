{
 "cells": [
  {
   "cell_type": "code",
   "execution_count": 68,
   "metadata": {},
   "outputs": [
    {
     "data": {
      "text/plain": [
       "6"
      ]
     },
     "execution_count": 68,
     "metadata": {},
     "output_type": "execute_result"
    }
   ],
   "source": [
    "def findPivot(arr, start, end):\n",
    "    mid = (start + end) // 2\n",
    "    if start >= end:\n",
    "        return -1\n",
    "    #print (mid, mid+1)\n",
    "    if arr[mid] > arr[mid+1]:\n",
    "        return mid + 1\n",
    "    else:\n",
    "        if arr[start] > arr[mid]:\n",
    "            return findPivot(arr, start, mid-1)\n",
    "        else:\n",
    "            return findPivot(arr, mid+1, end)\n",
    "def binarySearch(arr, searchElement, start, end):\n",
    "    mid = (start+end) // 2\n",
    "    if start > end:\n",
    "        return -1\n",
    "    if arr[mid] == searchElement:\n",
    "        return mid\n",
    "    if arr[mid] > searchElement:\n",
    "        return binarySearch(arr, searchElement, start, mid-1)\n",
    "    else:\n",
    "        return binarySearch(arr, searchElement, mid+1, end)\n",
    "def pivotBinarySearch(arr, searchElement):\n",
    "    pivot = findPivot(arr, 0 , len(arr)-1)\n",
    "    if pivot == -1:\n",
    "        return binarySearch(arr, searchElement, 0, len(arr)-1)\n",
    "    if arr[pivot] == searchElement:\n",
    "        return pivot\n",
    "    elif searchElement > arr[0]:\n",
    "        return binarySearch(arr,searchElement, 0, pivot-1)   \n",
    "    else:\n",
    "        return binarySearch(arr,searchElement, pivot+1, len(arr)-1)\n",
    "arr = [1,2,3,4,5,6,7]\n",
    "E = 7\n",
    "pivotBinarySearch(arr, E)"
   ]
  },
  {
   "cell_type": "code",
   "execution_count": null,
   "metadata": {},
   "outputs": [],
   "source": []
  },
  {
   "cell_type": "code",
   "execution_count": null,
   "metadata": {},
   "outputs": [],
   "source": []
  }
 ],
 "metadata": {
  "kernelspec": {
   "display_name": "Python 3",
   "language": "python",
   "name": "python3"
  },
  "language_info": {
   "codemirror_mode": {
    "name": "ipython",
    "version": 3
   },
   "file_extension": ".py",
   "mimetype": "text/x-python",
   "name": "python",
   "nbconvert_exporter": "python",
   "pygments_lexer": "ipython3",
   "version": "3.7.3"
  }
 },
 "nbformat": 4,
 "nbformat_minor": 2
}
