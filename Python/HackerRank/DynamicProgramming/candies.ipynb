{
 "cells": [
  {
   "cell_type": "code",
   "execution_count": 17,
   "metadata": {},
   "outputs": [
    {
     "data": {
      "text/plain": [
       "10"
      ]
     },
     "execution_count": 17,
     "metadata": {},
     "output_type": "execute_result"
    }
   ],
   "source": [
    "def candies(n, arr):\n",
    "    output = [1]*n\n",
    "    #Forward Direction\n",
    "    for i in range(1, n):\n",
    "        if arr[i] > arr[i-1]:\n",
    "            output[i] = output[i-1] + 1\n",
    "    #Backward Direction\n",
    "    for j in range(n-1,0,-1):\n",
    "        #print (j,arr[j], j-1,arr[j-1])\n",
    "        if arr[j-1] > arr[j] and output[j-1] <= output[j]:\n",
    "            output[j-1] = output[j] + 1\n",
    "    return sum(output)\n",
    "n = 4\n",
    "arr = [1,2,3,4]\n",
    "candies(n,arr)\n",
    "            "
   ]
  },
  {
   "cell_type": "code",
   "execution_count": null,
   "metadata": {},
   "outputs": [],
   "source": []
  }
 ],
 "metadata": {
  "kernelspec": {
   "display_name": "Python 3",
   "language": "python",
   "name": "python3"
  },
  "language_info": {
   "codemirror_mode": {
    "name": "ipython",
    "version": 3
   },
   "file_extension": ".py",
   "mimetype": "text/x-python",
   "name": "python",
   "nbconvert_exporter": "python",
   "pygments_lexer": "ipython3",
   "version": "3.7.3"
  }
 },
 "nbformat": 4,
 "nbformat_minor": 2
}
