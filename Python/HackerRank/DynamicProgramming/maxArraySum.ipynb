{
 "cells": [
  {
   "cell_type": "code",
   "execution_count": 23,
   "metadata": {},
   "outputs": [
    {
     "name": "stdout",
     "output_type": "stream",
     "text": [
      "2\n",
      "-1\n"
     ]
    }
   ],
   "source": [
    "l = [-3,-5,-1]\n",
    "x = [0]*len(l)\n",
    "x[0] = l[0]\n",
    "x[1] = max(l[1], x[0])\n",
    "for i in range(2, len(l)):\n",
    "    print (i)\n",
    "    x[i] = max(l[i], x[i-1] , l[i]+x[i-2])\n",
    "print (x[-1])"
   ]
  },
  {
   "cell_type": "code",
   "execution_count": 24,
   "metadata": {},
   "outputs": [
    {
     "name": "stdout",
     "output_type": "stream",
     "text": [
      "[-3, -3, -1]\n"
     ]
    },
    {
     "data": {
      "text/plain": [
       "-1"
      ]
     },
     "execution_count": 24,
     "metadata": {},
     "output_type": "execute_result"
    }
   ],
   "source": [
    "def maxSubsetSum(arr):\n",
    "    out = [0]*len(arr)\n",
    "    out[0] = arr[0]\n",
    "    out[1] = max(arr[1], out[0])\n",
    "    for i in range(2, len(arr)):\n",
    "        out[i] = max(arr[i],out[i-1], arr[i]+out[i-2])\n",
    "    print (out)\n",
    "    return out[-1]\n",
    "arr = [-3,-5,-1]\n",
    "maxSubsetSum(arr)"
   ]
  },
  {
   "cell_type": "code",
   "execution_count": 25,
   "metadata": {},
   "outputs": [
    {
     "name": "stdout",
     "output_type": "stream",
     "text": [
      "[(9, 2), (7, 4), (5, 6), (3, 8)]\n"
     ]
    }
   ],
   "source": [
    "l1 = [9,7,5,3,1]\n",
    "l2 = [2,4,6,8]\n",
    "zipped = zip(l1,l2)\n",
    "print (list(zipped))\n"
   ]
  },
  {
   "cell_type": "code",
   "execution_count": null,
   "metadata": {},
   "outputs": [],
   "source": []
  }
 ],
 "metadata": {
  "kernelspec": {
   "display_name": "Python 3",
   "language": "python",
   "name": "python3"
  },
  "language_info": {
   "codemirror_mode": {
    "name": "ipython",
    "version": 3
   },
   "file_extension": ".py",
   "mimetype": "text/x-python",
   "name": "python",
   "nbconvert_exporter": "python",
   "pygments_lexer": "ipython3",
   "version": "3.7.3"
  }
 },
 "nbformat": 4,
 "nbformat_minor": 2
}
