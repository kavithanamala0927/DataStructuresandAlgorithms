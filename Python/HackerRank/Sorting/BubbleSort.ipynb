{
 "cells": [
  {
   "cell_type": "code",
   "execution_count": 15,
   "metadata": {},
   "outputs": [
    {
     "name": "stdout",
     "output_type": "stream",
     "text": [
      "Array is sorted in 16 swaps.\n",
      "First Element: 1\n",
      "Last Element: 7\n"
     ]
    }
   ],
   "source": [
    "def countSwaps(a):\n",
    "    numSwap = 0\n",
    "    for i in range(len(a)):\n",
    "        for j in range(i+1,len(a)):\n",
    "            if a[i] > a[j]:\n",
    "                a[i], a[j] = a[j], a[i]\n",
    "                numSwap += 1\n",
    "    print (\"Array is sorted in\",numSwap,\"swaps.\")\n",
    "    print (\"First Element:\",a[0])\n",
    "    print (\"Last Element:\",a[-1])\n",
    "\n",
    "a = [6,4,1,5,3,2,1,7]\n",
    "countSwaps(a)"
   ]
  },
  {
   "cell_type": "code",
   "execution_count": 25,
   "metadata": {},
   "outputs": [
    {
     "data": {
      "text/plain": [
       "4"
      ]
     },
     "execution_count": 25,
     "metadata": {},
     "output_type": "execute_result"
    }
   ],
   "source": [
    "def countSwaps(a,k):\n",
    "    for i in range(len(a)):\n",
    "        for j in range(i+1,len(a)):\n",
    "            if a[i] > a[j]:\n",
    "                a[i], a[j] = a[j], a[i]\n",
    "    s = 0\n",
    "    count = 0\n",
    "    for i in a:\n",
    "        if s+i <= k:\n",
    "            s += i\n",
    "            count += 1\n",
    "    return count\n",
    "        \n",
    "countSwaps([1, 12, 5, 111, 200, 1000, 10],50)"
   ]
  },
  {
   "cell_type": "code",
   "execution_count": 30,
   "metadata": {},
   "outputs": [
    {
     "data": {
      "text/plain": [
       "[1, 1, 2, 3, 4, 5, 6]"
      ]
     },
     "execution_count": 30,
     "metadata": {},
     "output_type": "execute_result"
    }
   ],
   "source": [
    "l = [1,3,4,2,5,1,6]\n",
    "l.sort()\n",
    "l"
   ]
  },
  {
   "cell_type": "code",
   "execution_count": null,
   "metadata": {},
   "outputs": [],
   "source": []
  }
 ],
 "metadata": {
  "kernelspec": {
   "display_name": "Python 3",
   "language": "python",
   "name": "python3"
  },
  "language_info": {
   "codemirror_mode": {
    "name": "ipython",
    "version": 3
   },
   "file_extension": ".py",
   "mimetype": "text/x-python",
   "name": "python",
   "nbconvert_exporter": "python",
   "pygments_lexer": "ipython3",
   "version": "3.7.3"
  }
 },
 "nbformat": 4,
 "nbformat_minor": 2
}
