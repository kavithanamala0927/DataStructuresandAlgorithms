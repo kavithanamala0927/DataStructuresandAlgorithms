{
 "cells": [
  {
   "cell_type": "code",
   "execution_count": 92,
   "metadata": {},
   "outputs": [
    {
     "data": {
      "text/plain": [
       "2"
      ]
     },
     "execution_count": 92,
     "metadata": {},
     "output_type": "execute_result"
    }
   ],
   "source": [
    " from collections import Counter\n",
    "# Complete the sherlockAndAnagrams function below.\n",
    "def sherlockAndAnagrams(s):\n",
    "    com = (''.join(sorted(s[i:j])) for i in range(len(s)+1)\n",
    "                for j in range(i+1, len(s)+1))\n",
    "    sub = Counter(com)\n",
    "    count = 0\n",
    "    for v in sub.values():\n",
    "        result = (v*(v-1))//2\n",
    "        count += result\n",
    "    return count\n",
    "sherlockAndAnagrams(\"mom\")"
   ]
  },
  {
   "cell_type": "code",
   "execution_count": 97,
   "metadata": {},
   "outputs": [
    {
     "data": {
      "text/plain": [
       "0"
      ]
     },
     "execution_count": 97,
     "metadata": {},
     "output_type": "execute_result"
    }
   ],
   "source": [
    "from collections import Counter\n",
    "# Complete the sherlockAndAnagrams function below.\n",
    "def sherlockAndAnagrams(s):\n",
    "    count = 0\n",
    "    substrings  = Counter(s)\n",
    "    for i in range(2, len(s)):\n",
    "        sb = s[0:i]\n",
    "        substrings[\"\".join(sorted(sb))]+=1\n",
    "        l = len(sb)\n",
    "        for j in range(1, len(s)):\n",
    "            if j + l <= len(s):\n",
    "                substrings[\"\".join(sorted(s[j:j+l]))]+=1\n",
    "    for k,v in substrings.items():\n",
    "        count += v*(v-1)//2\n",
    "    return count       \n",
    "sherlockAndAnagrams(\"abcd\")"
   ]
  },
  {
   "cell_type": "code",
   "execution_count": null,
   "metadata": {},
   "outputs": [],
   "source": []
  }
 ],
 "metadata": {
  "kernelspec": {
   "display_name": "Python 3",
   "language": "python",
   "name": "python3"
  },
  "language_info": {
   "codemirror_mode": {
    "name": "ipython",
    "version": 3
   },
   "file_extension": ".py",
   "mimetype": "text/x-python",
   "name": "python",
   "nbconvert_exporter": "python",
   "pygments_lexer": "ipython3",
   "version": "3.7.3"
  }
 },
 "nbformat": 4,
 "nbformat_minor": 2
}
