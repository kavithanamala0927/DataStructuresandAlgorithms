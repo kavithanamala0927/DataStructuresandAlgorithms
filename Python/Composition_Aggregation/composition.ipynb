{
 "cells": [
  {
   "cell_type": "code",
   "execution_count": 1,
   "metadata": {},
   "outputs": [
    {
     "data": {
      "text/plain": [
       "720000"
      ]
     },
     "execution_count": 1,
     "metadata": {},
     "output_type": "execute_result"
    }
   ],
   "source": [
    "class Salary:\n",
    "    def __init__(self, pay, bonus):\n",
    "        self.pay = pay\n",
    "        self.bonus = bonus\n",
    "    def annual_salary(self):\n",
    "        return (self.pay*12 + self.bonus)\n",
    "\n",
    "class Employee:\n",
    "    def __init__(self, name, age, pay, bonus):\n",
    "        self.name = name\n",
    "        self.age = age\n",
    "        self.obj_salary = Salary(pay, bonus)\n",
    "    def total_salary(self):\n",
    "        return self.obj_salary.annual_salary()\n",
    "\n",
    "emp = Employee(\"Kavitha\", 27, 60000, 0)\n",
    "emp.total_salary()"
   ]
  },
  {
   "cell_type": "code",
   "execution_count": null,
   "metadata": {},
   "outputs": [],
   "source": []
  }
 ],
 "metadata": {
  "kernelspec": {
   "display_name": "Python 3",
   "language": "python",
   "name": "python3"
  },
  "language_info": {
   "codemirror_mode": {
    "name": "ipython",
    "version": 3
   },
   "file_extension": ".py",
   "mimetype": "text/x-python",
   "name": "python",
   "nbconvert_exporter": "python",
   "pygments_lexer": "ipython3",
   "version": "3.7.3"
  }
 },
 "nbformat": 4,
 "nbformat_minor": 2
}
