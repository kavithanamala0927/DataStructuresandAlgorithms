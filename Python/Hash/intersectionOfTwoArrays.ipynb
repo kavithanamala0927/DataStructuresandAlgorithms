{
 "cells": [
  {
   "cell_type": "code",
   "execution_count": 32,
   "metadata": {},
   "outputs": [
    {
     "data": {
      "text/plain": [
       "1"
      ]
     },
     "execution_count": 32,
     "metadata": {},
     "output_type": "execute_result"
    }
   ],
   "source": [
    "def intersectionOfTwoArrays(a,b,n,m):\n",
    "    temp = set()\n",
    "    #code here\n",
    "    if n < m:\n",
    "        for i in a:\n",
    "            if i in b:\n",
    "                temp.add(i)\n",
    "    else:\n",
    "        for i in b:\n",
    "            if i in a:\n",
    "                temp.add(i)\n",
    "    return (len(temp))\n",
    "a = [4,4]\n",
    "b = [1,4,2,3,5,4]\n",
    "n = len(a)\n",
    "m = len(b)\n",
    "intersectionOfTwoArrays(a,b,n,m)"
   ]
  },
  {
   "cell_type": "code",
   "execution_count": null,
   "metadata": {},
   "outputs": [],
   "source": []
  }
 ],
 "metadata": {
  "kernelspec": {
   "display_name": "Python 3",
   "language": "python",
   "name": "python3"
  },
  "language_info": {
   "codemirror_mode": {
    "name": "ipython",
    "version": 3
   },
   "file_extension": ".py",
   "mimetype": "text/x-python",
   "name": "python",
   "nbconvert_exporter": "python",
   "pygments_lexer": "ipython3",
   "version": "3.7.3"
  }
 },
 "nbformat": 4,
 "nbformat_minor": 2
}
