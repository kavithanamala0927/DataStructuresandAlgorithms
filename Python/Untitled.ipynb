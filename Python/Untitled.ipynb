{
 "cells": [
  {
   "cell_type": "code",
   "execution_count": 7,
   "metadata": {},
   "outputs": [],
   "source": [
    "class Student:\n",
    "    def __init__(self):\n",
    "        self.sno = 100\n",
    "        self.sname = \"Kavitha\"\n",
    "    def display(self):\n",
    "        self.rank = 1\n",
    "o = Student()\n",
    "o.display()\n",
    "o.marks = 95"
   ]
  },
  {
   "cell_type": "code",
   "execution_count": 8,
   "metadata": {},
   "outputs": [
    {
     "data": {
      "text/plain": [
       "{'sno': 100, 'sname': 'Kavitha', 'rank': 1, 'marks': 95}"
      ]
     },
     "execution_count": 8,
     "metadata": {},
     "output_type": "execute_result"
    }
   ],
   "source": [
    "o.__dict__"
   ]
  },
  {
   "cell_type": "code",
   "execution_count": 97,
   "metadata": {},
   "outputs": [],
   "source": [
    "from collections import Counter\n",
    "def anagram(s):\n",
    "    length_s = len(s)\n",
    "    if length_s % 2 == 0:\n",
    "        half = length_s//2\n",
    "        first = s[0:half]\n",
    "        second = s[half::]\n",
    "        first_f = Counter(first)\n",
    "        second_f = Counter(second)\n",
    "        x = Counter(first_f)\n",
    "        b = Counter(second_f)\n",
    "        val = x - b\n",
    "        print (sum(val.values()))\n",
    "    else:\n",
    "        return -1\n"
   ]
  },
  {
   "cell_type": "code",
   "execution_count": 98,
   "metadata": {},
   "outputs": [
    {
     "name": "stdout",
     "output_type": "stream",
     "text": [
      "3\n"
     ]
    }
   ],
   "source": [
    "anagram(\"asdfjoieufoa\")"
   ]
  },
  {
   "cell_type": "code",
   "execution_count": 132,
   "metadata": {},
   "outputs": [
    {
     "name": "stdout",
     "output_type": "stream",
     "text": [
      "3\n",
      "This line has junk text\n",
      "Neither\n",
      "121.18.19.20\n",
      "IPv4\n",
      "2001:0db8:0000:0000:0000:ff00:0042:8329\n",
      "IPv6\n"
     ]
    }
   ],
   "source": [
    "import re\n",
    "def checkValidIPAddress(num):\n",
    "    for i in range(num):\n",
    "        inp = input()\n",
    "        ipv4 = re.compile(('^'+\"{p}\\.\"*3+\"{p}$\").format(p = \"(25[0-5]|2[0-4]\\d|[01]?\\d?\\d)\"))\n",
    "        ipv6 = re.compile(('^'+\"{v}:\"*7+\"{v}$\").format(v=\"[0-9A-Fa-f]{1,4}\"))\n",
    "        if ipv4.match(inp):\n",
    "            print (\"IPv4\")\n",
    "        elif ipv6.match(inp):\n",
    "            print (\"IPv6\")\n",
    "        else:\n",
    "            print (\"Neither\")\n",
    "        \n",
    "\n",
    "        \n",
    "n = int(input())\n",
    "checkValidIPAddress(n)"
   ]
  },
  {
   "cell_type": "code",
   "execution_count": null,
   "metadata": {},
   "outputs": [],
   "source": []
  },
  {
   "cell_type": "code",
   "execution_count": null,
   "metadata": {},
   "outputs": [],
   "source": [
    "1"
   ]
  }
 ],
 "metadata": {
  "kernelspec": {
   "display_name": "Python 3",
   "language": "python",
   "name": "python3"
  },
  "language_info": {
   "codemirror_mode": {
    "name": "ipython",
    "version": 3
   },
   "file_extension": ".py",
   "mimetype": "text/x-python",
   "name": "python",
   "nbconvert_exporter": "python",
   "pygments_lexer": "ipython3",
   "version": "3.7.3"
  }
 },
 "nbformat": 4,
 "nbformat_minor": 2
}
