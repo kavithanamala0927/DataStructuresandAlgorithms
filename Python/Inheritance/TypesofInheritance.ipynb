{
 "cells": [
  {
   "cell_type": "markdown",
   "metadata": {},
   "source": [
    "## Single Inheritance"
   ]
  },
  {
   "cell_type": "code",
   "execution_count": 22,
   "metadata": {},
   "outputs": [
    {
     "name": "stdout",
     "output_type": "stream",
     "text": [
      "Child\n",
      "Parent\n",
      "Parent show method\n"
     ]
    }
   ],
   "source": [
    "#Single base class and single derived class\n",
    "class Parent:\n",
    "    def display(self):\n",
    "        print (\"Parent\")\n",
    "    def show(self):\n",
    "        print (\"Parent show method\")\n",
    "    \n",
    "class Child(Parent):\n",
    "    def display(self):\n",
    "        print (\"Child\")\n",
    "        Parent.display(self)\n",
    "\n",
    "obj = Child()\n",
    "obj.display()\n",
    "obj.show()\n",
    "#Parent.display(obj)"
   ]
  },
  {
   "cell_type": "markdown",
   "metadata": {},
   "source": [
    "## Multilevel Inheritance"
   ]
  },
  {
   "cell_type": "code",
   "execution_count": 21,
   "metadata": {},
   "outputs": [
    {
     "name": "stdout",
     "output_type": "stream",
     "text": [
      "Child\n",
      "Parent\n",
      "GrandParent\n"
     ]
    }
   ],
   "source": [
    "#Deriving properties level-wise\n",
    "class GrandParent:\n",
    "    def gdisplay(self):\n",
    "        print (\"GrandParent\")\n",
    "\n",
    "class Parent(GrandParent):\n",
    "    def pdisplay(self):\n",
    "        print (\"Parent\")\n",
    "\n",
    "class Child(Parent):\n",
    "    def cdisplay(self):\n",
    "        print (\"Child\")\n",
    "\n",
    "obj = Child()\n",
    "obj.cdisplay()\n",
    "obj.pdisplay()\n",
    "obj.gdisplay()"
   ]
  },
  {
   "cell_type": "markdown",
   "metadata": {},
   "source": [
    "## Multiple Inheritance"
   ]
  },
  {
   "cell_type": "code",
   "execution_count": 20,
   "metadata": {},
   "outputs": [
    {
     "name": "stdout",
     "output_type": "stream",
     "text": [
      "Child\n",
      "Mother\n",
      "Father\n",
      "Father show method\n"
     ]
    }
   ],
   "source": [
    "#Mulple base classes single derived class.\n",
    "class Father:\n",
    "    def fdisplay(self):\n",
    "        print (\"Father\")\n",
    "    def show(self):\n",
    "        print (\"Father show method\")\n",
    "\n",
    "class Mother:\n",
    "    def mdisplay(self):\n",
    "        print (\"Mother\")\n",
    "    def show(self):\n",
    "        print (\"Mother show method\")\n",
    "    \n",
    "class Child(Father, Mother):\n",
    "    def cdisplay(self):\n",
    "        print (\"Child\")\n",
    "\n",
    "obj = Child()\n",
    "obj.cdisplay()\n",
    "obj.mdisplay()\n",
    "obj.fdisplay()\n",
    "obj.show()"
   ]
  },
  {
   "cell_type": "markdown",
   "metadata": {},
   "source": [
    "## Hierarchical Inheritance"
   ]
  },
  {
   "cell_type": "code",
   "execution_count": null,
   "metadata": {},
   "outputs": [],
   "source": [
    "## Single base class and multiple derived classes\n",
    "class Parent:\n",
    "    def pdisplay(self):\n",
    "        print (\"Parent\")\n",
    "\n",
    "class Child1(Parent):\n",
    "    def c1display(self):\n",
    "        print (\"Child1\")\n",
    "\n",
    "class Child2(Parent):\n",
    "    def c2display(self):\n",
    "        print (\"Child2\")\n",
    "\n",
    "c1 = Child1()\n",
    "c1.c1display()\n",
    "#c1.c2display()\n",
    "\n",
    "c2 = Child2()\n",
    "c2.c2display()"
   ]
  },
  {
   "cell_type": "markdown",
   "metadata": {},
   "source": [
    "## Cyclic Inheritance"
   ]
  },
  {
   "cell_type": "code",
   "execution_count": 32,
   "metadata": {},
   "outputs": [
    {
     "ename": "NameError",
     "evalue": "name 'B' is not defined",
     "output_type": "error",
     "traceback": [
      "\u001b[1;31m---------------------------------------------------------------------------\u001b[0m",
      "\u001b[1;31mNameError\u001b[0m                                 Traceback (most recent call last)",
      "\u001b[1;32m<ipython-input-32-7714a0a429e6>\u001b[0m in \u001b[0;36m<module>\u001b[1;34m\u001b[0m\n\u001b[0;32m      3\u001b[0m \u001b[1;33m\u001b[0m\u001b[0m\n\u001b[0;32m      4\u001b[0m \u001b[1;33m\u001b[0m\u001b[0m\n\u001b[1;32m----> 5\u001b[1;33m \u001b[1;32mclass\u001b[0m \u001b[0mA\u001b[0m\u001b[1;33m(\u001b[0m\u001b[0mB\u001b[0m\u001b[1;33m)\u001b[0m\u001b[1;33m:\u001b[0m\u001b[1;33m\u001b[0m\u001b[1;33m\u001b[0m\u001b[0m\n\u001b[0m\u001b[0;32m      6\u001b[0m     \u001b[1;32mpass\u001b[0m\u001b[1;33m\u001b[0m\u001b[1;33m\u001b[0m\u001b[0m\n\u001b[0;32m      7\u001b[0m \u001b[1;32mclass\u001b[0m \u001b[0mB\u001b[0m\u001b[1;33m(\u001b[0m\u001b[0mA\u001b[0m\u001b[1;33m)\u001b[0m\u001b[1;33m:\u001b[0m\u001b[1;33m\u001b[0m\u001b[1;33m\u001b[0m\u001b[0m\n",
      "\u001b[1;31mNameError\u001b[0m: name 'B' is not defined"
     ]
    }
   ],
   "source": [
    "#One class to another class in cyclic way\n",
    "\n",
    "\n",
    "\n",
    "class A(B):\n",
    "    pass\n",
    "class B(A):\n",
    "    pass\n",
    "\n",
    "class A(A):pass"
   ]
  },
  {
   "cell_type": "markdown",
   "metadata": {},
   "source": [
    "## Hybrid Inheritance"
   ]
  },
  {
   "cell_type": "code",
   "execution_count": 55,
   "metadata": {},
   "outputs": [
    {
     "name": "stdout",
     "output_type": "stream",
     "text": [
      "Class H\n",
      "[<class '__main__.H'>, <class '__main__.F'>, <class '__main__.E'>, <class '__main__.D'>, <class '__main__.A'>, <class '__main__.B'>, <class '__main__.C'>, <class 'object'>]\n",
      "[<class '__main__.G'>, <class '__main__.F'>, <class '__main__.E'>, <class '__main__.D'>, <class '__main__.A'>, <class '__main__.B'>, <class '__main__.C'>, <class 'object'>]\n",
      "[<class '__main__.F'>, <class '__main__.E'>, <class '__main__.D'>, <class '__main__.A'>, <class '__main__.B'>, <class '__main__.C'>, <class 'object'>]\n",
      "[<class '__main__.E'>, <class '__main__.D'>, <class '__main__.A'>, <class '__main__.B'>, <class '__main__.C'>, <class 'object'>]\n",
      "[<class '__main__.D'>, <class '__main__.A'>, <class '__main__.B'>, <class '__main__.C'>, <class 'object'>]\n",
      "[<class '__main__.C'>, <class 'object'>]\n",
      "[<class '__main__.B'>, <class 'object'>]\n",
      "[<class '__main__.A'>, <class 'object'>]\n"
     ]
    }
   ],
   "source": [
    "#Combination of single, multiple, multilevel and hierarchical inheritance\n",
    "\n",
    "class A:\n",
    "    #pass\n",
    "    def display(self):\n",
    "        print (\"Class A\")\n",
    "class B:\n",
    "    #pass\n",
    "    def display(self):\n",
    "        print (\"Class B\")\n",
    "class C:\n",
    "    #pass\n",
    "    def display(self):\n",
    "        print (\"Class C\")\n",
    "class D(A,B,C):\n",
    "    #pass\n",
    "    def display(self):\n",
    "        print (\"Class D\")\n",
    "class E(D):\n",
    "    #pass\n",
    "    def display(self):\n",
    "        print (\"Class E\")\n",
    "class F(E):\n",
    "    #pass\n",
    "    def display(self):\n",
    "        print (\"Class F\")\n",
    "class G(F):\n",
    "    def display(self):\n",
    "        print (\"Class G\")\n",
    "class H(F):\n",
    "    def display(self):\n",
    "        print (\"Class H\")\n",
    "    def hmethod(self):\n",
    "        print (\"H Method\")\n",
    "\n",
    "h = H()\n",
    "h.display()\n",
    "print (H.mro())\n",
    "print (G.mro())\n",
    "print (F.mro())\n",
    "print (E.mro())\n",
    "print (D.mro())\n",
    "print (C.mro())\n",
    "print (B.mro())\n",
    "print (A.mro())"
   ]
  },
  {
   "cell_type": "code",
   "execution_count": null,
   "metadata": {},
   "outputs": [],
   "source": []
  }
 ],
 "metadata": {
  "kernelspec": {
   "display_name": "Python 3",
   "language": "python",
   "name": "python3"
  },
  "language_info": {
   "codemirror_mode": {
    "name": "ipython",
    "version": 3
   },
   "file_extension": ".py",
   "mimetype": "text/x-python",
   "name": "python",
   "nbconvert_exporter": "python",
   "pygments_lexer": "ipython3",
   "version": "3.7.3"
  }
 },
 "nbformat": 4,
 "nbformat_minor": 2
}
