{
 "cells": [
  {
   "cell_type": "code",
   "execution_count": 48,
   "metadata": {},
   "outputs": [
    {
     "data": {
      "text/plain": [
       "[4, -1, 5, 6, 7]"
      ]
     },
     "execution_count": 48,
     "metadata": {},
     "output_type": "execute_result"
    }
   ],
   "source": [
    "arr = [4,5,6,7,-1]\n",
    "def rearrange(arr, n):\n",
    "    pos = []\n",
    "    neg = []\n",
    "    for i in range(n):\n",
    "        if arr[i] >= 0:\n",
    "            pos.append(arr[i])\n",
    "        else:\n",
    "            neg.append(arr[i])\n",
    "            \n",
    "    poi = 0\n",
    "    negi = 1\n",
    "    arrindex = 0\n",
    "    i = 0\n",
    "    while i < len(pos) and i < len(neg):\n",
    "        arr[poi] = pos[i]\n",
    "        arr[negi] = neg[i]\n",
    "        poi += 2\n",
    "        negi += 2\n",
    "        arrindex += 2\n",
    "        i += 1 \n",
    "    if len(pos) > len(neg):\n",
    "        while i < len(pos):\n",
    "            arr[arrindex] = pos[i]\n",
    "            i+= 1\n",
    "            arrindex += 1\n",
    "    else:\n",
    "        while i < len(neg):\n",
    "            arr[arrindex] = neg[i]\n",
    "            i+=1\n",
    "            arrindex += 1\n",
    "    return arr\n",
    "        \n",
    "rearrange(arr, len(arr))      \n",
    "\n",
    "        \n",
    "        \n",
    "    \n",
    "    "
   ]
  },
  {
   "cell_type": "code",
   "execution_count": 23,
   "metadata": {},
   "outputs": [
    {
     "data": {
      "text/plain": [
       "False"
      ]
     },
     "execution_count": 23,
     "metadata": {},
     "output_type": "execute_result"
    }
   ],
   "source": [
    " 1 < 1"
   ]
  },
  {
   "cell_type": "code",
   "execution_count": null,
   "metadata": {},
   "outputs": [],
   "source": []
  }
 ],
 "metadata": {
  "kernelspec": {
   "display_name": "Python 3",
   "language": "python",
   "name": "python3"
  },
  "language_info": {
   "codemirror_mode": {
    "name": "ipython",
    "version": 3
   },
   "file_extension": ".py",
   "mimetype": "text/x-python",
   "name": "python",
   "nbconvert_exporter": "python",
   "pygments_lexer": "ipython3",
   "version": "3.7.3"
  }
 },
 "nbformat": 4,
 "nbformat_minor": 2
}
