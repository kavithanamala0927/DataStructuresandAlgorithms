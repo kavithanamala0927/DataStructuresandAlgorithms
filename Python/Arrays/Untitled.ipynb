{
 "cells": [
  {
   "cell_type": "code",
   "execution_count": 14,
   "metadata": {},
   "outputs": [
    {
     "data": {
      "text/plain": [
       "defaultdict(int, {1: 1, 2: 2, 3: 1, 4: 1})"
      ]
     },
     "execution_count": 14,
     "metadata": {},
     "output_type": "execute_result"
    }
   ],
   "source": [
    "from collections import defaultdict\n",
    "def countSorteElements(arr, n):\n",
    "    \n",
    "    d = defaultdict(int)\n",
    "    for i in arr:\n",
    "        #print (i)\n",
    "        start = 0\n",
    "        end = n-1\n",
    "        while start <= end:\n",
    "            mid = (start+end)//2\n",
    "            #print (i, arr[mid])\n",
    "            if i == arr[mid]:\n",
    "                #print (d[i], mid)\n",
    "                d[i] += 1\n",
    "                start = mid+1\n",
    "            elif i < arr[mid]:\n",
    "                end = mid - 1\n",
    "            else:\n",
    "                start = mid + 1\n",
    "    return d\n",
    "arr = [1,2,2,3,4]\n",
    "countSorteElements(arr, len(arr))\n",
    "                "
   ]
  },
  {
   "cell_type": "code",
   "execution_count": 78,
   "metadata": {},
   "outputs": [
    {
     "data": {
      "text/plain": [
       "defaultdict(int, {2: 1, 3: -1, 4: 0})"
      ]
     },
     "execution_count": 78,
     "metadata": {},
     "output_type": "execute_result"
    }
   ],
   "source": [
    "from collections import defaultdict\n",
    "def countSortedElements(arr, n): \n",
    "    d = defaultdict(int)\n",
    "    return frequency(arr, 0, n-1,d)\n",
    "def frequency(arr,start,end, d):  \n",
    "        if arr[start] == arr[end]:        \n",
    "            d[arr[start]] += \n",
    "        else:\n",
    "            mid = (start+end)//2\n",
    "            frequency(arr, start, mid-1,d)\n",
    "            frequency(arr, mid+1, end, d)\n",
    "        return d\n",
    "        \n",
    "\n",
    "arr = [2,2,3,3,4]\n",
    "countSortedElements(arr, len(arr))"
   ]
  },
  {
   "cell_type": "code",
   "execution_count": 84,
   "metadata": {},
   "outputs": [
    {
     "name": "stdout",
     "output_type": "stream",
     "text": [
      "[0, 2, 2, 1]\n"
     ]
    }
   ],
   "source": [
    "arr = [2,2,3,3,4]\n",
    "n = len(arr)\n",
    "hash = [0]*arr[n-1]\n",
    "for i in range(n):\n",
    "    hash[arr[i]-1] += 1\n",
    "print (hash)"
   ]
  },
  {
   "cell_type": "code",
   "execution_count": null,
   "metadata": {},
   "outputs": [],
   "source": []
  }
 ],
 "metadata": {
  "kernelspec": {
   "display_name": "Python 3",
   "language": "python",
   "name": "python3"
  },
  "language_info": {
   "codemirror_mode": {
    "name": "ipython",
    "version": 3
   },
   "file_extension": ".py",
   "mimetype": "text/x-python",
   "name": "python",
   "nbconvert_exporter": "python",
   "pygments_lexer": "ipython3",
   "version": "3.7.3"
  }
 },
 "nbformat": 4,
 "nbformat_minor": 2
}
