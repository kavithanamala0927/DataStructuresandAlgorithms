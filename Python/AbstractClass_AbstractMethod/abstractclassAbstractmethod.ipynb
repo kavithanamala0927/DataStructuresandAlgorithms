{
 "cells": [
  {
   "cell_type": "code",
   "execution_count": 11,
   "metadata": {},
   "outputs": [
    {
     "name": "stdout",
     "output_type": "stream",
     "text": [
      "Display method\n",
      "Show method\n"
     ]
    }
   ],
   "source": [
    "from abc import ABC, abstractmethod\n",
    "\n",
    "class AClass(ABC):\n",
    "    @abstractmethod\n",
    "    def display(self):\n",
    "        None\n",
    "    \n",
    "    @abstractmethod\n",
    "    def show(self):\n",
    "        None\n",
    "#o = AClass()\n",
    "class Demo(AClass):\n",
    "    def display(self):\n",
    "        print (\"Implementation of AbstractMethod\")\n",
    "        \n",
    "class Concrete(AClass):\n",
    "    def display(self):\n",
    "        print (\"Display method\")\n",
    "    def show(self):\n",
    "        print (\"Show method\")\n",
    "obj = Concrete()\n",
    "obj.display()\n",
    "obj.show()"
   ]
  },
  {
   "cell_type": "code",
   "execution_count": null,
   "metadata": {},
   "outputs": [],
   "source": []
  }
 ],
 "metadata": {
  "kernelspec": {
   "display_name": "Python 3",
   "language": "python",
   "name": "python3"
  },
  "language_info": {
   "codemirror_mode": {
    "name": "ipython",
    "version": 3
   },
   "file_extension": ".py",
   "mimetype": "text/x-python",
   "name": "python",
   "nbconvert_exporter": "python",
   "pygments_lexer": "ipython3",
   "version": "3.7.3"
  }
 },
 "nbformat": 4,
 "nbformat_minor": 2
}
