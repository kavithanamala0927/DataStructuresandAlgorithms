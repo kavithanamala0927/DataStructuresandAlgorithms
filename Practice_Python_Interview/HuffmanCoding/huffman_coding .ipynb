{
 "cells": [
  {
   "cell_type": "code",
   "execution_count": 7,
   "metadata": {},
   "outputs": [
    {
     "name": "stdout",
     "output_type": "stream",
     "text": [
      "[('A', 5), ('B', 1), ('C', 6), ('D', 3)]\n"
     ]
    }
   ],
   "source": [
    "string = \"BCAADDDCCACACAC\"\n",
    "freq_dict = {}\n",
    "for char in string:\n",
    "    if char not in freq_dict:\n",
    "        freq_dict[char] = 0\n",
    "    freq_dict[char] += 1\n",
    "print (sorted(freq_dict.items()))"
   ]
  },
  {
   "cell_type": "code",
   "execution_count": null,
   "metadata": {},
   "outputs": [],
   "source": []
  }
 ],
 "metadata": {
  "kernelspec": {
   "display_name": "Python 3",
   "language": "python",
   "name": "python3"
  },
  "language_info": {
   "codemirror_mode": {
    "name": "ipython",
    "version": 3
   },
   "file_extension": ".py",
   "mimetype": "text/x-python",
   "name": "python",
   "nbconvert_exporter": "python",
   "pygments_lexer": "ipython3",
   "version": "3.7.3"
  }
 },
 "nbformat": 4,
 "nbformat_minor": 2
}
