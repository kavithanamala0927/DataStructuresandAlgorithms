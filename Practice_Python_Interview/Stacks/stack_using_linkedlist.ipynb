{
 "cells": [
  {
   "cell_type": "code",
   "execution_count": 18,
   "metadata": {},
   "outputs": [],
   "source": [
    "class Node:\n",
    "    def __init__(self, data):\n",
    "        self.data = data\n",
    "        self.next = None\n",
    "class Stack:\n",
    "    def __init__(self):\n",
    "        self.top = Node(None)\n",
    "    def push(self, element):\n",
    "        new = Node(element)\n",
    "        print (\"Inserting Element\", element)\n",
    "        new.data = element\n",
    "        new.next = self.top\n",
    "        self.top = new\n",
    "    def display(self):\n",
    "        temp = self.top\n",
    "        if self.top == None:\n",
    "            print (\"Stack is Empty\")\n",
    "        else:\n",
    "            while (temp != None):\n",
    "                print (temp.data)\n",
    "                temp = temp.next\n",
    "    def peek(self):\n",
    "        if (self.top == None):\n",
    "            print (\"Stack is Empty\")\n",
    "        else:\n",
    "            print (\"Peek Element\", self.top.data)\n",
    "    def pop(self):\n",
    "        temp = self.top\n",
    "        if (self.top == None):\n",
    "            print (\"UNDERFLOW: Stack is Empty!!!!\")\n",
    "        else:\n",
    "            print (\"Popped Element:::\", self.top.data)\n",
    "            self.top = self.top.next\n",
    "            del temp\n",
    "            \n",
    "            \n",
    "        "
   ]
  },
  {
   "cell_type": "code",
   "execution_count": 22,
   "metadata": {},
   "outputs": [
    {
     "name": "stdout",
     "output_type": "stream",
     "text": [
      "Inserting Element 2\n",
      "Inserting Element 3\n",
      "Inserting Element 10\n",
      "10\n",
      "3\n",
      "2\n",
      "None\n",
      "Peek Element 10\n",
      "Popped Element::: 10\n",
      "Peek Element 3\n",
      "3\n",
      "2\n",
      "None\n"
     ]
    }
   ],
   "source": [
    "s = Stack()\n",
    "s.push(2)\n",
    "s.push(3)\n",
    "s.push(10)\n",
    "s.display()\n",
    "s.peek()\n",
    "s.pop()\n",
    "s.peek()\n",
    "s.display()"
   ]
  },
  {
   "cell_type": "code",
   "execution_count": null,
   "metadata": {},
   "outputs": [],
   "source": []
  }
 ],
 "metadata": {
  "kernelspec": {
   "display_name": "Python 3",
   "language": "python",
   "name": "python3"
  },
  "language_info": {
   "codemirror_mode": {
    "name": "ipython",
    "version": 3
   },
   "file_extension": ".py",
   "mimetype": "text/x-python",
   "name": "python",
   "nbconvert_exporter": "python",
   "pygments_lexer": "ipython3",
   "version": "3.7.3"
  }
 },
 "nbformat": 4,
 "nbformat_minor": 2
}
