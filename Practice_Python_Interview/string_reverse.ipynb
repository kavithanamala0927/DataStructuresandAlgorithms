{
 "cells": [
  {
   "cell_type": "code",
   "execution_count": 6,
   "metadata": {},
   "outputs": [
    {
     "name": "stdin",
     "output_type": "stream",
     "text": [
      " 2\n",
      " asd.def.ads\n"
     ]
    },
    {
     "name": "stdout",
     "output_type": "stream",
     "text": [
      "ads.def.asd\n"
     ]
    },
    {
     "name": "stdin",
     "output_type": "stream",
     "text": [
      " sd.gth.er\n"
     ]
    },
    {
     "name": "stdout",
     "output_type": "stream",
     "text": [
      "er.gth.sd\n"
     ]
    }
   ],
   "source": [
    "input_num = int(input())\n",
    "a = []\n",
    "for i in range(input_num):\n",
    "    s = list(input().split('.'))\n",
    "    s = '.'.join(s[::-1])\n",
    "    print (s)"
   ]
  },
  {
   "cell_type": "code",
   "execution_count": null,
   "metadata": {},
   "outputs": [],
   "source": [
    "input_num = int(input())\n",
    "a = ''\n",
    "for i in range(input_num):\n",
    "    string = input()\n",
    "    for i in string:\n",
    "        #print (i)\n",
    "        if i not in a:\n",
    "            a += i\n",
    "    print (a)"
   ]
  },
  {
   "cell_type": "code",
   "execution_count": null,
   "metadata": {},
   "outputs": [],
   "source": []
  }
 ],
 "metadata": {
  "kernelspec": {
   "display_name": "Python 3",
   "language": "python",
   "name": "python3"
  },
  "language_info": {
   "codemirror_mode": {
    "name": "ipython",
    "version": 3
   },
   "file_extension": ".py",
   "mimetype": "text/x-python",
   "name": "python",
   "nbconvert_exporter": "python",
   "pygments_lexer": "ipython3",
   "version": "3.7.3"
  }
 },
 "nbformat": 4,
 "nbformat_minor": 2
}
