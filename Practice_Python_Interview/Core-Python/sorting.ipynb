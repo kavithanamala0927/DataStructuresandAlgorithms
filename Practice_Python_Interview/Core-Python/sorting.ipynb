{
 "cells": [
  {
   "cell_type": "code",
   "execution_count": 6,
   "metadata": {},
   "outputs": [],
   "source": [
    "def bubbleSort(array):\n",
    "    for i in range(len(array)):\n",
    "        flag = 0\n",
    "        for j in range(len(array)-1-i):\n",
    "            if array[j] > array[j+1]:\n",
    "                temp = array[j]\n",
    "                array[j] = array[j+1]\n",
    "                array[j+1] = temp\n",
    "                flag = 1\n",
    "        if flag == 0:\n",
    "            break\n",
    "    return array"
   ]
  },
  {
   "cell_type": "code",
   "execution_count": 7,
   "metadata": {},
   "outputs": [
    {
     "name": "stdout",
     "output_type": "stream",
     "text": [
      "[5, 6, 8, 14, 16]\n"
     ]
    }
   ],
   "source": [
    "array = [16,14,5,6,8]\n",
    "print (bubbleSort(array))"
   ]
  },
  {
   "cell_type": "code",
   "execution_count": 9,
   "metadata": {},
   "outputs": [
    {
     "name": "stdout",
     "output_type": "stream",
     "text": [
      "[5, 6, 8, 14, 16]\n"
     ]
    }
   ],
   "source": [
    "def insertionSort(array):\n",
    "    for i in range(1,len(array)):\n",
    "        sort = array[i]\n",
    "        j = i - 1\n",
    "        while (j >= 0 and array[j] > sort):\n",
    "            array[j+1] = array[j]\n",
    "            j -= 1\n",
    "        array[j+1] = sort\n",
    "    return array\n",
    "array = [16,14,5,6,8]\n",
    "print (insertionSort(array))\n",
    "            \n",
    "            "
   ]
  },
  {
   "cell_type": "code",
   "execution_count": 12,
   "metadata": {},
   "outputs": [
    {
     "name": "stdout",
     "output_type": "stream",
     "text": [
      "[5, 6, 8, 14, 16]\n"
     ]
    }
   ],
   "source": [
    "def selectionSort(array):\n",
    "    for i in range(len(array)):\n",
    "        sort = i\n",
    "        for j in range(i+1, len(array)):\n",
    "            if array[j] < array[sort]:\n",
    "                sort = j\n",
    "        if sort != i:\n",
    "            temp = array[i]\n",
    "            array[i] = array[sort]\n",
    "            array[sort] = temp\n",
    "    return array\n",
    "array = [16,14,5,6,8]\n",
    "print (selectionSort(array))\n",
    "            \n",
    "            "
   ]
  },
  {
   "cell_type": "code",
   "execution_count": 19,
   "metadata": {},
   "outputs": [
    {
     "name": "stdout",
     "output_type": "stream",
     "text": [
      "[8, 14, 5, 6, 16]\n"
     ]
    }
   ],
   "source": [
    "def partition(array, low, high):\n",
    "    start = low - 1\n",
    "    pivot = array[start]\n",
    "    \n",
    "            \n",
    "        "
   ]
  },
  {
   "cell_type": "code",
   "execution_count": 23,
   "metadata": {},
   "outputs": [
    {
     "name": "stdout",
     "output_type": "stream",
     "text": [
      "1945477550728\n",
      "1945477550728\n",
      "1945477533640\n",
      "1945476055624\n"
     ]
    }
   ],
   "source": [
    "import copy\n",
    "l1 = [10,20,[30,40],50]\n",
    "l2 = copy.copy(l1)\n",
    "print (id(l1[2]))\n",
    "print (id(l2[2]))\n",
    "print (id(l1))\n",
    "print (id(l2))"
   ]
  },
  {
   "cell_type": "code",
   "execution_count": 24,
   "metadata": {},
   "outputs": [
    {
     "name": "stdout",
     "output_type": "stream",
     "text": [
      "140720417380064\n",
      "140720417380064\n",
      "140720417379424\n",
      "140720417379424\n",
      "1945477533576\n",
      "1945476826184\n"
     ]
    }
   ],
   "source": [
    "import copy\n",
    "l1 = [10,20,30,50]\n",
    "l2 = copy.copy(l1)\n",
    "print (id(l1[2]))\n",
    "print (id(l2[2]))\n",
    "print (id(l1[0]))\n",
    "print (id(l2[0]))\n",
    "print (id(l1))\n",
    "print (id(l2))"
   ]
  },
  {
   "cell_type": "code",
   "execution_count": null,
   "metadata": {},
   "outputs": [],
   "source": []
  }
 ],
 "metadata": {
  "kernelspec": {
   "display_name": "Python 3",
   "language": "python",
   "name": "python3"
  },
  "language_info": {
   "codemirror_mode": {
    "name": "ipython",
    "version": 3
   },
   "file_extension": ".py",
   "mimetype": "text/x-python",
   "name": "python",
   "nbconvert_exporter": "python",
   "pygments_lexer": "ipython3",
   "version": "3.7.3"
  }
 },
 "nbformat": 4,
 "nbformat_minor": 2
}
