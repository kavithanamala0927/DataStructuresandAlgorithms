{
 "cells": [
  {
   "cell_type": "code",
   "execution_count": 6,
   "metadata": {},
   "outputs": [
    {
     "name": "stdout",
     "output_type": "stream",
     "text": [
      "Location:: 3\n",
      "Element found\n"
     ]
    }
   ],
   "source": [
    "def linear(array, element):\n",
    "    found = 0\n",
    "    for i in range(len(array)):\n",
    "        if array[i] == element:\n",
    "            print (\"Location::\", i)\n",
    "            found = 1\n",
    "            break\n",
    "    if found:\n",
    "        print (\"Element found\")\n",
    "    else:\n",
    "        print (\"Element not found\")\n",
    "ar = [15,5,20,35,2,42,67,17]\n",
    "se = 35\n",
    "linear(ar, se)"
   ]
  },
  {
   "cell_type": "code",
   "execution_count": 19,
   "metadata": {},
   "outputs": [
    {
     "name": "stdout",
     "output_type": "stream",
     "text": [
      "Element not found\n"
     ]
    }
   ],
   "source": [
    "def binary(array, element):\n",
    "    left = 0\n",
    "    found = 0\n",
    "    right = len(array) - 1\n",
    "    \n",
    "    #print (mid)\n",
    "    while (left < right):\n",
    "        mid = (left + right)//2\n",
    "        if array[mid] == element:\n",
    "            print (\"Location::\", mid)\n",
    "            found = 1\n",
    "            return \n",
    "        elif element > array[mid]:\n",
    "            left = mid + 1\n",
    "        else:\n",
    "            right = mid - 1\n",
    "    if found:\n",
    "        print (\"Element found\")\n",
    "    else:\n",
    "        print (\"Element not found\")\n",
    "ar = [5,9,17, 23, 25, 45, 59, 63, 71, 89]\n",
    "data = 60\n",
    "binary(ar, data)\n",
    "    "
   ]
  },
  {
   "cell_type": "code",
   "execution_count": null,
   "metadata": {},
   "outputs": [],
   "source": []
  }
 ],
 "metadata": {
  "kernelspec": {
   "display_name": "Python 3",
   "language": "python",
   "name": "python3"
  },
  "language_info": {
   "codemirror_mode": {
    "name": "ipython",
    "version": 3
   },
   "file_extension": ".py",
   "mimetype": "text/x-python",
   "name": "python",
   "nbconvert_exporter": "python",
   "pygments_lexer": "ipython3",
   "version": "3.7.3"
  }
 },
 "nbformat": 4,
 "nbformat_minor": 2
}
