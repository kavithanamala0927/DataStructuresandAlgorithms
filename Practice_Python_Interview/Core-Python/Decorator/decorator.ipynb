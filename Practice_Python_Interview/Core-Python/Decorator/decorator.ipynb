{
 "cells": [
  {
   "cell_type": "code",
   "execution_count": 35,
   "metadata": {},
   "outputs": [],
   "source": [
    "def wish(name):\n",
    "    print (f\"Hello {name} Good morning\")"
   ]
  },
  {
   "cell_type": "code",
   "execution_count": 36,
   "metadata": {},
   "outputs": [
    {
     "name": "stdout",
     "output_type": "stream",
     "text": [
      "Hello kavitha Good morning\n",
      "Hello harish Good morning\n"
     ]
    }
   ],
   "source": [
    "wish(\"kavitha\")\n",
    "wish(\"harish\")"
   ]
  },
  {
   "cell_type": "code",
   "execution_count": 22,
   "metadata": {},
   "outputs": [
    {
     "name": "stdout",
     "output_type": "stream",
     "text": [
      "Hello Vinodh Good Morning!!!\n"
     ]
    },
    {
     "data": {
      "text/plain": [
       "'Hello Kavitha All the best'"
      ]
     },
     "execution_count": 22,
     "metadata": {},
     "output_type": "execute_result"
    }
   ],
   "source": [
    "def decor(func):\n",
    "    def inner(name):\n",
    "        if name == \"Kavitha\":\n",
    "            return (\"Hello Kavitha All the best\")\n",
    "        else:\n",
    "            func(name)\n",
    "    return inner\n",
    "@decor\n",
    "def wish(name):\n",
    "    print (f\"Hello {name} Good Morning!!!\")\n",
    "wish(\"Vinodh\")\n",
    "wish(\"Kavitha\")"
   ]
  },
  {
   "cell_type": "code",
   "execution_count": 24,
   "metadata": {},
   "outputs": [
    {
     "name": "stdout",
     "output_type": "stream",
     "text": [
      "Hello Harish Good Morning!!!\n"
     ]
    },
    {
     "data": {
      "text/plain": [
       "'Hello Kavitha All the best'"
      ]
     },
     "execution_count": 24,
     "metadata": {},
     "output_type": "execute_result"
    }
   ],
   "source": [
    "decorfunction = decor(wish)\n",
    "wish(\"Harish\")\n",
    "decorfunction(\"Kavitha\")"
   ]
  },
  {
   "cell_type": "code",
   "execution_count": 34,
   "metadata": {},
   "outputs": [
    {
     "name": "stdout",
     "output_type": "stream",
     "text": [
      "5.0\n",
      "4.0\n",
      "OOPs...cannot divide with zero\n"
     ]
    }
   ],
   "source": [
    "def divisionDecor(div):\n",
    "    def inner(x,y):\n",
    "        if y == 0:\n",
    "            print (\"OOPs...cannot divide with zero\")\n",
    "            return\n",
    "        else:\n",
    "            return div(x,y)\n",
    "    return inner\n",
    "@divisionDecor           \n",
    "def division(a,b):\n",
    "    print (a/b)\n",
    "division(10, 2)\n",
    "division (20,5)\n",
    "division (10,0)"
   ]
  },
  {
   "cell_type": "code",
   "execution_count": null,
   "metadata": {},
   "outputs": [],
   "source": []
  }
 ],
 "metadata": {
  "kernelspec": {
   "display_name": "Python 3",
   "language": "python",
   "name": "python3"
  },
  "language_info": {
   "codemirror_mode": {
    "name": "ipython",
    "version": 3
   },
   "file_extension": ".py",
   "mimetype": "text/x-python",
   "name": "python",
   "nbconvert_exporter": "python",
   "pygments_lexer": "ipython3",
   "version": "3.7.3"
  }
 },
 "nbformat": 4,
 "nbformat_minor": 2
}
