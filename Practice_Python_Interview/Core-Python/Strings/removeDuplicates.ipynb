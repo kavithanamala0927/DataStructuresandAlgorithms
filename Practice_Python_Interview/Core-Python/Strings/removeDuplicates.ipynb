{
 "cells": [
  {
   "cell_type": "code",
   "execution_count": 3,
   "metadata": {},
   "outputs": [
    {
     "name": "stdout",
     "output_type": "stream",
     "text": [
      "kavith\n"
     ]
    }
   ],
   "source": [
    "s = \"kaakaavivvthhhaaa\"\n",
    "i = 0\n",
    "result = \"\"\n",
    "while (i < len(s)):\n",
    "    if s[i] not in result:\n",
    "        result += s[i]\n",
    "    i = i + 1\n",
    "print (result)\n",
    "    \n",
    "    "
   ]
  },
  {
   "cell_type": "code",
   "execution_count": 13,
   "metadata": {},
   "outputs": [
    {
     "name": "stdout",
     "output_type": "stream",
     "text": [
      "vaikht\n"
     ]
    }
   ],
   "source": [
    "s = \"kaakaavivvthhhaaa\" \n",
    "print (''.join(set(s)))"
   ]
  },
  {
   "cell_type": "code",
   "execution_count": null,
   "metadata": {},
   "outputs": [],
   "source": []
  },
  {
   "cell_type": "code",
   "execution_count": null,
   "metadata": {},
   "outputs": [],
   "source": []
  }
 ],
 "metadata": {
  "kernelspec": {
   "display_name": "Python 3",
   "language": "python",
   "name": "python3"
  },
  "language_info": {
   "codemirror_mode": {
    "name": "ipython",
    "version": 3
   },
   "file_extension": ".py",
   "mimetype": "text/x-python",
   "name": "python",
   "nbconvert_exporter": "python",
   "pygments_lexer": "ipython3",
   "version": "3.7.3"
  }
 },
 "nbformat": 4,
 "nbformat_minor": 2
}
