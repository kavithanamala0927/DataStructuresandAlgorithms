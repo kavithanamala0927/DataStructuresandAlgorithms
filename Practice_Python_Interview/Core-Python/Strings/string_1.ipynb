{
 "cells": [
  {
   "cell_type": "code",
   "execution_count": 1,
   "metadata": {},
   "outputs": [
    {
     "name": "stdout",
     "output_type": "stream",
     "text": [
      "aeknbd\n"
     ]
    }
   ],
   "source": [
    "#input: a4k3b2\n",
    "#output: aeknbd\n",
    "\n",
    "s = \"a4k3b2\"\n",
    "out = ''\n",
    "for x in s:\n",
    "    if x.isalpha():\n",
    "        out = out + x\n",
    "        previous = x\n",
    "    else:\n",
    "        out = out + chr(ord(previous) + int(x))\n",
    "print (out)"
   ]
  },
  {
   "cell_type": "code",
   "execution_count": null,
   "metadata": {},
   "outputs": [],
   "source": []
  }
 ],
 "metadata": {
  "kernelspec": {
   "display_name": "Python 3",
   "language": "python",
   "name": "python3"
  },
  "language_info": {
   "codemirror_mode": {
    "name": "ipython",
    "version": 3
   },
   "file_extension": ".py",
   "mimetype": "text/x-python",
   "name": "python",
   "nbconvert_exporter": "python",
   "pygments_lexer": "ipython3",
   "version": "3.7.3"
  }
 },
 "nbformat": 4,
 "nbformat_minor": 2
}
