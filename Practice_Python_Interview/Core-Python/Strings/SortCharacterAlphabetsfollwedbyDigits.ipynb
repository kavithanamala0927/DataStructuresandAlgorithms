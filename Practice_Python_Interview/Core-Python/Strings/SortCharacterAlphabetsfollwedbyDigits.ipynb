{
 "cells": [
  {
   "cell_type": "code",
   "execution_count": 7,
   "metadata": {},
   "outputs": [
    {
     "name": "stdout",
     "output_type": "stream",
     "text": [
      "ABD134\n"
     ]
    }
   ],
   "source": [
    "S = \"B4A1D3\"\n",
    "#output : ABD134\n",
    "a = ''\n",
    "d = ''\n",
    "for x in S:\n",
    "    if x.isalpha():\n",
    "        a = a + x\n",
    "    elif x.isdigit():\n",
    "        d = d + x \n",
    "print (''.join(sorted(a))+''.join(sorted(d)))\n",
    "\n",
    "        "
   ]
  },
  {
   "cell_type": "code",
   "execution_count": null,
   "metadata": {},
   "outputs": [],
   "source": []
  }
 ],
 "metadata": {
  "kernelspec": {
   "display_name": "Python 3",
   "language": "python",
   "name": "python3"
  },
  "language_info": {
   "codemirror_mode": {
    "name": "ipython",
    "version": 3
   },
   "file_extension": ".py",
   "mimetype": "text/x-python",
   "name": "python",
   "nbconvert_exporter": "python",
   "pygments_lexer": "ipython3",
   "version": "3.7.3"
  }
 },
 "nbformat": 4,
 "nbformat_minor": 2
}
