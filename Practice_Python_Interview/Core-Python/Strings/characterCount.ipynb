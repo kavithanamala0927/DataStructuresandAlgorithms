{
 "cells": [
  {
   "cell_type": "code",
   "execution_count": 3,
   "metadata": {},
   "outputs": [
    {
     "name": "stdout",
     "output_type": "stream",
     "text": [
      "{'k': 1, 'a': 2, 'v': 1, 'i': 1, 't': 1, 'h': 1}\n",
      "k=1\n",
      "a=2\n",
      "v=1\n",
      "i=1\n",
      "t=1\n",
      "h=1\n"
     ]
    }
   ],
   "source": [
    "s=\"kavitha\"\n",
    "d = {}\n",
    "for x in s:\n",
    "    if x in d.keys():\n",
    "        d[x] += 1\n",
    "    else:\n",
    "        d[x] = 1\n",
    "print (d)\n",
    "for k,v in d.items():\n",
    "    print(\"{}={}\".format(k,v))"
   ]
  },
  {
   "cell_type": "code",
   "execution_count": null,
   "metadata": {},
   "outputs": [],
   "source": []
  }
 ],
 "metadata": {
  "kernelspec": {
   "display_name": "Python 3",
   "language": "python",
   "name": "python3"
  },
  "language_info": {
   "codemirror_mode": {
    "name": "ipython",
    "version": 3
   },
   "file_extension": ".py",
   "mimetype": "text/x-python",
   "name": "python",
   "nbconvert_exporter": "python",
   "pygments_lexer": "ipython3",
   "version": "3.7.3"
  }
 },
 "nbformat": 4,
 "nbformat_minor": 2
}
