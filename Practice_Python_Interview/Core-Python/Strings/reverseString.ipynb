{
 "cells": [
  {
   "cell_type": "code",
   "execution_count": 1,
   "metadata": {},
   "outputs": [
    {
     "name": "stdout",
     "output_type": "stream",
     "text": [
      "ahtivaK\n"
     ]
    }
   ],
   "source": [
    "#Using slice operator\n",
    "s=\"Kavitha\"\n",
    "print (s[::-1])"
   ]
  },
  {
   "cell_type": "code",
   "execution_count": 23,
   "metadata": {},
   "outputs": [
    {
     "name": "stdout",
     "output_type": "stream",
     "text": [
      "ahtivaK\n",
      "ahtivaK"
     ]
    }
   ],
   "source": [
    "#Using reversed function\n",
    "s = \"Kavitha\"\n",
    "print (''.join(reversed(s)))\n",
    "#Using reversed function\n",
    "s = \"Kavitha\"\n",
    "for x in reversed(s):\n",
    "    print (x, end='')"
   ]
  },
  {
   "cell_type": "code",
   "execution_count": 20,
   "metadata": {},
   "outputs": [
    {
     "name": "stdout",
     "output_type": "stream",
     "text": [
      "ahtivaK"
     ]
    }
   ],
   "source": [
    "#Using loop\n",
    "s = \"Kavitha\"\n",
    "i = len(s) - 1\n",
    "while  i >= 0:\n",
    "    print (s[i], end= '')\n",
    "    i = i - 1"
   ]
  },
  {
   "cell_type": "code",
   "execution_count": 16,
   "metadata": {},
   "outputs": [
    {
     "name": "stdout",
     "output_type": "stream",
     "text": [
      "7\n"
     ]
    }
   ],
   "source": []
  },
  {
   "cell_type": "code",
   "execution_count": null,
   "metadata": {},
   "outputs": [],
   "source": []
  }
 ],
 "metadata": {
  "kernelspec": {
   "display_name": "Python 3",
   "language": "python",
   "name": "python3"
  },
  "language_info": {
   "codemirror_mode": {
    "name": "ipython",
    "version": 3
   },
   "file_extension": ".py",
   "mimetype": "text/x-python",
   "name": "python",
   "nbconvert_exporter": "python",
   "pygments_lexer": "ipython3",
   "version": "3.7.3"
  }
 },
 "nbformat": 4,
 "nbformat_minor": 2
}
