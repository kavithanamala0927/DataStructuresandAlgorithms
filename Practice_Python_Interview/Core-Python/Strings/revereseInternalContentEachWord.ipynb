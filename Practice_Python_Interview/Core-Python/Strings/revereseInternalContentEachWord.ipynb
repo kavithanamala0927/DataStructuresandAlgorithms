{
 "cells": [
  {
   "cell_type": "code",
   "execution_count": 3,
   "metadata": {},
   "outputs": [
    {
     "name": "stdout",
     "output_type": "stream",
     "text": [
      "gninraeL nohtyp si yrev ysae "
     ]
    }
   ],
   "source": [
    "s= \"Learning python is very easy\"\n",
    "l = s.split()\n",
    "for ele in l:\n",
    "    print (ele[::-1], end=' ')\n",
    "    "
   ]
  },
  {
   "cell_type": "code",
   "execution_count": 4,
   "metadata": {},
   "outputs": [
    {
     "name": "stdout",
     "output_type": "stream",
     "text": [
      "ysae yrev si nohtyp gninraeL "
     ]
    }
   ],
   "source": [
    "s= \"Learning python is very easy\"\n",
    "l = s.split()\n",
    "for ele in l[::-1]:\n",
    "    print (ele[::-1], end=' ')"
   ]
  },
  {
   "cell_type": "code",
   "execution_count": null,
   "metadata": {},
   "outputs": [],
   "source": []
  }
 ],
 "metadata": {
  "kernelspec": {
   "display_name": "Python 3",
   "language": "python",
   "name": "python3"
  },
  "language_info": {
   "codemirror_mode": {
    "name": "ipython",
    "version": 3
   },
   "file_extension": ".py",
   "mimetype": "text/x-python",
   "name": "python",
   "nbconvert_exporter": "python",
   "pygments_lexer": "ipython3",
   "version": "3.7.3"
  }
 },
 "nbformat": 4,
 "nbformat_minor": 2
}
