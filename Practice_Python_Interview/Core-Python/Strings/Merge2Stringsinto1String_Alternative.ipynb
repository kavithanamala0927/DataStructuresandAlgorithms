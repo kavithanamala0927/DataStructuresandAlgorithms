{
 "cells": [
  {
   "cell_type": "code",
   "execution_count": 15,
   "metadata": {},
   "outputs": [
    {
     "name": "stdout",
     "output_type": "stream",
     "text": [
      "KPaovoirtnheash\n"
     ]
    }
   ],
   "source": [
    "S1 = \"Kavitha\"\n",
    "S2 = \"Poornesh\"\n",
    "#ouput : KPaovoirtnheash\n",
    "out = []\n",
    "i  = j = 0\n",
    "while i < len(S1) or j < len(S2):\n",
    "    if i < len(S1):\n",
    "        out.append(S1[i])\n",
    "        i = i + 1\n",
    "    if j < len(S2):\n",
    "        out.append(S2[j])    \n",
    "        j = j + 1\n",
    "print (''.join(out))\n"
   ]
  },
  {
   "cell_type": "code",
   "execution_count": null,
   "metadata": {},
   "outputs": [],
   "source": []
  }
 ],
 "metadata": {
  "kernelspec": {
   "display_name": "Python 3",
   "language": "python",
   "name": "python3"
  },
  "language_info": {
   "codemirror_mode": {
    "name": "ipython",
    "version": 3
   },
   "file_extension": ".py",
   "mimetype": "text/x-python",
   "name": "python",
   "nbconvert_exporter": "python",
   "pygments_lexer": "ipython3",
   "version": "3.7.3"
  }
 },
 "nbformat": 4,
 "nbformat_minor": 2
}
