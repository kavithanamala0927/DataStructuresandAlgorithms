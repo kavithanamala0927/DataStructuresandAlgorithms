{
 "cells": [
  {
   "cell_type": "code",
   "execution_count": 12,
   "metadata": {},
   "outputs": [],
   "source": [
    "class Parent:\n",
    "    static_var = 10\n",
    "    def __init__(self):\n",
    "        self.b = 20\n",
    "    def instancemethod(self):\n",
    "        return (\"Parent instance method\")\n",
    "    @classmethod\n",
    "    def parentClassmethod(cls):\n",
    "        return (\"Parent Class method\")\n",
    "    @staticmethod\n",
    "    def parentStaticmethod():\n",
    "        return (\"Parent Static method\")\n",
    "class Child(Parent):\n",
    "    c = 30\n",
    "    def __init__(self):\n",
    "        super().__init__()\n",
    "        self.d = 40\n"
   ]
  },
  {
   "cell_type": "code",
   "execution_count": 14,
   "metadata": {},
   "outputs": [
    {
     "name": "stdout",
     "output_type": "stream",
     "text": [
      "10 20\n",
      "30 40\n",
      "Parent instance method\n",
      "Parent Class method\n",
      "Parent Static method\n"
     ]
    }
   ],
   "source": [
    "c = Child()\n",
    "print (c.static_var, c.b)\n",
    "print (c.c, c.d)\n",
    "print (c.instancemethod())\n",
    "print (c.parentClassmethod())\n",
    "print (c.parentStaticmethod())"
   ]
  },
  {
   "cell_type": "code",
   "execution_count": 19,
   "metadata": {},
   "outputs": [
    {
     "name": "stdout",
     "output_type": "stream",
     "text": [
      "Displaying employee details:\n"
     ]
    },
    {
     "data": {
      "text/plain": [
       "'Kavitha 27 60000 Bangalore'"
      ]
     },
     "execution_count": 19,
     "metadata": {},
     "output_type": "execute_result"
    }
   ],
   "source": [
    "class Person:\n",
    "    def __init__(self, name, age):\n",
    "        self.name = name\n",
    "        self.age = age\n",
    "    def drink(self):\n",
    "        return (\"Drinking Chilled BEER\")\n",
    "\n",
    "class Employee(Person):\n",
    "    def __init__(self, ename, eage, esal, eaddr):\n",
    "        super().__init__(ename, eage)\n",
    "        self.esal = esal\n",
    "        self.eaddr = eaddr\n",
    "    def display(self):\n",
    "        print (\"Displaying employee details:\")\n",
    "        return (f\"{self.name} {self.age} {self.esal} {self.eaddr}\")\n",
    "e = Employee(\"Kavitha\", 27, 60000, \"Bangalore\")\n",
    "e.display()"
   ]
  },
  {
   "cell_type": "code",
   "execution_count": null,
   "metadata": {},
   "outputs": [],
   "source": []
  },
  {
   "cell_type": "code",
   "execution_count": null,
   "metadata": {},
   "outputs": [],
   "source": []
  }
 ],
 "metadata": {
  "kernelspec": {
   "display_name": "Python 3",
   "language": "python",
   "name": "python3"
  },
  "language_info": {
   "codemirror_mode": {
    "name": "ipython",
    "version": 3
   },
   "file_extension": ".py",
   "mimetype": "text/x-python",
   "name": "python",
   "nbconvert_exporter": "python",
   "pygments_lexer": "ipython3",
   "version": "3.7.3"
  }
 },
 "nbformat": 4,
 "nbformat_minor": 2
}
