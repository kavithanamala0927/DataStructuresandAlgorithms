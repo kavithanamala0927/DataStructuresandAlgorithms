{
 "cells": [
  {
   "cell_type": "code",
   "execution_count": 19,
   "metadata": {},
   "outputs": [],
   "source": [
    "class Employee:\n",
    "    \"\"\"This is doc string for class Emploee\"\"\"\n",
    "    def __init__(self, eno, ename, esal):\n",
    "        self.eno = eno\n",
    "        self.ename = ename\n",
    "        self.esal = esal\n",
    "    def display(self):\n",
    "        return (f\"{self.eno} \\t {self.ename} \\t {self.esal}\")\n",
    "\n"
   ]
  },
  {
   "cell_type": "code",
   "execution_count": 24,
   "metadata": {},
   "outputs": [
    {
     "name": "stdout",
     "output_type": "stream",
     "text": [
      "75024127 \t Kavitha \t 60000\n",
      "75024126 \t Smitha \t 40000\n",
      "75024128 \t Jyothi \t 60000\n"
     ]
    }
   ],
   "source": [
    "employees = [Employee(75024127, \"Kavitha\", \"60000\"),Employee(75024126, \"Smitha\", \"40000\"),Employee(75024128, \"Jyothi\", \"60000\")]\n",
    "for emp in employees:\n",
    "    print (emp.display())"
   ]
  },
  {
   "cell_type": "code",
   "execution_count": 28,
   "metadata": {},
   "outputs": [
    {
     "name": "stdout",
     "output_type": "stream",
     "text": [
      "Method execution\n",
      "{'a': 10, 'b': 20, 'c': 30, 'd': 40}\n"
     ]
    }
   ],
   "source": [
    "class Student:\n",
    "    def __init__(self):\n",
    "        self.a = 10\n",
    "        self.b = 20\n",
    "        \n",
    "    def m1(self):\n",
    "        print (\"Method execution\")\n",
    "        self.c = 30\n",
    "t = Student()\n",
    "t.m1()\n",
    "t.d = 40\n",
    "print (t.__dict__)\n",
    "            "
   ]
  },
  {
   "cell_type": "code",
   "execution_count": 40,
   "metadata": {},
   "outputs": [
    {
     "name": "stdout",
     "output_type": "stream",
     "text": [
      "Method execution\n",
      "10\n",
      "20\n",
      "{'a': 10, 'b': 333}\n",
      "{'a': 999, 'b': 20, 'c': 30}\n"
     ]
    }
   ],
   "source": [
    "class Student:\n",
    "    def __init__(self):\n",
    "        self.a = 10\n",
    "        self.b = 20\n",
    "        self.c = 30\n",
    "        \n",
    "    def m1(self):\n",
    "        print (\"Method execution\")        \n",
    "        del self.c\n",
    "        print (self.a)\n",
    "        print (self.b)\n",
    "t = Student()\n",
    "t1 = Student()\n",
    "t1.m1()\n",
    "t.a = 999\n",
    "t1.b = 333\n",
    "print (t1.__dict__)\n",
    "print (t.__dict__)"
   ]
  },
  {
   "cell_type": "code",
   "execution_count": 46,
   "metadata": {},
   "outputs": [
    {
     "name": "stdout",
     "output_type": "stream",
     "text": [
      "10 20\n",
      "333 20\n"
     ]
    }
   ],
   "source": [
    "class Test:\n",
    "    x = 10\n",
    "    def __init__(self):\n",
    "        self.y = 20\n",
    "t = Test()\n",
    "t1 = Test()\n",
    "t1.x = 333\n",
    "print (t.x, t.y)\n",
    "print (t1.x, t1.y)"
   ]
  },
  {
   "cell_type": "code",
   "execution_count": 53,
   "metadata": {},
   "outputs": [
    {
     "name": "stdout",
     "output_type": "stream",
     "text": [
      "{'__module__': '__main__', 'a': 100, '__init__': <function Test.__init__ at 0x000001FBB351D1E0>, 'm1': <function Test.m1 at 0x000001FBB351D268>, 'clsmethod': <classmethod object at 0x000001FBB3508EB8>, 'staticm': <staticmethod object at 0x000001FBB3508A58>, '__dict__': <attribute '__dict__' of 'Test' objects>, '__weakref__': <attribute '__weakref__' of 'Test' objects>, '__doc__': None, 'b': 200, 'c': 300, 'd': 400, 'e': 500, 'f': 600, 'g': 700}\n"
     ]
    }
   ],
   "source": [
    "class Test:\n",
    "    a = 100\n",
    "    def __init__(self):\n",
    "        Test.b = 200\n",
    "    def m1(self):\n",
    "        Test.c = 300\n",
    "    @classmethod\n",
    "    def clsmethod(cls):\n",
    "        Test.d = 400\n",
    "        Test.e = 500\n",
    "    @staticmethod\n",
    "    def staticm():\n",
    "        Test.f = 600\n",
    "t = Test()\n",
    "t.m1()\n",
    "Test.clsmethod()\n",
    "Test.staticm()\n",
    "Test.g = 700\n",
    "print (Test.__dict__)"
   ]
  },
  {
   "cell_type": "code",
   "execution_count": 63,
   "metadata": {},
   "outputs": [
    {
     "name": "stdout",
     "output_type": "stream",
     "text": [
      "100\n",
      "100\n",
      "instancemethod by self 100\n",
      "instancemethod by classname 100\n",
      "Cls 100\n",
      "Cls by classname 100\n",
      "Static 100\n",
      "100\n",
      "100\n"
     ]
    }
   ],
   "source": [
    "class Test:\n",
    "    a = 100\n",
    "    def __init__(self):\n",
    "        print (self.a)\n",
    "        print (Test.a)\n",
    "    def m1(self):\n",
    "        print (\"instancemethod by self\",self.a)\n",
    "        print (\"instancemethod by classname\",Test.a)\n",
    "    @classmethod\n",
    "    def clsmethod(cls):\n",
    "        print (\"Cls\",cls.a)\n",
    "        print (\"Cls by classname\",Test.a)\n",
    "    @staticmethod\n",
    "    def staticm():       \n",
    "        print (\"Static\",Test.a)\n",
    "t = Test()\n",
    "t.m1()\n",
    "t.clsmethod()\n",
    "t.staticm()\n",
    "print (t.a)\n",
    "print (Test.a)"
   ]
  },
  {
   "cell_type": "code",
   "execution_count": 69,
   "metadata": {},
   "outputs": [
    {
     "name": "stdout",
     "output_type": "stream",
     "text": [
      "constructor by self 200\n",
      "Consturctor by classname 200\n",
      "instancemethod by self 200\n",
      "instancemethod by classname 200\n",
      "Cls 500\n",
      "Cls by classname 500\n",
      "Static 500\n",
      "500\n",
      "500\n"
     ]
    }
   ],
   "source": [
    "class Test:\n",
    "    a = 100\n",
    "    def __init__(self):\n",
    "        Test.a = 200\n",
    "        print (\"constructor by self\",self.a)\n",
    "        print (\"Consturctor by classname\",Test.a)\n",
    "    def m1(self):\n",
    "        print (\"instancemethod by self\",self.a)\n",
    "        print (\"instancemethod by classname\",Test.a)\n",
    "    @classmethod\n",
    "    def clsmethod(cls):\n",
    "        Test.a = 400\n",
    "        cls.a = 500\n",
    "        print (\"Cls\",cls.a)\n",
    "        print (\"Cls by classname\",Test.a)\n",
    "    @staticmethod\n",
    "    def staticm():       \n",
    "        print (\"Static\",Test.a)\n",
    "t = Test()\n",
    "t.m1()\n",
    "t.clsmethod()\n",
    "t.staticm()\n",
    "print (t.a)\n",
    "print (Test.a)"
   ]
  },
  {
   "cell_type": "code",
   "execution_count": 71,
   "metadata": {},
   "outputs": [
    {
     "name": "stdout",
     "output_type": "stream",
     "text": [
      "1000 20\n",
      "1000 2000\n"
     ]
    }
   ],
   "source": [
    "class Test:\n",
    "    a = 10\n",
    "    def __init__(self):\n",
    "        self.b = 20\n",
    "    @classmethod\n",
    "    def classm(cls):\n",
    "        cls.a = 1000\n",
    "        cls.b = 2000\n",
    "t = Test()\n",
    "t.classm()\n",
    "print (t.a, t.b)\n",
    "print (Test.a, Test.b)"
   ]
  },
  {
   "cell_type": "code",
   "execution_count": 76,
   "metadata": {},
   "outputs": [
    {
     "ename": "AttributeError",
     "evalue": "a",
     "output_type": "error",
     "traceback": [
      "\u001b[1;31m---------------------------------------------------------------------------\u001b[0m",
      "\u001b[1;31mAttributeError\u001b[0m                            Traceback (most recent call last)",
      "\u001b[1;32m<ipython-input-76-101776572fe5>\u001b[0m in \u001b[0;36m<module>\u001b[1;34m\u001b[0m\n\u001b[0;32m      9\u001b[0m         \u001b[0mcls\u001b[0m\u001b[1;33m.\u001b[0m\u001b[0mb\u001b[0m \u001b[1;33m=\u001b[0m \u001b[1;36m2000\u001b[0m\u001b[1;33m\u001b[0m\u001b[1;33m\u001b[0m\u001b[0m\n\u001b[0;32m     10\u001b[0m         \u001b[1;32mdel\u001b[0m \u001b[0mTest\u001b[0m\u001b[1;33m.\u001b[0m\u001b[0ma\u001b[0m\u001b[1;33m\u001b[0m\u001b[1;33m\u001b[0m\u001b[0m\n\u001b[1;32m---> 11\u001b[1;33m \u001b[0mt\u001b[0m \u001b[1;33m=\u001b[0m \u001b[0mTest\u001b[0m\u001b[1;33m(\u001b[0m\u001b[1;33m)\u001b[0m\u001b[1;33m\u001b[0m\u001b[1;33m\u001b[0m\u001b[0m\n\u001b[0m\u001b[0;32m     12\u001b[0m \u001b[0mt\u001b[0m\u001b[1;33m.\u001b[0m\u001b[0mclassm\u001b[0m\u001b[1;33m(\u001b[0m\u001b[1;33m)\u001b[0m\u001b[1;33m\u001b[0m\u001b[1;33m\u001b[0m\u001b[0m\n\u001b[0;32m     13\u001b[0m \u001b[0mprint\u001b[0m \u001b[1;33m(\u001b[0m\u001b[0mTest\u001b[0m\u001b[1;33m.\u001b[0m\u001b[0m__dict__\u001b[0m\u001b[1;33m)\u001b[0m\u001b[1;33m\u001b[0m\u001b[1;33m\u001b[0m\u001b[0m\n",
      "\u001b[1;32m<ipython-input-76-101776572fe5>\u001b[0m in \u001b[0;36m__init__\u001b[1;34m(self)\u001b[0m\n\u001b[0;32m      3\u001b[0m     \u001b[1;32mdef\u001b[0m \u001b[0m__init__\u001b[0m\u001b[1;33m(\u001b[0m\u001b[0mself\u001b[0m\u001b[1;33m)\u001b[0m\u001b[1;33m:\u001b[0m\u001b[1;33m\u001b[0m\u001b[1;33m\u001b[0m\u001b[0m\n\u001b[0;32m      4\u001b[0m         \u001b[0mself\u001b[0m\u001b[1;33m.\u001b[0m\u001b[0mb\u001b[0m \u001b[1;33m=\u001b[0m \u001b[1;36m20\u001b[0m\u001b[1;33m\u001b[0m\u001b[1;33m\u001b[0m\u001b[0m\n\u001b[1;32m----> 5\u001b[1;33m         \u001b[1;32mdel\u001b[0m \u001b[0mself\u001b[0m\u001b[1;33m.\u001b[0m\u001b[0ma\u001b[0m\u001b[1;33m\u001b[0m\u001b[1;33m\u001b[0m\u001b[0m\n\u001b[0m\u001b[0;32m      6\u001b[0m     \u001b[1;33m@\u001b[0m\u001b[0mclassmethod\u001b[0m\u001b[1;33m\u001b[0m\u001b[1;33m\u001b[0m\u001b[0m\n\u001b[0;32m      7\u001b[0m     \u001b[1;32mdef\u001b[0m \u001b[0mclassm\u001b[0m\u001b[1;33m(\u001b[0m\u001b[0mcls\u001b[0m\u001b[1;33m)\u001b[0m\u001b[1;33m:\u001b[0m\u001b[1;33m\u001b[0m\u001b[1;33m\u001b[0m\u001b[0m\n",
      "\u001b[1;31mAttributeError\u001b[0m: a"
     ]
    }
   ],
   "source": [
    "class Test:\n",
    "    a = 10\n",
    "    def __init__(self):\n",
    "        self.b = 20\n",
    "        del self.a\n",
    "    @classmethod\n",
    "    def classm(cls):\n",
    "        cls.a = 1000\n",
    "        cls.b = 2000\n",
    "        del Test.a\n",
    "t = Test()\n",
    "t.classm()\n",
    "print (Test.__dict__)"
   ]
  },
  {
   "cell_type": "code",
   "execution_count": 77,
   "metadata": {},
   "outputs": [],
   "source": [
    "d = {\"1\":\"s\", 2:\"f\", \"3\":\"g\"}"
   ]
  },
  {
   "cell_type": "code",
   "execution_count": 79,
   "metadata": {},
   "outputs": [
    {
     "ename": "TypeError",
     "evalue": "unhashable type: 'slice'",
     "output_type": "error",
     "traceback": [
      "\u001b[1;31m---------------------------------------------------------------------------\u001b[0m",
      "\u001b[1;31mTypeError\u001b[0m                                 Traceback (most recent call last)",
      "\u001b[1;32m<ipython-input-79-3f877e697ae8>\u001b[0m in \u001b[0;36m<module>\u001b[1;34m\u001b[0m\n\u001b[1;32m----> 1\u001b[1;33m \u001b[0mprint\u001b[0m \u001b[1;33m(\u001b[0m\u001b[0md\u001b[0m\u001b[1;33m[\u001b[0m\u001b[1;36m1\u001b[0m\u001b[1;33m:\u001b[0m\u001b[1;36m3\u001b[0m\u001b[1;33m]\u001b[0m\u001b[1;33m)\u001b[0m\u001b[1;33m\u001b[0m\u001b[1;33m\u001b[0m\u001b[0m\n\u001b[0m",
      "\u001b[1;31mTypeError\u001b[0m: unhashable type: 'slice'"
     ]
    }
   ],
   "source": [
    "print (d[1:3])"
   ]
  },
  {
   "cell_type": "code",
   "execution_count": null,
   "metadata": {},
   "outputs": [],
   "source": []
  }
 ],
 "metadata": {
  "kernelspec": {
   "display_name": "Python 3",
   "language": "python",
   "name": "python3"
  },
  "language_info": {
   "codemirror_mode": {
    "name": "ipython",
    "version": 3
   },
   "file_extension": ".py",
   "mimetype": "text/x-python",
   "name": "python",
   "nbconvert_exporter": "python",
   "pygments_lexer": "ipython3",
   "version": "3.7.3"
  }
 },
 "nbformat": 4,
 "nbformat_minor": 2
}
