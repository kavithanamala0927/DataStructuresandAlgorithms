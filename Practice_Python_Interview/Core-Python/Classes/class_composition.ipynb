{
 "cells": [
  {
   "cell_type": "code",
   "execution_count": 4,
   "metadata": {},
   "outputs": [
    {
     "name": "stdout",
     "output_type": "stream",
     "text": [
      "No.of reference count::: 5\n"
     ]
    }
   ],
   "source": [
    "import sys\n",
    "class Test:\n",
    "    pass\n",
    "t = Test()\n",
    "t2 = t\n",
    "t3 = t\n",
    "t4 = t\n",
    "print (\"No.of reference count:::\",sys.getrefcount(t))"
   ]
  },
  {
   "cell_type": "code",
   "execution_count": 8,
   "metadata": {},
   "outputs": [
    {
     "name": "stdout",
     "output_type": "stream",
     "text": [
      "Car using engine functionality\n",
      "10\n",
      "20\n",
      "This is m1 method present in Engine class\n",
      "None\n"
     ]
    }
   ],
   "source": [
    "class Engine:\n",
    "    a = 10\n",
    "    def __init__(self):\n",
    "        self.b = 20\n",
    "    def m1(self):\n",
    "        print (\"This is m1 method present in Engine class\")\n",
    "class Car:\n",
    "    def __init__(self):\n",
    "        self.engine = Engine()\n",
    "    def m2(self):\n",
    "        print (\"Car using engine functionality\")\n",
    "        print (self.engine.a)\n",
    "        print (self.engine.b)\n",
    "        print (self.engine.m1())\n",
    "c = Car()\n",
    "c.m2()"
   ]
  },
  {
   "cell_type": "code",
   "execution_count": 16,
   "metadata": {},
   "outputs": [
    {
     "name": "stdout",
     "output_type": "stream",
     "text": [
      "Car No:1812 Car model:Maruthi Car color: Grey\n",
      "None\n",
      "Employee Name:Kavitha Employee No:75024127 and\n",
      "Employee car details:\n",
      "Car No:1812 Car model:Maruthi Car color: Grey\n",
      "None\n"
     ]
    }
   ],
   "source": [
    "class Car:\n",
    "    def __init__(self, no, model, color):\n",
    "        self.no = no\n",
    "        self.model = model\n",
    "        self.color = color\n",
    "    def info(self):\n",
    "        print (f\"Car No:{self.no} Car model:{self.model} Car color: {self.color}\")\n",
    "    \n",
    "class Employee:\n",
    "    def __init__(self, name, no, car):\n",
    "        self.name = name\n",
    "        self.no = no\n",
    "        self.car = car\n",
    "    def display(self):\n",
    "        print(f\"Employee Name:{self.name} Employee No:{self.no} and\\nEmployee car details:\")\n",
    "        print (c.info())\n",
    "    \n",
    "c = Car(1812, \"Maruthi\", \"Grey\")\n",
    "print (c.info())\n",
    "e = Employee(\"Kavitha\", 75024127, c)\n",
    "e.display()"
   ]
  },
  {
   "cell_type": "code",
   "execution_count": null,
   "metadata": {},
   "outputs": [],
   "source": []
  }
 ],
 "metadata": {
  "kernelspec": {
   "display_name": "Python 3",
   "language": "python",
   "name": "python3"
  },
  "language_info": {
   "codemirror_mode": {
    "name": "ipython",
    "version": 3
   },
   "file_extension": ".py",
   "mimetype": "text/x-python",
   "name": "python",
   "nbconvert_exporter": "python",
   "pygments_lexer": "ipython3",
   "version": "3.7.3"
  }
 },
 "nbformat": 4,
 "nbformat_minor": 2
}
