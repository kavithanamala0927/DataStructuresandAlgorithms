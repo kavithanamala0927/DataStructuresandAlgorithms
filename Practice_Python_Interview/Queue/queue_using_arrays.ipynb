{
 "cells": [
  {
   "cell_type": "code",
   "execution_count": 41,
   "metadata": {},
   "outputs": [],
   "source": [
    "class Queue:\n",
    "    def __init__(self, size):\n",
    "        self.front = self.rear = -1\n",
    "        self.size = size\n",
    "        self.queue = [0]*self.size\n",
    "    def enqueue(self, element):    \n",
    "        if self.rear == self.size-1:\n",
    "            print (\"OVER FLOW: Queue is Full\")\n",
    "        else:\n",
    "            if (self.front == -1):\n",
    "                self.front = 0\n",
    "            self.rear += 1\n",
    "            self.queue[self.rear] = element\n",
    "            print (\"Element\", element, \"is inserted into the queue\")\n",
    "    def dequeue(self):\n",
    "        if (self.rear == -1 or self.front > self.rear):\n",
    "            print (\"UNDER FLOW: QUEUE is Empty\")\n",
    "        else:\n",
    "            element = self.queue[self.front]\n",
    "            print (element, \"is deleted from queue\")\n",
    "            self.front += 1\n",
    "    def display(self):\n",
    "        if (self.rear == -1 or self.front > self.rear):\n",
    "            print (\"QUEUE is Empty\")\n",
    "        else:\n",
    "            print (\"Display elements in QUEUE:: \")\n",
    "            i = self.front\n",
    "            while i <= self.rear:\n",
    "                print (self.queue[i])\n",
    "                i += 1"
   ]
  },
  {
   "cell_type": "code",
   "execution_count": 45,
   "metadata": {},
   "outputs": [
    {
     "name": "stdout",
     "output_type": "stream",
     "text": [
      "Element 10 is inserted into the queue\n",
      "Element 20 is inserted into the queue\n",
      "Element 30 is inserted into the queue\n",
      "Element 40 is inserted into the queue\n",
      "Element 50 is inserted into the queue\n",
      "OVER FLOW: Queue is Full\n",
      "Display elements in QUEUE:: \n",
      "10\n",
      "20\n",
      "30\n",
      "40\n",
      "50\n",
      "10 is deleted from queue\n",
      "20 is deleted from queue\n",
      "Display elements in QUEUE:: \n",
      "30\n",
      "40\n",
      "50\n",
      "OVER FLOW: Queue is Full\n"
     ]
    }
   ],
   "source": [
    "q = Queue(5)\n",
    "q.enqueue(10)\n",
    "q.enqueue(20)\n",
    "q.enqueue(30)\n",
    "q.enqueue(40)\n",
    "q.enqueue(50)\n",
    "q.enqueue(60)\n",
    "q.display()\n",
    "q.dequeue()\n",
    "q.dequeue()\n",
    "q.display()\n",
    "q.enqueue(70)\n"
   ]
  },
  {
   "cell_type": "code",
   "execution_count": null,
   "metadata": {},
   "outputs": [],
   "source": []
  }
 ],
 "metadata": {
  "kernelspec": {
   "display_name": "Python 3",
   "language": "python",
   "name": "python3"
  },
  "language_info": {
   "codemirror_mode": {
    "name": "ipython",
    "version": 3
   },
   "file_extension": ".py",
   "mimetype": "text/x-python",
   "name": "python",
   "nbconvert_exporter": "python",
   "pygments_lexer": "ipython3",
   "version": "3.7.3"
  }
 },
 "nbformat": 4,
 "nbformat_minor": 2
}
