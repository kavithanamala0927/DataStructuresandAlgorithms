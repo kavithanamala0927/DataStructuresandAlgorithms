{
 "cells": [
  {
   "cell_type": "code",
   "execution_count": 70,
   "metadata": {},
   "outputs": [],
   "source": [
    "class Queue:\n",
    "    def __init__(self, size):\n",
    "        self.size = size\n",
    "        self.queue = [0]*size\n",
    "        self.front = self.rear = -1\n",
    "    def enqueue(self, element):\n",
    "        if self.front == -1 and self.rear == -1:\n",
    "            print (\"Inserting first element\")\n",
    "            self.front = self.rear = 0\n",
    "            self.queue[self.rear] = element\n",
    "        elif (self.rear + 1) % self.size == self.front:\n",
    "            print (\"Queue is FULL\")\n",
    "        else:\n",
    "            print (\"Inserting\")\n",
    "            self.rear = (self.rear + 1) % self.size\n",
    "            self.queue[self.rear] = element\n",
    "    \n",
    "    def dequeue(self):\n",
    "        if self.front == -1 and self.rear == -1:\n",
    "            print (\"Queue is Empty\")\n",
    "        elif self.front == self.rear:\n",
    "            self.front = self.rear = -1\n",
    "        else:\n",
    "            element = self.queue[self.front]\n",
    "            print (element,\"is Deleted\")\n",
    "            self.front = (self.front + 1) % self.size\n",
    "    def peek(self):\n",
    "        if self.front == -1 and self.rear == -1:\n",
    "            print (\"Queue is Empty\")\n",
    "        else:\n",
    "            print (\"Front element in the Queue:\")\n",
    "            print (self.queue[self.front])\n",
    "    def display(self):\n",
    "        if (self.rear == -1 and self.front == -1):\n",
    "            print (\"QUEUE is Empty\")\n",
    "        else:\n",
    "            print (\"Display elements in QUEUE:: \")\n",
    "            i = self.front\n",
    "            while i != self.rear:\n",
    "                print (self.queue[i])\n",
    "                i = (i + 1) % self.size\n",
    "            print(self.queue[self.rear])\n",
    "            \n",
    "            "
   ]
  },
  {
   "cell_type": "code",
   "execution_count": 72,
   "metadata": {},
   "outputs": [
    {
     "name": "stdout",
     "output_type": "stream",
     "text": [
      "Inserting first element\n",
      "Inserting\n",
      "Inserting\n",
      "Inserting\n",
      "Inserting\n",
      "Display elements in QUEUE:: \n",
      "10\n",
      "20\n",
      "30\n",
      "40\n",
      "50\n",
      "10 is Deleted\n",
      "20 is Deleted\n",
      "30 is Deleted\n",
      "Inserting\n",
      "Display elements in QUEUE:: \n",
      "40\n",
      "50\n",
      "60\n",
      "Front element in the Queue:\n",
      "40\n",
      "40 is Deleted\n",
      "Front element in the Queue:\n",
      "50\n",
      "50 is Deleted\n",
      "Front element in the Queue:\n",
      "60\n"
     ]
    }
   ],
   "source": [
    "q = Queue(5)\n",
    "q.enqueue(10)\n",
    "q.enqueue(20)\n",
    "q.enqueue(30)\n",
    "q.enqueue(40)\n",
    "q.enqueue(50)\n",
    "q.display()\n",
    "q.dequeue()\n",
    "q.dequeue()\n",
    "q.dequeue()\n",
    "q.enqueue(60)\n",
    "q.display()\n",
    "q.peek()\n",
    "q.dequeue()\n",
    "q.peek()\n",
    "q.dequeue()\n",
    "q.peek()"
   ]
  },
  {
   "cell_type": "code",
   "execution_count": 73,
   "metadata": {},
   "outputs": [
    {
     "name": "stdout",
     "output_type": "stream",
     "text": [
      "Queue is Empty\n",
      "Queue is Empty\n",
      "Inserting first element\n",
      "Display elements in QUEUE:: \n",
      "60\n",
      "Front element in the Queue:\n",
      "60\n",
      "Queue is Empty\n",
      "Queue is Empty\n",
      "Queue is Empty\n"
     ]
    }
   ],
   "source": [
    "q.dequeue()\n",
    "q.dequeue()\n",
    "q.dequeue()\n",
    "q.enqueue(60)\n",
    "q.display()\n",
    "q.peek()\n",
    "q.dequeue()\n",
    "q.peek()\n",
    "q.dequeue()\n",
    "q.peek()"
   ]
  },
  {
   "cell_type": "code",
   "execution_count": null,
   "metadata": {},
   "outputs": [],
   "source": []
  }
 ],
 "metadata": {
  "kernelspec": {
   "display_name": "Python 3",
   "language": "python",
   "name": "python3"
  },
  "language_info": {
   "codemirror_mode": {
    "name": "ipython",
    "version": 3
   },
   "file_extension": ".py",
   "mimetype": "text/x-python",
   "name": "python",
   "nbconvert_exporter": "python",
   "pygments_lexer": "ipython3",
   "version": "3.7.3"
  }
 },
 "nbformat": 4,
 "nbformat_minor": 2
}
