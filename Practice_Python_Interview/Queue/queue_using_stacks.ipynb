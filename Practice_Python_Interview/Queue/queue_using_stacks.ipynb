{
 "cells": [
  {
   "cell_type": "code",
   "execution_count": 124,
   "metadata": {},
   "outputs": [],
   "source": [
    "class Queue:\n",
    "    def __init__(self):\n",
    "        self.size = 5\n",
    "        self.stack1 = [0]*self.size\n",
    "        self.stack2 = [0]*self.size\n",
    "        self.top1 = self.top2 = -1\n",
    "        self.count = 0\n",
    "    def push1(self, data):\n",
    "        self.top1 += 1\n",
    "        self.stack1[self.top1] = data\n",
    "    \n",
    "    def push2(self, data):\n",
    "        self.top2 += 1\n",
    "        self.stack2[self.top2] = data\n",
    "        \n",
    "    def pop1(self):\n",
    "        self.top1 -= 1\n",
    "        return self.stack1[self.top1]\n",
    "    \n",
    "    def pop2(self):\n",
    "        self.top2 -= 1\n",
    "        return self.stack2[self.top2]\n",
    "    \n",
    "    def enqueue(self, element):\n",
    "        if self.top1 == self.size-1:\n",
    "            print (\"Overflow\")\n",
    "        else:\n",
    "            print (\"Inserting\", element)\n",
    "            self.push1(element)\n",
    "            self.count += 1\n",
    "            \n",
    "    def dequeue(self):\n",
    "        if self.top1 == -1 and self.top2 == -1:\n",
    "            print (\"UNDER FLOW: Queue is Empty\")\n",
    "        else:\n",
    "            for i in range(self.count):\n",
    "                a = self.pop1()\n",
    "                self.push2(a)\n",
    "            b = self.pop2()\n",
    "            print (\"dequeued element\", b)\n",
    "            self.count -= 1          \n",
    "            for i in range(self.count):\n",
    "                a = self.pop2()\n",
    "                self.push1(a)\n",
    "            \n",
    "    def display(self):\n",
    "        if self.top1 == -1:\n",
    "            print (\"Display: Queue is Empty\")\n",
    "        else:\n",
    "            print (\"Display element\")\n",
    "            for i in range(self.top1 + 1):\n",
    "                print (self.stack1[i])\n",
    "        "
   ]
  },
  {
   "cell_type": "code",
   "execution_count": 128,
   "metadata": {
    "scrolled": true
   },
   "outputs": [
    {
     "name": "stdout",
     "output_type": "stream",
     "text": [
      "Inserting 10\n",
      "Inserting 20\n",
      "Inserting 30\n",
      "Inserting 40\n",
      "Inserting 50\n",
      "Overflow\n",
      "Display element\n",
      "10\n",
      "20\n",
      "30\n",
      "40\n",
      "50\n",
      "dequeued element 10\n",
      "dequeued element 20\n",
      "dequeued element 30\n",
      "dequeued element 40\n",
      "dequeued element 50\n",
      "UNDER FLOW: Queue is Empty\n",
      "Display: Queue is Empty\n",
      "Inserting 70\n",
      "Display element\n",
      "70\n"
     ]
    }
   ],
   "source": [
    "q = Queue()\n",
    "q.enqueue(10)\n",
    "q.enqueue(20)\n",
    "q.enqueue(30)\n",
    "q.enqueue(40)\n",
    "q.enqueue(50)\n",
    "q.enqueue(60)\n",
    "q.display()\n",
    "q.dequeue()\n",
    "q.dequeue()\n",
    "q.dequeue()\n",
    "q.dequeue()\n",
    "q.dequeue()\n",
    "q.dequeue()\n",
    "q.display()\n",
    "q.enqueue(70)\n",
    "q.display()"
   ]
  },
  {
   "cell_type": "code",
   "execution_count": 127,
   "metadata": {},
   "outputs": [
    {
     "name": "stdout",
     "output_type": "stream",
     "text": [
      "dequeued element 40\n",
      "dequeued element 50\n",
      "UNDER FLOW: Queue is Empty\n",
      "Display: Queue is Empty\n",
      "Inserting 70\n",
      "Display element\n",
      "70\n"
     ]
    }
   ],
   "source": [
    "\n",
    "\n",
    "#\n"
   ]
  },
  {
   "cell_type": "code",
   "execution_count": null,
   "metadata": {},
   "outputs": [],
   "source": []
  }
 ],
 "metadata": {
  "kernelspec": {
   "display_name": "Python 3",
   "language": "python",
   "name": "python3"
  },
  "language_info": {
   "codemirror_mode": {
    "name": "ipython",
    "version": 3
   },
   "file_extension": ".py",
   "mimetype": "text/x-python",
   "name": "python",
   "nbconvert_exporter": "python",
   "pygments_lexer": "ipython3",
   "version": "3.7.3"
  }
 },
 "nbformat": 4,
 "nbformat_minor": 2
}
