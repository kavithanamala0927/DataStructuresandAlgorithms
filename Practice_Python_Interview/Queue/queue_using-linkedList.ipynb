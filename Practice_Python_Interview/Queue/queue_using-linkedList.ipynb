{
 "cells": [
  {
   "cell_type": "code",
   "execution_count": 16,
   "metadata": {},
   "outputs": [],
   "source": [
    "class Node:\n",
    "    def __init__(self, data):\n",
    "        self.data = data\n",
    "        self.next = None\n",
    "class Queue:\n",
    "    def __init__(self):\n",
    "        self.front = Node(None)\n",
    "        self.rear = Node(None)\n",
    "    def enqueue(self, element):\n",
    "        new = Node(element)\n",
    "        print (\"Inserting\", element)\n",
    "        if self.front.data == None and self.rear.data == None:\n",
    "            self.front = self.rear = new            \n",
    "        else:\n",
    "            self.rear.next = new\n",
    "            self.rear = new           \n",
    "\n",
    "    def dequeue(self):\n",
    "        temp = self.front\n",
    "        if (self.front.data == None and self.rear.data == None):\n",
    "            print (\"QUEUE is EMPTY\")      \n",
    "        elif self.front == self.rear:\n",
    "            self.front = self.rear = Node(None)\n",
    "        else:\n",
    "            print (\"Delete element\", self.front.data)\n",
    "            self.front = self.front.next\n",
    "            del temp\n",
    "            \n",
    "    def peek(self):\n",
    "        print (\"Peek Element:\")\n",
    "        if self.front.data == None and self.rear.data == None:\n",
    "            print (\"Queue is Empty\")\n",
    "        else:\n",
    "            print (self.front.data)\n",
    "            \n",
    "        \n",
    "    def display(self):\n",
    "        print (\"Display Elements in QUEUE\")\n",
    "        if self.front.data == None and self.rear.data == None:\n",
    "            print (\"Queue is Empty\")\n",
    "        else:\n",
    "            temp = self.front\n",
    "            while temp != None:\n",
    "                print (temp.data)\n",
    "                temp = temp.next                       \n",
    "            \n",
    "            \n",
    "        "
   ]
  },
  {
   "cell_type": "code",
   "execution_count": 17,
   "metadata": {},
   "outputs": [
    {
     "name": "stdout",
     "output_type": "stream",
     "text": [
      "Inserting 10\n",
      "Inserting 30\n",
      "Inserting 40\n",
      "Display Elements in QUEUE\n",
      "10\n",
      "30\n",
      "40\n",
      "Delete element 10\n",
      "Display Elements in QUEUE\n",
      "30\n",
      "40\n",
      "Delete element 30\n",
      "Display Elements in QUEUE\n",
      "40\n",
      "Peek Element:\n",
      "40\n",
      "Peek Element:\n",
      "Queue is Empty\n",
      "Display Elements in QUEUE\n",
      "Queue is Empty\n"
     ]
    }
   ],
   "source": [
    "q = Queue()\n",
    "q.enqueue(10)\n",
    "q.enqueue(30)\n",
    "q.enqueue(40)\n",
    "q.display()\n",
    "q.dequeue()\n",
    "q.display()\n",
    "q.dequeue()\n",
    "q.display()\n",
    "q.peek()\n",
    "q.dequeue()\n",
    "q.peek()\n",
    "q.display()"
   ]
  },
  {
   "cell_type": "code",
   "execution_count": null,
   "metadata": {},
   "outputs": [],
   "source": []
  },
  {
   "cell_type": "code",
   "execution_count": null,
   "metadata": {},
   "outputs": [],
   "source": []
  }
 ],
 "metadata": {
  "kernelspec": {
   "display_name": "Python 3",
   "language": "python",
   "name": "python3"
  },
  "language_info": {
   "codemirror_mode": {
    "name": "ipython",
    "version": 3
   },
   "file_extension": ".py",
   "mimetype": "text/x-python",
   "name": "python",
   "nbconvert_exporter": "python",
   "pygments_lexer": "ipython3",
   "version": "3.7.3"
  }
 },
 "nbformat": 4,
 "nbformat_minor": 2
}
