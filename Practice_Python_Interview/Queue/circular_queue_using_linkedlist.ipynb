{
 "cells": [
  {
   "cell_type": "code",
   "execution_count": 67,
   "metadata": {},
   "outputs": [],
   "source": [
    "class Node:\n",
    "    def __init__(self, data):\n",
    "        self.data = data\n",
    "        self.next = next\n",
    "class CircularQueue:\n",
    "    def __init__(self):\n",
    "        self.front = Node(None)\n",
    "        self.rear = Node(None)\n",
    "    def enqueue(self, element):\n",
    "        new = Node(element)\n",
    "        if self.rear.data == None:\n",
    "            print (\"Inserted Element\")\n",
    "            self.front = self.rear = new\n",
    "            self.rear.next = new            \n",
    "        else:\n",
    "            print(\"Insert\")\n",
    "            self.rear.next = new\n",
    "            self.rear = new\n",
    "            new.next = self.front\n",
    "    def dequeue(self):\n",
    "        temp = self.front\n",
    "        if self.front.data == None and self.rear.data == None:\n",
    "            print (\"Queue is Empty\")\n",
    "        elif self.front == self.rear:            \n",
    "            print (\"Deleted\")\n",
    "            self.front = self.rear = Node(None)\n",
    "            del temp\n",
    "        else:\n",
    "            print (\"Deleting\")\n",
    "            self.front = self.front.next\n",
    "            self.rear.next = self.front\n",
    "    def peek(self):\n",
    "        print (\"Peek Element:\")\n",
    "        if self.front.data == None and self.rear.data == None:\n",
    "            print (\"Queue is Empty\")\n",
    "        else:\n",
    "            print (self.front.data)\n",
    "    def display(self):\n",
    "        print (\"Display Elements\")\n",
    "        if self.front.data == None and self.rear.data == None:\n",
    "            print (\"Queue is Empty\")\n",
    "        else:\n",
    "            temp = self.front\n",
    "            while temp.next != self.front:\n",
    "                print (temp.data)\n",
    "                temp = temp.next\n",
    "            print (temp.data)\n",
    "            \n",
    "        \n",
    "        \n",
    "        \n",
    "        "
   ]
  },
  {
   "cell_type": "code",
   "execution_count": 68,
   "metadata": {},
   "outputs": [
    {
     "name": "stdout",
     "output_type": "stream",
     "text": [
      "Inserted Element\n",
      "Insert\n",
      "Insert\n",
      "Display Elements\n",
      "10\n",
      "30\n",
      "40\n",
      "Deleting\n",
      "Display Elements\n",
      "30\n",
      "40\n",
      "Deleting\n",
      "Display Elements\n",
      "40\n",
      "Peek Element:\n",
      "40\n",
      "Deleted\n",
      "Peek Element:\n",
      "Queue is Empty\n",
      "Display Elements\n",
      "Queue is Empty\n"
     ]
    }
   ],
   "source": [
    "q = CircularQueue()\n",
    "q.enqueue(10)\n",
    "q.enqueue(30)\n",
    "q.enqueue(40)\n",
    "q.display()\n",
    "q.dequeue()\n",
    "q.display()\n",
    "q.dequeue()\n",
    "q.display()\n",
    "q.peek()\n",
    "q.dequeue()\n",
    "q.peek()\n",
    "q.display()"
   ]
  },
  {
   "cell_type": "code",
   "execution_count": null,
   "metadata": {},
   "outputs": [],
   "source": []
  },
  {
   "cell_type": "code",
   "execution_count": null,
   "metadata": {},
   "outputs": [],
   "source": []
  }
 ],
 "metadata": {
  "kernelspec": {
   "display_name": "Python 3",
   "language": "python",
   "name": "python3"
  },
  "language_info": {
   "codemirror_mode": {
    "name": "ipython",
    "version": 3
   },
   "file_extension": ".py",
   "mimetype": "text/x-python",
   "name": "python",
   "nbconvert_exporter": "python",
   "pygments_lexer": "ipython3",
   "version": "3.7.3"
  }
 },
 "nbformat": 4,
 "nbformat_minor": 2
}
