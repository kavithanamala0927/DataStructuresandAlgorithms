{
 "cells": [
  {
   "cell_type": "code",
   "execution_count": 11,
   "metadata": {},
   "outputs": [],
   "source": [
    "def bubbleSort(array):\n",
    "    for i in range(len(array)):\n",
    "        for j in range(len(array)-1):\n",
    "            if array[j] > array[j+1]:\n",
    "                temp = array[j]\n",
    "                array[j] = array[j + 1]\n",
    "                array[j + 1] = temp\n",
    "    return array\n",
    "            "
   ]
  },
  {
   "cell_type": "code",
   "execution_count": 12,
   "metadata": {},
   "outputs": [
    {
     "name": "stdout",
     "output_type": "stream",
     "text": [
      "[5, 6, 8, 15, 16]\n"
     ]
    }
   ],
   "source": [
    "array = [15,16,6,8,5]\n",
    "print (bubbleSort(array))"
   ]
  },
  {
   "cell_type": "code",
   "execution_count": 19,
   "metadata": {},
   "outputs": [],
   "source": [
    "def bubbleSortComparisionOptimize(array):\n",
    "    for i in range(len(array)):\n",
    "        for j in range(len(array)-1-i):\n",
    "            if array[j] > array[j+1]:\n",
    "                temp = array[j]\n",
    "                array[j] = array[j + 1]\n",
    "                array[j + 1] = temp\n",
    "    return array\n",
    "            "
   ]
  },
  {
   "cell_type": "code",
   "execution_count": 20,
   "metadata": {},
   "outputs": [
    {
     "name": "stdout",
     "output_type": "stream",
     "text": [
      "[5, 6, 8, 15, 16]\n"
     ]
    }
   ],
   "source": [
    "array = [15,16,6,8,5]\n",
    "print (bubbleSortComparisionOptimize(array))"
   ]
  },
  {
   "cell_type": "code",
   "execution_count": 33,
   "metadata": {},
   "outputs": [],
   "source": [
    "def bubbleSortOptimize(array):    \n",
    "    for i in range(len(array)):\n",
    "        flag = 0\n",
    "        for j in range(len(array)-1-i):\n",
    "            if array[j] > array[j+1]:\n",
    "                temp = array[j]\n",
    "                array[j] = array[j + 1]\n",
    "                array[j + 1] = temp\n",
    "                flag = 1\n",
    "        if flag == 0:\n",
    "            break\n",
    "    return array"
   ]
  },
  {
   "cell_type": "code",
   "execution_count": 34,
   "metadata": {},
   "outputs": [
    {
     "name": "stdout",
     "output_type": "stream",
     "text": [
      "[5, 6, 8, 14, 16]\n"
     ]
    }
   ],
   "source": [
    "array = [16,14,5,6,8]\n",
    "print (bubbleSortOptimize(array))"
   ]
  },
  {
   "cell_type": "code",
   "execution_count": null,
   "metadata": {},
   "outputs": [],
   "source": []
  }
 ],
 "metadata": {
  "kernelspec": {
   "display_name": "Python 3",
   "language": "python",
   "name": "python3"
  },
  "language_info": {
   "codemirror_mode": {
    "name": "ipython",
    "version": 3
   },
   "file_extension": ".py",
   "mimetype": "text/x-python",
   "name": "python",
   "nbconvert_exporter": "python",
   "pygments_lexer": "ipython3",
   "version": "3.7.3"
  }
 },
 "nbformat": 4,
 "nbformat_minor": 2
}
