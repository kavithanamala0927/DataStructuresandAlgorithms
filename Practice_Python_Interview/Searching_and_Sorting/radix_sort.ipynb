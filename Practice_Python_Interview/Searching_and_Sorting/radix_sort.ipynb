{
 "cells": [
  {
   "cell_type": "code",
   "execution_count": 42,
   "metadata": {},
   "outputs": [],
   "source": [
    "def getMax(array):\n",
    "    max_ele = array[0]\n",
    "    for i in range(0, len(array)):\n",
    "        if max_ele < array[i]:\n",
    "            max_ele = array[i]\n",
    "    return max_ele\n",
    "\n",
    "def countingSort(array):\n",
    "    max_range = getMax(array)\n",
    "    countArray = [0]*(max_range+1)\n",
    "    sortedArray = [0]*len(array)\n",
    "    for i in range(0, len(array)):\n",
    "        countArray[array[i]] = countArray[array[i]]+1\n",
    "    for i in range(1, max_range+1):\n",
    "        countArray[i] = countArray[i] + countArray[i-1]\n",
    "    for i in range(len(array)-1, -1, -1):\n",
    "        countArray[array[i]] = countArray[array[i]]-1\n",
    "        sortedArray[countArray[array[i]]] = array[i]\n",
    "    for i in range(0,len(array)):\n",
    "        array[i] = sortedArray[i]\n",
    "    return array\n",
    "\n",
    "def radixSort(array):\n",
    "    maxElement = getMax(array)\n",
    "    for i in range(len(array)):\n",
    "        array[i] = str(array[i]).zfill(len(str(maxElement)))\n",
    "    return array\n",
    "    "
   ]
  },
  {
   "cell_type": "code",
   "execution_count": 43,
   "metadata": {},
   "outputs": [
    {
     "data": {
      "text/plain": [
       "['432', '008', '530', '090', '088', '231', '011', '045', '677', '199']"
      ]
     },
     "execution_count": 43,
     "metadata": {},
     "output_type": "execute_result"
    }
   ],
   "source": [
    "arr = [432,8,530,90,88,231,11,45,677,199]\n",
    "#arr_zeros = [0]*(len(arr))\n",
    "#for i in range(len(arr)):\n",
    "#    arr[i] = str(arr[i]).zfill(3)\n",
    "#print (arr)\n",
    "radixSort(arr)"
   ]
  },
  {
   "cell_type": "code",
   "execution_count": 39,
   "metadata": {},
   "outputs": [
    {
     "name": "stdout",
     "output_type": "stream",
     "text": [
      "<class 'str'>\n"
     ]
    }
   ],
   "source": [
    "num = 123\n",
    "num_str = str(num)\n",
    "zero_filled_number = num_str.zfill(5)\n",
    "print (type(zero_filled_number))"
   ]
  },
  {
   "cell_type": "code",
   "execution_count": null,
   "metadata": {},
   "outputs": [],
   "source": []
  },
  {
   "cell_type": "code",
   "execution_count": null,
   "metadata": {},
   "outputs": [],
   "source": []
  }
 ],
 "metadata": {
  "kernelspec": {
   "display_name": "Python 3",
   "language": "python",
   "name": "python3"
  },
  "language_info": {
   "codemirror_mode": {
    "name": "ipython",
    "version": 3
   },
   "file_extension": ".py",
   "mimetype": "text/x-python",
   "name": "python",
   "nbconvert_exporter": "python",
   "pygments_lexer": "ipython3",
   "version": "3.7.3"
  }
 },
 "nbformat": 4,
 "nbformat_minor": 2
}
