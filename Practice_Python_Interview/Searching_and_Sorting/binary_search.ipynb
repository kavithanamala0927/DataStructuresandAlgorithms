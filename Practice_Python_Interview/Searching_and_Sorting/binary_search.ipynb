{
 "cells": [
  {
   "cell_type": "code",
   "execution_count": 46,
   "metadata": {},
   "outputs": [],
   "source": [
    "def binarySearch(array, data):\n",
    "    found = 0\n",
    "    #Sort the array before applying the Binary Search algorithm\n",
    "    for i in range(0, len(array)-1):\n",
    "        for j in range (0, len(array)-1):\n",
    "            if array[j] > array[j+1]:\n",
    "                temp = array[j]\n",
    "                array[j] = array[j+1]\n",
    "                array[j+1] = temp\n",
    "    #Apply Binary Search once the Array is Sorted\n",
    "    left = 0\n",
    "    right = len(array) \n",
    "    print (array)\n",
    "    while (left < right):   \n",
    "        mid = (left + right) // 2\n",
    "        print (\"mid\", array[mid])\n",
    "        print (\"data\", data)\n",
    "        if data == array[mid]:\n",
    "            return mid\n",
    "        elif data < array[mid]:\n",
    "            right = mid - 1\n",
    "        else:\n",
    "            left = mid + 1\n",
    "    return -1\n",
    "        \n",
    "            "
   ]
  },
  {
   "cell_type": "code",
   "execution_count": 50,
   "metadata": {},
   "outputs": [
    {
     "name": "stdout",
     "output_type": "stream",
     "text": [
      "[2, 5, 15, 17, 20, 35, 42, 67]\n",
      "mid 20\n",
      "data 67\n",
      "mid 42\n",
      "data 67\n",
      "mid 67\n",
      "data 67\n"
     ]
    },
    {
     "data": {
      "text/plain": [
       "7"
      ]
     },
     "execution_count": 50,
     "metadata": {},
     "output_type": "execute_result"
    }
   ],
   "source": [
    "array = [15,5,20,35,2,42,67,17]\n",
    "binarySearch(array, 20)\n",
    "binarySearch(array, 60)"
   ]
  },
  {
   "cell_type": "code",
   "execution_count": null,
   "metadata": {},
   "outputs": [],
   "source": []
  },
  {
   "cell_type": "code",
   "execution_count": null,
   "metadata": {},
   "outputs": [],
   "source": []
  }
 ],
 "metadata": {
  "kernelspec": {
   "display_name": "Python 3",
   "language": "python",
   "name": "python3"
  },
  "language_info": {
   "codemirror_mode": {
    "name": "ipython",
    "version": 3
   },
   "file_extension": ".py",
   "mimetype": "text/x-python",
   "name": "python",
   "nbconvert_exporter": "python",
   "pygments_lexer": "ipython3",
   "version": "3.7.3"
  }
 },
 "nbformat": 4,
 "nbformat_minor": 2
}
