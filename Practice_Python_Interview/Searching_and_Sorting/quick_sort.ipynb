{
 "cells": [
  {
   "cell_type": "code",
   "execution_count": 83,
   "metadata": {},
   "outputs": [],
   "source": [
    "def partition(array, lb, ub):\n",
    "    pivot = array[lb]\n",
    "    start = lb\n",
    "    end = ub\n",
    "    while start < end:\n",
    "        while (array[start] <= pivot and start < ub):\n",
    "            start += 1\n",
    "            \n",
    "        while (array[end] > pivot and end > lb):\n",
    "            end -= 1\n",
    "            \n",
    "        if start < end :           \n",
    "            temp = array[start]\n",
    "            array[start] = array[end]\n",
    "            array[end] = temp\n",
    "        \n",
    "    temp = array[lb]\n",
    "    array[lb] = array[end]\n",
    "    array[end] = temp\n",
    "    return end\n",
    "def quickSort(array, lb, ub):\n",
    "    if lb < ub:\n",
    "        loc = partition(array, lb, ub)\n",
    "        quickSort(array, lb, loc-1)\n",
    "        quickSort(array, loc+1, ub)\n",
    "    return array\n",
    "    \n",
    "    "
   ]
  },
  {
   "cell_type": "code",
   "execution_count": 84,
   "metadata": {},
   "outputs": [
    {
     "data": {
      "text/plain": [
       "[1, 1, 4, 5, 6, 8, 15, 45]"
      ]
     },
     "execution_count": 84,
     "metadata": {},
     "output_type": "execute_result"
    }
   ],
   "source": [
    "array = [5,6,1,15,45,1,8,4]\n",
    "quickSort(array, 0, 7)"
   ]
  },
  {
   "cell_type": "code",
   "execution_count": null,
   "metadata": {},
   "outputs": [],
   "source": []
  },
  {
   "cell_type": "code",
   "execution_count": null,
   "metadata": {},
   "outputs": [],
   "source": []
  }
 ],
 "metadata": {
  "kernelspec": {
   "display_name": "Python 3",
   "language": "python",
   "name": "python3"
  },
  "language_info": {
   "codemirror_mode": {
    "name": "ipython",
    "version": 3
   },
   "file_extension": ".py",
   "mimetype": "text/x-python",
   "name": "python",
   "nbconvert_exporter": "python",
   "pygments_lexer": "ipython3",
   "version": "3.7.3"
  }
 },
 "nbformat": 4,
 "nbformat_minor": 2
}
