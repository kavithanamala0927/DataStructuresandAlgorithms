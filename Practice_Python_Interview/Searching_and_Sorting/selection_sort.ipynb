{
 "cells": [
  {
   "cell_type": "code",
   "execution_count": 1,
   "metadata": {},
   "outputs": [],
   "source": [
    "def selectionSort(array):\n",
    "    for i in range(0, len(array)-1):\n",
    "        sortedarray = i\n",
    "        for j in range(i+1, len(array)):\n",
    "            if array[j] < array[sortedarray]:\n",
    "                sortedarray = j    \n",
    "        if sortedarray != i:\n",
    "            temp = array[i]\n",
    "            array[i] = array[sortedarray]\n",
    "            array[sortedarray] = temp\n",
    "    return (array)"
   ]
  },
  {
   "cell_type": "code",
   "execution_count": 2,
   "metadata": {},
   "outputs": [
    {
     "data": {
      "text/plain": [
       "[1, 3, 4, 7, 8, 10]"
      ]
     },
     "execution_count": 2,
     "metadata": {},
     "output_type": "execute_result"
    }
   ],
   "source": [
    "array = [7,4,10,8,3,1]\n",
    "selectionSort(array)\n"
   ]
  },
  {
   "cell_type": "code",
   "execution_count": null,
   "metadata": {},
   "outputs": [],
   "source": []
  }
 ],
 "metadata": {
  "kernelspec": {
   "display_name": "Python 3",
   "language": "python",
   "name": "python3"
  },
  "language_info": {
   "codemirror_mode": {
    "name": "ipython",
    "version": 3
   },
   "file_extension": ".py",
   "mimetype": "text/x-python",
   "name": "python",
   "nbconvert_exporter": "python",
   "pygments_lexer": "ipython3",
   "version": "3.7.3"
  }
 },
 "nbformat": 4,
 "nbformat_minor": 2
}
