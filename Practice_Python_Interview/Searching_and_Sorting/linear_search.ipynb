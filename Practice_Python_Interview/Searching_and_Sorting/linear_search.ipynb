{
 "cells": [
  {
   "cell_type": "code",
   "execution_count": 7,
   "metadata": {},
   "outputs": [],
   "source": [
    "def linearSearch(array, data):\n",
    "    found = 0\n",
    "    for i in range(0, len(array)):\n",
    "        if array[i] == data:\n",
    "            found = 1\n",
    "            print (\"Element Found at \", i)\n",
    "            break\n",
    "    if found == 0:\n",
    "        print (\"Element not found in the Array\")\n",
    "\n",
    "        \n",
    "            "
   ]
  },
  {
   "cell_type": "code",
   "execution_count": 9,
   "metadata": {},
   "outputs": [
    {
     "name": "stdout",
     "output_type": "stream",
     "text": [
      "Element Found at  5\n",
      "Element not found in the Array\n"
     ]
    }
   ],
   "source": [
    "array = [15,5,20,35,2,42,67,17]\n",
    "linearSearch(array, 42)\n",
    "linearSearch(array, 60)"
   ]
  },
  {
   "cell_type": "raw",
   "metadata": {},
   "source": []
  },
  {
   "cell_type": "code",
   "execution_count": null,
   "metadata": {},
   "outputs": [],
   "source": []
  }
 ],
 "metadata": {
  "kernelspec": {
   "display_name": "Python 3",
   "language": "python",
   "name": "python3"
  },
  "language_info": {
   "codemirror_mode": {
    "name": "ipython",
    "version": 3
   },
   "file_extension": ".py",
   "mimetype": "text/x-python",
   "name": "python",
   "nbconvert_exporter": "python",
   "pygments_lexer": "ipython3",
   "version": "3.7.3"
  }
 },
 "nbformat": 4,
 "nbformat_minor": 2
}
