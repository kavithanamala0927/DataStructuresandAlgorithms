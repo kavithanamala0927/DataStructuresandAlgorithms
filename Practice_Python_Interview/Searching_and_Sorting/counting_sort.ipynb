{
 "cells": [
  {
   "cell_type": "code",
   "execution_count": 85,
   "metadata": {},
   "outputs": [],
   "source": [
    "def getMax(array):\n",
    "    max_ele = array[0]\n",
    "    for i in range(0, len(array)):\n",
    "        if max_ele < array[i]:\n",
    "            max_ele = array[i]\n",
    "    return max_ele\n",
    "\n",
    "def countingSort(array):\n",
    "    max_range = getMax(array)\n",
    "    countArray = [0]*(max_range+1)\n",
    "    sortedArray = [0]*len(array)\n",
    "    for i in range(0, len(array)):\n",
    "        countArray[array[i]] = countArray[array[i]]+1\n",
    "    for i in range(1, max_range+1):\n",
    "        countArray[i] = countArray[i] + countArray[i-1]\n",
    "    for i in range(len(array)-1, -1, -1):\n",
    "        countArray[array[i]] = countArray[array[i]]-1\n",
    "        sortedArray[countArray[array[i]]] = array[i]\n",
    "    for i in range(0,len(array)):\n",
    "        array[i] = sortedArray[i]\n",
    "    return array\n",
    "        \n",
    "    \n",
    "\n",
    "    \n"
   ]
  },
  {
   "cell_type": "code",
   "execution_count": 86,
   "metadata": {},
   "outputs": [
    {
     "data": {
      "text/plain": [
       "[0, 0, 0, 1, 1, 1, 2, 2, 2, 2, 4, 5, 7, 7, 8, 9, 9]"
      ]
     },
     "execution_count": 86,
     "metadata": {},
     "output_type": "execute_result"
    }
   ],
   "source": [
    "array = [2,1,1,0,2,5,4,0,2,8,7,7,9,2,0,1,9]\n",
    "countingSort(array)"
   ]
  },
  {
   "cell_type": "raw",
   "metadata": {},
   "source": []
  },
  {
   "cell_type": "code",
   "execution_count": null,
   "metadata": {},
   "outputs": [],
   "source": []
  }
 ],
 "metadata": {
  "kernelspec": {
   "display_name": "Python 3",
   "language": "python",
   "name": "python3"
  },
  "language_info": {
   "codemirror_mode": {
    "name": "ipython",
    "version": 3
   },
   "file_extension": ".py",
   "mimetype": "text/x-python",
   "name": "python",
   "nbconvert_exporter": "python",
   "pygments_lexer": "ipython3",
   "version": "3.7.3"
  }
 },
 "nbformat": 4,
 "nbformat_minor": 2
}
