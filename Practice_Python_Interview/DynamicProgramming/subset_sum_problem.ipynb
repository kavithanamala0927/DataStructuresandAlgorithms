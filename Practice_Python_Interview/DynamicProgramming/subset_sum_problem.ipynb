{
 "cells": [
  {
   "cell_type": "code",
   "execution_count": 21,
   "metadata": {},
   "outputs": [
    {
     "name": "stdout",
     "output_type": "stream",
     "text": [
      "1\n",
      "4\n",
      "8\n",
      "1 2 5 7\n",
      "i= 0\n",
      "i= 1\n",
      "i= 2\n",
      "i= 3\n",
      "1\n"
     ]
    }
   ],
   "source": [
    "for i in range(int(input())):\n",
    "    array_size = int(input())\n",
    "    subset_sum = int(input())\n",
    "    array = list(map(int, input().split()))\n",
    "    result = []\n",
    "    for i in range(array_size):\n",
    "        result.append([0]*(subset_sum+1))\n",
    "        result[i][0] = 1\n",
    "        for j in range(subset_sum+1):\n",
    "            if array[i] > subset_sum:\n",
    "                result[i][j] = result[i-1][j]\n",
    "            else: \n",
    "                result[i][j] = result[i-1][j] or result[i][j-array[i]]\n",
    "    print (result[-1][-1])\n",
    "            "
   ]
  },
  {
   "cell_type": "code",
   "execution_count": null,
   "metadata": {},
   "outputs": [],
   "source": [
    "for i in range(int(input())):\n",
    "    coins_size = int(input())\n",
    "    coins = [int(n) for n in (input().split())]\n",
    "    amount = int(input())\n",
    "    amount += 1\n",
    "    a = []\n",
    "    for i in range(len(coins)):\n",
    "        a.append([0]*amount)\n",
    "        a[i][0] = 1\n",
    "        for j in range(amount):\n",
    "            if coins[i] > amount:\n",
    "                a[i][j] = a[i-1][j]\n",
    "            else: \n",
    "                a[i][j] = a[i-1][j] + a[i][j-coins[i]]\n",
    "    print (a[-1][-1])"
   ]
  }
 ],
 "metadata": {
  "kernelspec": {
   "display_name": "Python 3",
   "language": "python",
   "name": "python3"
  },
  "language_info": {
   "codemirror_mode": {
    "name": "ipython",
    "version": 3
   },
   "file_extension": ".py",
   "mimetype": "text/x-python",
   "name": "python",
   "nbconvert_exporter": "python",
   "pygments_lexer": "ipython3",
   "version": "3.7.3"
  }
 },
 "nbformat": 4,
 "nbformat_minor": 2
}
