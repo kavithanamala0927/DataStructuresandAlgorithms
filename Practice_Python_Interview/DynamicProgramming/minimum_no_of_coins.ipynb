{
 "cells": [
  {
   "cell_type": "code",
   "execution_count": 9,
   "metadata": {},
   "outputs": [
    {
     "name": "stdout",
     "output_type": "stream",
     "text": [
      "4\n",
      "[43, 43, 43, 43, 43, 0, 0, 0, 0, 0, 0, 0, 0, 0, 0, 0, 0, 0, 0, 0, 0, 0, 0, 0, 0, 0, 0, 0, 0, 0, 0, 0, 0, 0, 0, 0, 0, 0, 0, 0, 0, 0, 0, 0]\n"
     ]
    }
   ],
   "source": [
    "coins = [1, 2, 5, 10, 20, 50, 100, 200, 500, 2000]\n",
    "amount = 43\n",
    "amount += 1\n",
    "a = []\n",
    "result = [0]*amount\n",
    "MAX_VALUE = 2167548\n",
    "for i in range(len(coins)):\n",
    "    a.append([MAX_VALUE]*amount)\n",
    "    a[i][0] = 0\n",
    "    for j in range(amount):\n",
    "        if coins[i] > amount:\n",
    "            a[i][j] = a[i-1][j]\n",
    "        else: \n",
    "            a[i][j] = min(a[i-1][j], 1 + a[i][j-coins[i]])\n",
    "            result[i] = j\n",
    "print (a[-1][-1])\n",
    "print (result)"
   ]
  },
  {
   "cell_type": "code",
   "execution_count": null,
   "metadata": {},
   "outputs": [],
   "source": []
  }
 ],
 "metadata": {
  "kernelspec": {
   "display_name": "Python 3",
   "language": "python",
   "name": "python3"
  },
  "language_info": {
   "codemirror_mode": {
    "name": "ipython",
    "version": 3
   },
   "file_extension": ".py",
   "mimetype": "text/x-python",
   "name": "python",
   "nbconvert_exporter": "python",
   "pygments_lexer": "ipython3",
   "version": "3.7.3"
  }
 },
 "nbformat": 4,
 "nbformat_minor": 2
}
