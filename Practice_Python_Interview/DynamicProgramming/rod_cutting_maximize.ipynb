{
 "cells": [
  {
   "cell_type": "code",
   "execution_count": 24,
   "metadata": {
    "scrolled": false
   },
   "outputs": [
    {
     "name": "stdout",
     "output_type": "stream",
     "text": [
      "1\n",
      "5\n",
      "5 3 2\n",
      "2\n"
     ]
    }
   ],
   "source": [
    "for i in range(int(input())):\n",
    "    length = int(input())\n",
    "    x,y,z = map(int, input().split())\n",
    "    result = [-1]* (length+1)\n",
    "    result[0] = 0\n",
    "    for j in range(length):\n",
    "        #if result[j] == -1:\n",
    "        #    continue\n",
    "        if (j+x) <= length:            \n",
    "            result[j+x] =  max(result[j+x], result[j]+1) \n",
    "        if (j+y) <= length:\n",
    "            result[j+y] = max(result[j+y], result[j]+1)\n",
    "        if (j+z) <= length:\n",
    "            result[j+z] = max(result[j+z], result[j]+1)\n",
    "    print (result[length])\n",
    "            "
   ]
  },
  {
   "cell_type": "code",
   "execution_count": null,
   "metadata": {},
   "outputs": [],
   "source": [
    "\n"
   ]
  },
  {
   "cell_type": "code",
   "execution_count": null,
   "metadata": {},
   "outputs": [],
   "source": []
  },
  {
   "cell_type": "code",
   "execution_count": null,
   "metadata": {},
   "outputs": [],
   "source": []
  }
 ],
 "metadata": {
  "kernelspec": {
   "display_name": "Python 3",
   "language": "python",
   "name": "python3"
  },
  "language_info": {
   "codemirror_mode": {
    "name": "ipython",
    "version": 3
   },
   "file_extension": ".py",
   "mimetype": "text/x-python",
   "name": "python",
   "nbconvert_exporter": "python",
   "pygments_lexer": "ipython3",
   "version": "3.7.3"
  }
 },
 "nbformat": 4,
 "nbformat_minor": 2
}
