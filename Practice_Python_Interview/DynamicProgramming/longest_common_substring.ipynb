{
 "cells": [
  {
   "cell_type": "code",
   "execution_count": 5,
   "metadata": {},
   "outputs": [
    {
     "name": "stdout",
     "output_type": "stream",
     "text": [
      "1\n"
     ]
    }
   ],
   "source": [
    "str1 = \"ABC\"\n",
    "str2 = \"AC\"\n",
    "result = []\n",
    "maxLength = 0\n",
    "for i in range(len(str2)):\n",
    "    result.append([0]*(len(str1)))\n",
    "    for j in range(len(str1)):        \n",
    "        if str2[i] == str1[j]:\n",
    "            result[i][j] = result[i-1][j-1] + 1\n",
    "        else:\n",
    "            result[i][j] = 0   \n",
    "        if result[i][j] > maxLength:\n",
    "                maxLength = result[i][j]\n",
    "print (maxLength)"
   ]
  },
  {
   "cell_type": "code",
   "execution_count": 4,
   "metadata": {},
   "outputs": [
    {
     "name": "stdout",
     "output_type": "stream",
     "text": [
      "1\n",
      "81 13\n",
      "PDJXYUZQXSTATBZPCTTHOOFREMGFKRBCVKZVGBOFTHGOJHDNAYWPNBITORAAIBEDNEZWFPDAWLOHSSVTQ\n",
      "TKFVSYLJZLUCQ\n",
      "2\n"
     ]
    }
   ],
   "source": [
    "for n in range(int(input())):\n",
    "    str1_size, str2_size = map(int, input().split())\n",
    "    str1 = input()\n",
    "    str2 = input()\n",
    "    result = []\n",
    "    maxLength = 0\n",
    "    for i in range(len(str2)):\n",
    "        result.append([-1]*(len(str1)))\n",
    "        for j in range(len(str1)):        \n",
    "            if str2[i] == str1[j]:\n",
    "                result[i][j] = result[i-1][j-1] + 1\n",
    "            else:\n",
    "                result[i][j] = 0   \n",
    "            if result[i][j] > maxLength:\n",
    "                maxLength = result[i][j]\n",
    "    \n",
    "    print (maxLength)\n",
    "    "
   ]
  },
  {
   "cell_type": "code",
   "execution_count": null,
   "metadata": {},
   "outputs": [],
   "source": [
    "PDJXYUZQXSTATBZPCTTHOOFREMGFKRBCVKZVGBOFTHGOJHDNAYWPNBITORAAIBEDNEZWFPDAWLOHSSVTQ"
   ]
  }
 ],
 "metadata": {
  "kernelspec": {
   "display_name": "Python 3",
   "language": "python",
   "name": "python3"
  },
  "language_info": {
   "codemirror_mode": {
    "name": "ipython",
    "version": 3
   },
   "file_extension": ".py",
   "mimetype": "text/x-python",
   "name": "python",
   "nbconvert_exporter": "python",
   "pygments_lexer": "ipython3",
   "version": "3.7.3"
  }
 },
 "nbformat": 4,
 "nbformat_minor": 2
}
