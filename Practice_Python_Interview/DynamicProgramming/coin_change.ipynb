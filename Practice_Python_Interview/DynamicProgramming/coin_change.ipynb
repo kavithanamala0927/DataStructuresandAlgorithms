{
 "cells": [
  {
   "cell_type": "code",
   "execution_count": 2,
   "metadata": {},
   "outputs": [
    {
     "name": "stdout",
     "output_type": "stream",
     "text": [
      "2\n",
      "3\n",
      "1 2 3\n",
      "4\n",
      "4\n",
      "4\n",
      "2 5 3 6\n",
      "10\n",
      "5\n"
     ]
    }
   ],
   "source": [
    "for i in range(int(input())):\n",
    "    coins_size = int(input())\n",
    "    coins = [int(n) for n in (input().split())]\n",
    "    amount = int(input())\n",
    "    amount += 1\n",
    "    a = []\n",
    "    for i in range(len(coins)):\n",
    "        a.append([0]*amount)\n",
    "        a[i][0] = 1\n",
    "        for j in range(amount):\n",
    "            if coins[i] > amount:\n",
    "                a[i][j] = a[i-1][j]\n",
    "            else: \n",
    "                a[i][j] = a[i-1][j] + a[i][j-coins[i]]\n",
    "    print (a[-1][-1])\n",
    "\n"
   ]
  },
  {
   "cell_type": "code",
   "execution_count": null,
   "metadata": {},
   "outputs": [],
   "source": []
  }
 ],
 "metadata": {
  "kernelspec": {
   "display_name": "Python 3",
   "language": "python",
   "name": "python3"
  },
  "language_info": {
   "codemirror_mode": {
    "name": "ipython",
    "version": 3
   },
   "file_extension": ".py",
   "mimetype": "text/x-python",
   "name": "python",
   "nbconvert_exporter": "python",
   "pygments_lexer": "ipython3",
   "version": "3.7.3"
  }
 },
 "nbformat": 4,
 "nbformat_minor": 2
}
