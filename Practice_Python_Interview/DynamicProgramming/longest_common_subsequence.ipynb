{
 "cells": [
  {
   "cell_type": "code",
   "execution_count": 8,
   "metadata": {},
   "outputs": [
    {
     "name": "stdout",
     "output_type": "stream",
     "text": [
      "3\n"
     ]
    }
   ],
   "source": [
    "#str1 = \"ABCVDEFGH\"\n",
    "#str2 = \"BQDRCVEFGH\"\n",
    "str1 = \"ABCDGH\"\n",
    "str2 = \"AEDFHR\"\n",
    "#str1 = \"ABC\"\n",
    "#str2 = \"AC\"\n",
    "result = []\n",
    "for i in range(len(str1)):\n",
    "    result.append([0]*(len(str2)))\n",
    "    for j in range(len(str2)):        \n",
    "        if str1[i] == str2[j]:\n",
    "            result[i][j] = result[i-1][j-1] + 1\n",
    "        else:\n",
    "            result[i][j] = max(result[i-1][j], result[i][j-1])         \n",
    "\n",
    "print (result[-1][-1])\n",
    "            "
   ]
  },
  {
   "cell_type": "markdown",
   "metadata": {},
   "source": []
  },
  {
   "cell_type": "code",
   "execution_count": 7,
   "metadata": {},
   "outputs": [
    {
     "name": "stdout",
     "output_type": "stream",
     "text": [
      "1\n",
      "3 2\n",
      "ABC\n",
      "AC\n",
      "[[1, 1], [1, 1], [1, 2]]\n",
      "2\n"
     ]
    }
   ],
   "source": [
    "for n in range (int(input())):\n",
    "    str1_size, str2_size = map(int, input().split())\n",
    "    str1 = input()\n",
    "    str2 = input()\n",
    "    result = []\n",
    "    for i in range(len(str1)):\n",
    "        result.append([0]*(len(str2)))\n",
    "        for j in range(len(str2)):             \n",
    "            if str1[i] == str2[j]:\n",
    "                result[i][j] = result[i-1][j-1] + 1\n",
    "            else:\n",
    "                result[i][j] = max(result[i-1][j], result[i][j-1])         \n",
    "    print (result)\n",
    "    print (result[-1][-1])"
   ]
  },
  {
   "cell_type": "code",
   "execution_count": 4,
   "metadata": {},
   "outputs": [
    {
     "ename": "NameError",
     "evalue": "name 'LRBBMQBHCDARZOWKKYHIDDQSCDXRJMOWFRXSJYBLDBEFSARCBYNECDYGGXXPKLORELLNMPAPQFWKHOPKMCO' is not defined",
     "output_type": "error",
     "traceback": [
      "\u001b[1;31m---------------------------------------------------------------------------\u001b[0m",
      "\u001b[1;31mNameError\u001b[0m                                 Traceback (most recent call last)",
      "\u001b[1;32m<ipython-input-4-babf731d1634>\u001b[0m in \u001b[0;36m<module>\u001b[1;34m\u001b[0m\n\u001b[1;32m----> 1\u001b[1;33m \u001b[0mLRBBMQBHCDARZOWKKYHIDDQSCDXRJMOWFRXSJYBLDBEFSARCBYNECDYGGXXPKLORELLNMPAPQFWKHOPKMCO\u001b[0m\u001b[1;33m\u001b[0m\u001b[1;33m\u001b[0m\u001b[0m\n\u001b[0m\u001b[0;32m      2\u001b[0m \u001b[0mQHNWNKUEWHSQMGBBUQCLJJIVSWMDKQTBXIXMVTRRBLJPTNSNFWZQFJMAFADRRWSOFSBCNUVQHFFBSAQXWPQCAC\u001b[0m\u001b[1;33m\u001b[0m\u001b[1;33m\u001b[0m\u001b[0m\n",
      "\u001b[1;31mNameError\u001b[0m: name 'LRBBMQBHCDARZOWKKYHIDDQSCDXRJMOWFRXSJYBLDBEFSARCBYNECDYGGXXPKLORELLNMPAPQFWKHOPKMCO' is not defined"
     ]
    }
   ],
   "source": [
    "LRBBMQBHCDARZOWKKYHIDDQSCDXRJMOWFRXSJYBLDBEFSARCBYNECDYGGXXPKLORELLNMPAPQFWKHOPKMCO\n",
    "QHNWNKUEWHSQMGBBUQCLJJIVSWMDKQTBXIXMVTRRBLJPTNSNFWZQFJMAFADRRWSOFSBCNUVQHFFBSAQXWPQCAC"
   ]
  },
  {
   "cell_type": "code",
   "execution_count": null,
   "metadata": {},
   "outputs": [],
   "source": []
  }
 ],
 "metadata": {
  "kernelspec": {
   "display_name": "Python 3",
   "language": "python",
   "name": "python3"
  },
  "language_info": {
   "codemirror_mode": {
    "name": "ipython",
    "version": 3
   },
   "file_extension": ".py",
   "mimetype": "text/x-python",
   "name": "python",
   "nbconvert_exporter": "python",
   "pygments_lexer": "ipython3",
   "version": "3.7.3"
  }
 },
 "nbformat": 4,
 "nbformat_minor": 2
}
