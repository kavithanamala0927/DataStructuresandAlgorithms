{
 "cells": [
  {
   "cell_type": "code",
   "execution_count": 34,
   "metadata": {},
   "outputs": [
    {
     "name": "stdout",
     "output_type": "stream",
     "text": [
      "10\n"
     ]
    }
   ],
   "source": [
    "#array = [0,4,12,2,10,6,9,13,3,11,7,15]\n",
    "array = [23,10,22,5,33,8,9,21,50,41,60,80,99, 22,23,24,25,26,27]\n",
    "#array = [0, 8, 4, 12, 2, 10, 6, 14, 1, 9, 5, 13, 3, 11, 7, 15]\n",
    "#array = [5, 8, 3, 7, 9, 1]\n",
    "length = [1]*len(array)\n",
    "result = [0]*len(array)\n",
    "for i in range(1, len(array)):\n",
    "    result[i] = i\n",
    "    for j in range(i):\n",
    "        if array[i] > array[j]:\n",
    "            length[i] = max(length[i], length[j] + 1)\n",
    "            result[i] = j\n",
    "max_length = (max(length))\n",
    "print (max_length)\n",
    "\n",
    "        "
   ]
  },
  {
   "cell_type": "code",
   "execution_count": 18,
   "metadata": {},
   "outputs": [
    {
     "name": "stdout",
     "output_type": "stream",
     "text": [
      "2\n",
      "16\n",
      "0 8 4 12 2 10 6 14 1 9 5 13 3 11 7 15\n",
      "6\n",
      "6\n",
      "5 8 3 7 9 1\n",
      "3\n"
     ]
    }
   ],
   "source": [
    "for n in range(int(input())):\n",
    "    array_size = int(input())\n",
    "    array = list(map(int, input().split()))\n",
    "    length = [1]*array_size\n",
    "    for i in range(1, array_size):\n",
    "        for j in range(i):\n",
    "            if array[i] > array[j]:\n",
    "                length[i] = max(length[i], length[j] + 1)\n",
    "    print (max(length))"
   ]
  },
  {
   "cell_type": "code",
   "execution_count": null,
   "metadata": {},
   "outputs": [],
   "source": []
  }
 ],
 "metadata": {
  "kernelspec": {
   "display_name": "Python 3",
   "language": "python",
   "name": "python3"
  },
  "language_info": {
   "codemirror_mode": {
    "name": "ipython",
    "version": 3
   },
   "file_extension": ".py",
   "mimetype": "text/x-python",
   "name": "python",
   "nbconvert_exporter": "python",
   "pygments_lexer": "ipython3",
   "version": "3.7.3"
  }
 },
 "nbformat": 4,
 "nbformat_minor": 2
}
