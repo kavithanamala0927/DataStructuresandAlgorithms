{
 "cells": [
  {
   "cell_type": "code",
   "execution_count": 141,
   "metadata": {},
   "outputs": [],
   "source": [
    "class Node:\n",
    "    def __init__(self, data):\n",
    "        self.data = data\n",
    "        self.next = None\n",
    "class LinkedList:\n",
    "    def __init__(self):\n",
    "        self.head = None\n",
    "    def insert(self, data):\n",
    "        newNode = Node(data)\n",
    "        if self.head == None:\n",
    "            self.head = newNode\n",
    "        else:\n",
    "            newNode.next = self.head\n",
    "            self.head = newNode\n",
    "    def display(self):\n",
    "        current = self.head\n",
    "        if current == None:\n",
    "            print (\"LinkedList is empty\")\n",
    "        while current:\n",
    "            print (current.data, end = \" \")\n",
    "            current = current.next\n",
    "        print ()\n",
    "        \n",
    "def merge(headA, headB):\n",
    "    mergeNode = Node(None) \n",
    "    \n",
    "    tail = mergeNode\n",
    "    while True:\n",
    "        if headB is None:\n",
    "            tail.next = headA\n",
    "            break\n",
    "        if headA is None:\n",
    "            tail.next = headB\n",
    "            break\n",
    "        if headA.data <= headB.data:\n",
    "            tail.next = headA\n",
    "            headA = headA.next\n",
    "        else:\n",
    "            tail.next = headB\n",
    "            headB = headB.next            \n",
    "        tail = tail.next\n",
    "    #print (\"Display merged elements:::\")\n",
    "    return mergeNode.next\n",
    "            "
   ]
  },
  {
   "cell_type": "code",
   "execution_count": 142,
   "metadata": {},
   "outputs": [
    {
     "name": "stdout",
     "output_type": "stream",
     "text": [
      "ListA elements:::\n",
      "5 10 15 \n",
      "ListB Elements:::\n",
      "2 3 20 \n",
      "2 3 5 10 15 20 \n",
      "None\n"
     ]
    }
   ],
   "source": [
    "listA = LinkedList()\n",
    "listB = LinkedList()\n",
    "listA.insert(15)\n",
    "listA.insert(10)\n",
    "listA.insert(5)\n",
    "\n",
    "listB.insert(20)\n",
    "listB.insert(3)\n",
    "listB.insert(2)\n",
    "print (\"ListA elements:::\")\n",
    "listA.display()\n",
    "print (\"ListB Elements:::\")\n",
    "listB.display()\n",
    "listA.head = merge(listA.head, listB.head)\n",
    "print (listA.display())"
   ]
  },
  {
   "cell_type": "code",
   "execution_count": 130,
   "metadata": {},
   "outputs": [
    {
     "name": "stdout",
     "output_type": "stream",
     "text": [
      "Merged Linked List is:\n",
      "2 3 5 10 15 20 "
     ]
    }
   ],
   "source": [
    "class Node:\n",
    "    def __init__(self, data):\n",
    "        self.data = data\n",
    "        self.next = None\n",
    "class LinkedList:\n",
    "    def __init__(self):\n",
    "        self.head = None\n",
    "    def insert(self, data):\n",
    "        newNode = Node(data)\n",
    "        if self.head == None:\n",
    "            self.head = newNode\n",
    "        else:\n",
    "            newNode.next = self.head\n",
    "            self.head = newNode\n",
    "    def display(self):\n",
    "        current = self.head\n",
    "        if current == None:\n",
    "            print (\"LinkedList is empty\")\n",
    "        while current:\n",
    "            print (current.data, end = \" \")\n",
    "            current = current.next\n",
    "        print ()\n",
    "        \n",
    "    def merge(self,headA, headB):\n",
    "        \n",
    "            "
   ]
  },
  {
   "cell_type": "code",
   "execution_count": null,
   "metadata": {},
   "outputs": [],
   "source": []
  }
 ],
 "metadata": {
  "kernelspec": {
   "display_name": "Python 3",
   "language": "python",
   "name": "python3"
  },
  "language_info": {
   "codemirror_mode": {
    "name": "ipython",
    "version": 3
   },
   "file_extension": ".py",
   "mimetype": "text/x-python",
   "name": "python",
   "nbconvert_exporter": "python",
   "pygments_lexer": "ipython3",
   "version": "3.8.5"
  }
 },
 "nbformat": 4,
 "nbformat_minor": 4
}
