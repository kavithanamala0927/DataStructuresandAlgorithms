{
 "cells": [
  {
   "cell_type": "code",
   "execution_count": 9,
   "metadata": {},
   "outputs": [
    {
     "name": "stdout",
     "output_type": "stream",
     "text": [
      "4\n",
      "4\n",
      "4\n",
      "[2, 3, 5, 6, 10]\n",
      "[2, 3, 5, 6, 9, 10]\n"
     ]
    }
   ],
   "source": [
    "import bisect\n",
    "\n",
    "data = [2,3,5,6,10]\n",
    "entry = 9\n",
    "pos = bisect.bisect_right(data, entry)\n",
    "pos\n",
    "print (pos)\n",
    "pos1 = bisect.bisect_left(data, entry)\n",
    "pos1\n",
    "print (pos1)\n",
    "pos2 = bisect.bisect(data, entry)\n",
    "print (pos2)\n",
    "print (data)\n",
    "bisect.insort(data, entry)\n",
    "print (data)"
   ]
  },
  {
   "cell_type": "code",
   "execution_count": null,
   "metadata": {},
   "outputs": [],
   "source": []
  }
 ],
 "metadata": {
  "kernelspec": {
   "display_name": "Python 3",
   "language": "python",
   "name": "python3"
  },
  "language_info": {
   "codemirror_mode": {
    "name": "ipython",
    "version": 3
   },
   "file_extension": ".py",
   "mimetype": "text/x-python",
   "name": "python",
   "nbconvert_exporter": "python",
   "pygments_lexer": "ipython3",
   "version": "3.8.5"
  }
 },
 "nbformat": 4,
 "nbformat_minor": 4
}
