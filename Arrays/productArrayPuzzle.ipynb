{
 "cells": [
  {
   "cell_type": "raw",
   "metadata": {},
   "source": []
  },
  {
   "cell_type": "code",
   "execution_count": 41,
   "metadata": {},
   "outputs": [
    {
     "name": "stdout",
     "output_type": "stream",
     "text": [
      "[258037519535308800, 0, 0, 0, 0, 0, 0, 0, 0, 0, 0, 0, 258037519535308800, 0, 0, 0, 0, 0, 0, 0, 0, 0, 0, 0, 0, 0, 0, 0]\n"
     ]
    }
   ],
   "source": [
    "arr = [0,8,6,2,4,7,9,3,9,2,8,3,0,1,7,8,9,1,5,4,9,2,5,7,4,9,9,4]\n",
    "prod = 1\n",
    "flag = 0\n",
    "for i in arr:\n",
    "    if i != 0:\n",
    "        prod *= i\n",
    "    else:\n",
    "        flag = 1\n",
    "#print (prod, flag)\n",
    "out = []\n",
    "for i in arr:\n",
    "    #print (flag, i)\n",
    "    if flag and i == 0:\n",
    "        out.append(prod)\n",
    "    elif flag and i != 0:\n",
    "        out.append(0)\n",
    "    else:\n",
    "        out.append(int(prod*(i**-1)))\n",
    "print (out)"
   ]
  },
  {
   "cell_type": "code",
   "execution_count": null,
   "metadata": {},
   "outputs": [],
   "source": [
    "def productArray(arr, n):\n",
    "    if n == 1:\n",
    "        return 0\n",
    "    "
   ]
  }
 ],
 "metadata": {
  "kernelspec": {
   "display_name": "Python 3",
   "language": "python",
   "name": "python3"
  },
  "language_info": {
   "codemirror_mode": {
    "name": "ipython",
    "version": 3
   },
   "file_extension": ".py",
   "mimetype": "text/x-python",
   "name": "python",
   "nbconvert_exporter": "python",
   "pygments_lexer": "ipython3",
   "version": "3.8.5"
  }
 },
 "nbformat": 4,
 "nbformat_minor": 4
}
