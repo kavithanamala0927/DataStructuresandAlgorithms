{
 "cells": [
  {
   "cell_type": "code",
   "execution_count": 49,
   "metadata": {},
   "outputs": [
    {
     "name": "stdout",
     "output_type": "stream",
     "text": [
      "29\n"
     ]
    },
    {
     "data": {
      "text/plain": [
       "[29,\n",
       " 42,\n",
       " 51,\n",
       " 94,\n",
       " 1,\n",
       " 35,\n",
       " 65,\n",
       " 25,\n",
       " 40,\n",
       " 13,\n",
       " 27,\n",
       " 87,\n",
       " 95,\n",
       " 40,\n",
       " 96,\n",
       " 71,\n",
       " 35,\n",
       " 79,\n",
       " 68,\n",
       " 2,\n",
       " 98,\n",
       " 3,\n",
       " 18,\n",
       " 93,\n",
       " 53,\n",
       " 57,\n",
       " 2,\n",
       " 81,\n",
       " 87,\n",
       " 42,\n",
       " 66,\n",
       " 90,\n",
       " 45,\n",
       " 20,\n",
       " 41,\n",
       " 30,\n",
       " 32,\n",
       " 18,\n",
       " 98,\n",
       " 72,\n",
       " 82,\n",
       " 76,\n",
       " 10,\n",
       " 28,\n",
       " 68,\n",
       " 57,\n",
       " 98,\n",
       " 54,\n",
       " 87,\n",
       " 66,\n",
       " 7,\n",
       " 84,\n",
       " 20,\n",
       " 25,\n",
       " 29,\n",
       " 72,\n",
       " 33,\n",
       " 30,\n",
       " 4,\n",
       " 20,\n",
       " 71,\n",
       " 69,\n",
       " 9,\n",
       " 16,\n",
       " 41,\n",
       " 50,\n",
       " 97,\n",
       " 24,\n",
       " 19,\n",
       " 46,\n",
       " 47,\n",
       " 52,\n",
       " 22,\n",
       " 56,\n",
       " 80,\n",
       " 89,\n",
       " 65]"
      ]
     },
     "execution_count": 49,
     "metadata": {},
     "output_type": "execute_result"
    }
   ],
   "source": [
    "def reverse(arr, low, high):\n",
    "    while low <= high:\n",
    "        arr[low], arr[high] = arr[high], arr[low]\n",
    "        low += 1\n",
    "        high -= 1\n",
    "def rotateArray(arr,n,d):\n",
    "    reverse(arr, 0, d-1)\n",
    "    reverse(arr, d, n-1)\n",
    "    reverse(arr, 0, n-1)\n",
    "    return arr\n",
    "    \n",
    "arr = [40,13,27, 87,95,40, 96,71,35,79,68,2,98,3,18,93,53,57,2,81,87,42,66,90,45,20,41,30,32,18,98,72,82,76,10,28,68,57,98,54,87,66,7,84,20,25,29,72,33,30,4,20,71,69,9,16,41,50,97,24,19,46,47,52,22,56,80,89,65,29,42,51,94,1,35,65,25]\n",
    "N = len(arr)\n",
    "D = 69\n",
    "#print (arr[69])\n",
    "#print (arr[D:N])\n",
    "rotateArray(arr, N, D)\n"
   ]
  },
  {
   "cell_type": "code",
   "execution_count": 11,
   "metadata": {},
   "outputs": [
    {
     "data": {
      "text/plain": [
       "77"
      ]
     },
     "execution_count": 11,
     "metadata": {},
     "output_type": "execute_result"
    }
   ],
   "source": [
    "arr = [40,13,27, 87,95,40, 96,71,35,79,68,2,98,3,18,93,53,57,2,81,87,42,66,90,45,20,41,30,32,18,98,72,82,76,10,28,68,57,98,54,87,66,7,84,20,25,29,72,33,30,4,20,71,69,9,16,41,50,97,24,19,46,47,52,22,56,80,89,65,29,42,51,94,1,35,65,25]\n",
    "len(arr)"
   ]
  },
  {
   "cell_type": "code",
   "execution_count": null,
   "metadata": {},
   "outputs": [],
   "source": []
  }
 ],
 "metadata": {
  "kernelspec": {
   "display_name": "Python 3",
   "language": "python",
   "name": "python3"
  },
  "language_info": {
   "codemirror_mode": {
    "name": "ipython",
    "version": 3
   },
   "file_extension": ".py",
   "mimetype": "text/x-python",
   "name": "python",
   "nbconvert_exporter": "python",
   "pygments_lexer": "ipython3",
   "version": "3.8.5"
  }
 },
 "nbformat": 4,
 "nbformat_minor": 4
}
