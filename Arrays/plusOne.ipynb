{
 "cells": [
  {
   "cell_type": "code",
   "execution_count": 16,
   "metadata": {},
   "outputs": [
    {
     "data": {
      "text/plain": [
       "[1, 0, 0, 0, 0]"
      ]
     },
     "execution_count": 16,
     "metadata": {},
     "output_type": "execute_result"
    }
   ],
   "source": [
    "arr = [9,9,9,9]\n",
    "res = list(str(int(\"\".join(list(map(str, arr))))+1))\n",
    "out = list(map(int, res))\n",
    "out"
   ]
  },
  {
   "cell_type": "code",
   "execution_count": 29,
   "metadata": {},
   "outputs": [
    {
     "name": "stdout",
     "output_type": "stream",
     "text": [
      "[1, 0, 0]\n"
     ]
    }
   ],
   "source": [
    "def plusOne(arr, n):\n",
    "    arr[n-1] += 1\n",
    "    carry = arr[n-1] / 10\n",
    "    arr[n-1] = arr[n-1] % 10\n",
    "    for i in range(n-2, -1, -1):\n",
    "        if carry == 1:\n",
    "            arr[i] += 1\n",
    "            carry = arr[i]/10\n",
    "            arr[i] = arr[i]%10\n",
    "    if carry == 1:\n",
    "        arr.insert(0,1)\n",
    "    return arr\n",
    "arr = [9,9]\n",
    "print (plusOne(arr, len(arr)))"
   ]
  },
  {
   "cell_type": "code",
   "execution_count": 35,
   "metadata": {},
   "outputs": [
    {
     "data": {
      "text/plain": [
       "['a', '#', 'b', '#', 'c']"
      ]
     },
     "execution_count": 35,
     "metadata": {},
     "output_type": "execute_result"
    }
   ],
   "source": [
    "\n"
   ]
  },
  {
   "cell_type": "code",
   "execution_count": null,
   "metadata": {},
   "outputs": [],
   "source": []
  }
 ],
 "metadata": {
  "kernelspec": {
   "display_name": "Python 3",
   "language": "python",
   "name": "python3"
  },
  "language_info": {
   "codemirror_mode": {
    "name": "ipython",
    "version": 3
   },
   "file_extension": ".py",
   "mimetype": "text/x-python",
   "name": "python",
   "nbconvert_exporter": "python",
   "pygments_lexer": "ipython3",
   "version": "3.8.5"
  }
 },
 "nbformat": 4,
 "nbformat_minor": 4
}
