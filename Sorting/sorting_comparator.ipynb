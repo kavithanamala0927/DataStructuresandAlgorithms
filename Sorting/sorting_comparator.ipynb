{
 "cells": [
  {
   "cell_type": "code",
   "execution_count": 36,
   "metadata": {},
   "outputs": [
    {
     "name": "stdout",
     "output_type": "stream",
     "text": [
      "[['aleksa', 150], ['amy', 100], ['david', 100], ['aakansha', 75], ['heraldo', 50]]\n"
     ]
    }
   ],
   "source": [
    "#data = [[\"Jones\", 20], [\"Jones\", 15],[\"Smith\", 20]]\n",
    "data = [[\"amy\", 100],[\"david\", 100],[\"heraldo\", 50],[\"aakansha\", 75],[\"aleksa\", 150]]\n",
    "for i in range(len(data)):\n",
    "    #print (\"i\",i)\n",
    "    for j in range(i+1, len(data)):\n",
    "        #print (\"j\",j)\n",
    "        if data[i][1] < data[j][1]:\n",
    "            data[i][1], data[j][1] = data[j][1], data[i][1]\n",
    "            data[i][0], data[j][0] = data[j][0], data[i][0]\n",
    "        elif data[i][1] == data[j][1]:\n",
    "            #print (data[i][1], data[j][1])\n",
    "            #print (data[i][0], data[j][0])\n",
    "            if data[i][0] > data[j][0]:\n",
    "                data[i][0], data[j][0] = data[j][0], data[i][0]\n",
    "print (data)"
   ]
  },
  {
   "cell_type": "code",
   "execution_count": 37,
   "metadata": {},
   "outputs": [
    {
     "data": {
      "text/plain": [
       "[['aakansha', 75],\n",
       " ['aleksa', 150],\n",
       " ['amy', 100],\n",
       " ['david', 100],\n",
       " ['heraldo', 50]]"
      ]
     },
     "execution_count": 37,
     "metadata": {},
     "output_type": "execute_result"
    }
   ],
   "source": [
    "data = [[\"amy\", 100],[\"david\", 100],[\"heraldo\", 50],[\"aakansha\", 75],[\"aleksa\", 150]]\n",
    "sorted(data)\n",
    "        "
   ]
  },
  {
   "cell_type": "code",
   "execution_count": 40,
   "metadata": {},
   "outputs": [
    {
     "name": "stdout",
     "output_type": "stream",
     "text": [
      "3\n",
      "amy 40\n",
      "kavith 50\n",
      "viswa 10\n",
      "kavith 50\n",
      "amy 40\n",
      "viswa 10\n"
     ]
    }
   ],
   "source": [
    "from functools import cmp_to_key\n",
    "class Player:\n",
    "    def __init__(self, name, score):\n",
    "        self.name = name\n",
    "        self.score = score\n",
    "        \n",
    "    def comparator(a, b):\n",
    "        if a.score > b.score :\n",
    "            return -1\n",
    "        elif a.score < b.score:\n",
    "            return 1\n",
    "        elif a.score == b.score:\n",
    "            if a.name > b.name:\n",
    "                return 1\n",
    "            elif a.name < b.name:\n",
    "                return -1\n",
    "            else:\n",
    "                return 0\n",
    "        \n",
    "\n",
    "n = int(input())\n",
    "data = []\n",
    "for i in range(n):\n",
    "    name, score = input().split()\n",
    "    score = int(score)\n",
    "    player = Player(name, score)\n",
    "    data.append(player)\n",
    "    \n",
    "data = sorted(data, key=cmp_to_key(Player.comparator))\n",
    "for i in data:\n",
    "    print(i.name, i.score)"
   ]
  },
  {
   "cell_type": "code",
   "execution_count": null,
   "metadata": {},
   "outputs": [],
   "source": []
  }
 ],
 "metadata": {
  "kernelspec": {
   "display_name": "Python 3",
   "language": "python",
   "name": "python3"
  },
  "language_info": {
   "codemirror_mode": {
    "name": "ipython",
    "version": 3
   },
   "file_extension": ".py",
   "mimetype": "text/x-python",
   "name": "python",
   "nbconvert_exporter": "python",
   "pygments_lexer": "ipython3",
   "version": "3.8.5"
  }
 },
 "nbformat": 4,
 "nbformat_minor": 4
}
