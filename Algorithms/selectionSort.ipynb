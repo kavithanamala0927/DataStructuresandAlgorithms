{
 "cells": [
  {
   "cell_type": "code",
   "execution_count": 35,
   "metadata": {},
   "outputs": [
    {
     "name": "stdout",
     "output_type": "stream",
     "text": [
      "[5, 6, 8, 15, 16]\n"
     ]
    }
   ],
   "source": [
    "arr = [15,6,16,8,5]\n",
    "\n",
    "for i in range(len(arr)):\n",
    "    replace_index = i\n",
    "    min_ele = arr[i]\n",
    "    for j in range(i+1, len(arr)):\n",
    "        if min_ele > arr[j]:\n",
    "            min_ele = arr[j]\n",
    "            replace_index = j\n",
    "    if i != replace_index:\n",
    "        arr[i], arr[replace_index] = arr[replace_index], arr[i]\n",
    "print (arr)\n",
    "            "
   ]
  },
  {
   "cell_type": "code",
   "execution_count": 56,
   "metadata": {},
   "outputs": [
    {
     "data": {
      "text/plain": [
       "[1, 3, 4, 7, 9]"
      ]
     },
     "execution_count": 56,
     "metadata": {},
     "output_type": "execute_result"
    }
   ],
   "source": [
    "class Solution: \n",
    "    def select(self, arr, i):\n",
    "        # code here \n",
    "        #print (i)\n",
    "        replace_index = i\n",
    "        min_ele = arr[i]\n",
    "        for j in range(i+1, len(arr)):\n",
    "            if min_ele > arr[j]:\n",
    "                min_ele = arr[j]\n",
    "                replace_index = j\n",
    "        if i != replace_index:\n",
    "            arr[i], arr[replace_index] = arr[replace_index],arr[i]\n",
    "    def selectionSort(self, arr,n):\n",
    "        #code here\n",
    "        for i in range(n):\n",
    "            self.select(arr,i)\n",
    "        return arr\n",
    "Solution().selectionSort([4,1,3,9,7], 5)"
   ]
  },
  {
   "cell_type": "code",
   "execution_count": null,
   "metadata": {},
   "outputs": [],
   "source": []
  }
 ],
 "metadata": {
  "kernelspec": {
   "display_name": "Python 3",
   "language": "python",
   "name": "python3"
  },
  "language_info": {
   "codemirror_mode": {
    "name": "ipython",
    "version": 3
   },
   "file_extension": ".py",
   "mimetype": "text/x-python",
   "name": "python",
   "nbconvert_exporter": "python",
   "pygments_lexer": "ipython3",
   "version": "3.8.5"
  }
 },
 "nbformat": 4,
 "nbformat_minor": 4
}
