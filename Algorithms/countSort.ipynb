{
 "cells": [
  {
   "cell_type": "code",
   "execution_count": 27,
   "metadata": {},
   "outputs": [
    {
     "name": "stdout",
     "output_type": "stream",
     "text": [
      "K 9\n",
      "[0, 0, 0, 1, 1, 1, 2, 2, 2, 2, 4, 5, 7, 7, 8, 9, 9]\n"
     ]
    }
   ],
   "source": [
    "def countSort(arr):\n",
    "    k = max(arr)\n",
    "    print (\"K\",k)\n",
    "    count = [0]*(k+1)\n",
    "    sortedArray = [0]*len(arr)\n",
    "    #print (sortedArray)\n",
    "    for i in range(len(arr)):\n",
    "        count[arr[i]] += 1\n",
    "    for i in range(1,k+1):\n",
    "        count [i] = count[i] + count[i-1]\n",
    "    #print (count)\n",
    "    for j in range(len(arr)-1, -1, -1):\n",
    "        count[arr[j]] = count[arr[j]] - 1\n",
    "        index  = count[arr[j]]\n",
    "        #print (index)\n",
    "        sortedArray[index] = arr[j]\n",
    "    print (sortedArray)\n",
    "\n",
    "arr = [2,1,1,0,2,5,4,0,2,8,7,7,9,2,0,1,9]\n",
    "\n",
    "countSort(arr)"
   ]
  },
  {
   "cell_type": "code",
   "execution_count": 34,
   "metadata": {},
   "outputs": [
    {
     "data": {
      "text/plain": [
       "'eeeefggkkorss'"
      ]
     },
     "execution_count": 34,
     "metadata": {},
     "output_type": "execute_result"
    }
   ],
   "source": [
    "#User function Template for python3\n",
    "import copy\n",
    "class Solution:\n",
    "    #Function to arrange all letters of a string in lexicographical \n",
    "    #order using Counting Sort.\n",
    "    def countSort(self,arr):\n",
    "        # code here\n",
    "        k = ord(max(arr))\n",
    "        count = [0]*(k+1)\n",
    "        arr = list(map(ord, arr))\n",
    "        copyArray = copy.copy(arr)\n",
    "        for i in range(len(copyArray)):\n",
    "            count[copyArray[i]] += 1\n",
    "        for i in range(1,k+1):\n",
    "            count[i] = count[i] + count[i-1]\n",
    "        sortedArray = [0]*len(copyArray)\n",
    "        for i in range(len(copyArray)):\n",
    "            count[copyArray[i]] = count[copyArray[i]]-1\n",
    "            index = count[copyArray[i]]\n",
    "            arr[index] = copyArray[i]\n",
    "        return (\"\".join(list(map(chr, arr))))\n",
    "Solution().countSort('geeksforgeeks')"
   ]
  },
  {
   "cell_type": "code",
   "execution_count": null,
   "metadata": {},
   "outputs": [],
   "source": []
  }
 ],
 "metadata": {
  "kernelspec": {
   "display_name": "Python 3",
   "language": "python",
   "name": "python3"
  },
  "language_info": {
   "codemirror_mode": {
    "name": "ipython",
    "version": 3
   },
   "file_extension": ".py",
   "mimetype": "text/x-python",
   "name": "python",
   "nbconvert_exporter": "python",
   "pygments_lexer": "ipython3",
   "version": "3.8.5"
  }
 },
 "nbformat": 4,
 "nbformat_minor": 4
}
