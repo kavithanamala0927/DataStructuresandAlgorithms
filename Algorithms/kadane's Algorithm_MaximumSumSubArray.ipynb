{
 "cells": [
  {
   "cell_type": "code",
   "execution_count": 22,
   "metadata": {},
   "outputs": [
    {
     "name": "stdout",
     "output_type": "stream",
     "text": [
      "156\n",
      "7 13\n"
     ]
    }
   ],
   "source": [
    "arr = [74, -72, 94, -53, -59, -3, -66, 36, -13, 22, 73, 15, -52, 75]\n",
    "max_so_far = arr[0]\n",
    "max_end = 0\n",
    "start = 0\n",
    "end = 0\n",
    "s = 0\n",
    "for i in range(len(arr)):\n",
    "    max_end = max_end + arr[i]    \n",
    "    if max_so_far < max_end:\n",
    "        max_so_far = max_end\n",
    "        start = s\n",
    "        end = i\n",
    "    if max_end < 0 :\n",
    "        max_end = 0\n",
    "        s = i + 1\n",
    "print (max_so_far)\n",
    "print (start,end)"
   ]
  },
  {
   "cell_type": "code",
   "execution_count": 26,
   "metadata": {},
   "outputs": [
    {
     "name": "stdout",
     "output_type": "stream",
     "text": [
      "156\n"
     ]
    }
   ],
   "source": [
    "arr = [74, -72, 94, -53, -59, -3, -66, 36, -13, 22, 73, 15, -52, 75]\n",
    "local_max = 0\n",
    "global_max = 0\n",
    "for i in range(len(arr)):\n",
    "    local_max = max(arr[i], arr[i]+local_max)\n",
    "    if local_max > global_max:\n",
    "        global_max = local_max\n",
    "print (global_max)"
   ]
  },
  {
   "cell_type": "code",
   "execution_count": null,
   "metadata": {},
   "outputs": [],
   "source": []
  }
 ],
 "metadata": {
  "kernelspec": {
   "display_name": "Python 3",
   "language": "python",
   "name": "python3"
  },
  "language_info": {
   "codemirror_mode": {
    "name": "ipython",
    "version": 3
   },
   "file_extension": ".py",
   "mimetype": "text/x-python",
   "name": "python",
   "nbconvert_exporter": "python",
   "pygments_lexer": "ipython3",
   "version": "3.8.5"
  }
 },
 "nbformat": 4,
 "nbformat_minor": 4
}
