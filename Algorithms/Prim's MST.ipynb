{
 "cells": [
  {
   "cell_type": "code",
   "execution_count": 24,
   "metadata": {},
   "outputs": [
    {
     "name": "stdout",
     "output_type": "stream",
     "text": [
      "0\n",
      "[0, 7]\n",
      "1\n",
      "2\n"
     ]
    }
   ],
   "source": [
    "v = 3\n",
    "\"\"\"\n",
    "0 1 5\n",
    "1 2 3\n",
    "0 2 1\n",
    "\"\"\"\n",
    "adj = [[[1, 5], [2, 1], [0,7]], [[0, 5], [2, 3]], [[1, 3], [0, 1]]]\n",
    "\n",
    "for i in range(len(adj)):\n",
    "    print (i)\n",
    "    for j in range(len(adj[i])):\n",
    "        if (adj[i][j][0] == i):\n",
    "            print (adj[i][j])\n",
    "            del adj[i][j]\n",
    "     \n"
   ]
  },
  {
   "cell_type": "code",
   "execution_count": null,
   "metadata": {},
   "outputs": [],
   "source": []
  }
 ],
 "metadata": {
  "kernelspec": {
   "display_name": "Python 3",
   "language": "python",
   "name": "python3"
  },
  "language_info": {
   "codemirror_mode": {
    "name": "ipython",
    "version": 3
   },
   "file_extension": ".py",
   "mimetype": "text/x-python",
   "name": "python",
   "nbconvert_exporter": "python",
   "pygments_lexer": "ipython3",
   "version": "3.8.5"
  }
 },
 "nbformat": 4,
 "nbformat_minor": 4
}
