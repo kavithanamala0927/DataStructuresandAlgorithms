{
 "cells": [
  {
   "cell_type": "code",
   "execution_count": 23,
   "metadata": {},
   "outputs": [
    {
     "data": {
      "text/plain": [
       "[10, 20, 30, 40, 50]"
      ]
     },
     "execution_count": 23,
     "metadata": {},
     "output_type": "execute_result"
    }
   ],
   "source": [
    "def insertionSort(arr,n):\n",
    "    for i in range(1,n):\n",
    "        temp = arr[i]\n",
    "        j = i-1\n",
    "        while (j >= 0 and temp < arr[j]):\n",
    "            arr[j+1]=arr[j]\n",
    "            j -= 1\n",
    "        arr[j+1] = temp           \n",
    "    return (arr)\n",
    "    \n",
    "\n",
    "arr = [30,10, 40, 20, 50]\n",
    "n = len(arr)\n",
    "insertionSort(arr,n)"
   ]
  },
  {
   "cell_type": "code",
   "execution_count": 45,
   "metadata": {},
   "outputs": [
    {
     "data": {
      "text/plain": [
       "[10, 20, 30, 40, 50]"
      ]
     },
     "execution_count": 45,
     "metadata": {},
     "output_type": "execute_result"
    }
   ],
   "source": [
    "class Solution:\n",
    "    def insert(self, alist, index, n):\n",
    "        #code here\n",
    "        j = index-1\n",
    "        temp = alist[index]\n",
    "        while (j >= 0 and temp < alist[j]):\n",
    "            alist[j+1] = alist[j]\n",
    "            j -= 1\n",
    "        alist[j+1] = temp\n",
    "        #return alist\n",
    "    #Function to sort the list using insertion sort algorithm.    \n",
    "    def insertionSort(self, alist, n):\n",
    "        #code here\n",
    "        for i in range(n):\n",
    "            index = i\n",
    "            self.insert(alist, index, n)\n",
    "        return alist\n",
    "arr = [30,10, 40, 20, 50]\n",
    "n = len(arr)\n",
    "Solution().insertionSort(arr,n)\n"
   ]
  },
  {
   "cell_type": "code",
   "execution_count": null,
   "metadata": {},
   "outputs": [],
   "source": []
  }
 ],
 "metadata": {
  "kernelspec": {
   "display_name": "Python 3",
   "language": "python",
   "name": "python3"
  },
  "language_info": {
   "codemirror_mode": {
    "name": "ipython",
    "version": 3
   },
   "file_extension": ".py",
   "mimetype": "text/x-python",
   "name": "python",
   "nbconvert_exporter": "python",
   "pygments_lexer": "ipython3",
   "version": "3.8.5"
  }
 },
 "nbformat": 4,
 "nbformat_minor": 4
}
