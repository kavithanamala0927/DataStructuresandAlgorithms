{
 "cells": [
  {
   "cell_type": "code",
   "execution_count": 9,
   "metadata": {},
   "outputs": [
    {
     "name": "stdout",
     "output_type": "stream",
     "text": [
      "0 0\n",
      "[3]\n",
      "1 1\n",
      "[3, 6]\n",
      "0 2\n",
      "***\n",
      "[1, 3, 6]\n",
      "2 3\n",
      "***\n",
      "[1, 3, 3, 6]\n",
      "1 4\n",
      "***\n",
      "[1, 1, 3, 3, 6]\n"
     ]
    },
    {
     "data": {
      "text/plain": [
       "6"
      ]
     },
     "execution_count": 9,
     "metadata": {},
     "output_type": "execute_result"
    }
   ],
   "source": [
    "import bisect\n",
    "def maximumSum(a, m):\n",
    "    mm,pr=0,0\n",
    "    a1=[]\n",
    "    for i in a:\n",
    "        pr=(pr+i)%m\n",
    "        mm=max(mm,pr)\n",
    "        ind=bisect.bisect_left(a1,pr+1)\n",
    "        print (ind, len(a1))\n",
    "        if(ind<len(a1)):\n",
    "            print (\"***\")\n",
    "            mm=max(mm,pr-a1[ind]+m)\n",
    "        bisect.insort(a1,pr)\n",
    "        print (a1)\n",
    "    return mm\n",
    "a = [3, 3, 9, 9, 5]\n",
    "m = 7\n",
    "maximumSum(a,m)"
   ]
  },
  {
   "cell_type": "code",
   "execution_count": 5,
   "metadata": {},
   "outputs": [
    {
     "data": {
      "text/plain": [
       "0"
      ]
     },
     "execution_count": 5,
     "metadata": {},
     "output_type": "execute_result"
    }
   ],
   "source": [
    "len([])"
   ]
  },
  {
   "cell_type": "code",
   "execution_count": 6,
   "metadata": {},
   "outputs": [
    {
     "data": {
      "text/plain": [
       "False"
      ]
     },
     "execution_count": 6,
     "metadata": {},
     "output_type": "execute_result"
    }
   ],
   "source": [
    "0<0"
   ]
  },
  {
   "cell_type": "code",
   "execution_count": null,
   "metadata": {},
   "outputs": [],
   "source": []
  }
 ],
 "metadata": {
  "kernelspec": {
   "display_name": "Python 3",
   "language": "python",
   "name": "python3"
  },
  "language_info": {
   "codemirror_mode": {
    "name": "ipython",
    "version": 3
   },
   "file_extension": ".py",
   "mimetype": "text/x-python",
   "name": "python",
   "nbconvert_exporter": "python",
   "pygments_lexer": "ipython3",
   "version": "3.8.5"
  }
 },
 "nbformat": 4,
 "nbformat_minor": 4
}
