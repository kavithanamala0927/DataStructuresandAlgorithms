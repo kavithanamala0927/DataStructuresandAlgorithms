{
 "cells": [
  {
   "cell_type": "code",
   "execution_count": 3,
   "metadata": {},
   "outputs": [
    {
     "name": "stdout",
     "output_type": "stream",
     "text": [
      "[10, 20, 30, 50, 60, 80, 100, 110, 130, 170]\n"
     ]
    },
    {
     "data": {
      "text/plain": [
       "7"
      ]
     },
     "execution_count": 3,
     "metadata": {},
     "output_type": "execute_result"
    }
   ],
   "source": [
    "def binarySearch(arr, ele, start, end):\n",
    "    if end >= start:\n",
    "        mid = start + (end-start)//2\n",
    "        #print (mid)\n",
    "        if arr[mid] == ele:\n",
    "            return mid\n",
    "        elif arr[mid] > ele:\n",
    "            return binarySearch(arr, ele, start, mid-1)\n",
    "        else:\n",
    "            return binarySearch(arr, ele, mid+1, end)\n",
    "    else:\n",
    "        return -1\n",
    "arr = [10, 20, 80, 30, 60, 50,110, 100, 130, 170]\n",
    "s = 110\n",
    "arr = sorted(arr)\n",
    "print (arr)\n",
    "binarySearch(arr, s, 0, len(arr)-1)"
   ]
  },
  {
   "cell_type": "code",
   "execution_count": null,
   "metadata": {},
   "outputs": [],
   "source": []
  }
 ],
 "metadata": {
  "kernelspec": {
   "display_name": "Python 3",
   "language": "python",
   "name": "python3"
  },
  "language_info": {
   "codemirror_mode": {
    "name": "ipython",
    "version": 3
   },
   "file_extension": ".py",
   "mimetype": "text/x-python",
   "name": "python",
   "nbconvert_exporter": "python",
   "pygments_lexer": "ipython3",
   "version": "3.8.5"
  }
 },
 "nbformat": 4,
 "nbformat_minor": 4
}
