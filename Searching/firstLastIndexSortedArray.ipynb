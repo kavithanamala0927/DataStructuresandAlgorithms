{
 "cells": [
  {
   "cell_type": "code",
   "execution_count": 68,
   "metadata": {},
   "outputs": [
    {
     "name": "stdout",
     "output_type": "stream",
     "text": [
      "3\n"
     ]
    }
   ],
   "source": [
    "#Using recursion\n",
    "def firstOcubinarySearch(arr, ele, start, end):\n",
    "    #result = -1\n",
    "    if start <= end:\n",
    "        mid = (start + end)//2\n",
    "        if ((mid == 0 or ele > arr[mid-1]) and arr[mid] == ele):\n",
    "            return mid\n",
    "        elif ele > arr[mid]:\n",
    "            return firstOcubinarySearch(arr, ele, mid+1, end)\n",
    "        else:\n",
    "            return firstOcubinarySearch(arr, ele, start, mid-1)\n",
    "    return -1\n",
    "arr = [1,1, 3, 5, 5, 5, 5, 67, 123, 125]\n",
    "x = 5\n",
    "res = firstOcubinarySearch(arr, x, 0, len(arr)-1)\n",
    "#print (res)\n",
    "\n",
    "#Using Iteration\n",
    "\n",
    "def firstOcubinarySearch(arr, ele, start, end):\n",
    "    result = -1\n",
    "    while start <= end:\n",
    "        mid = (start + end)//2\n",
    "        if (arr[mid] == ele):\n",
    "            result = mid\n",
    "            end = mid -1\n",
    "        elif ele > arr[mid]:\n",
    "            start = mid +1\n",
    "        else:\n",
    "            end = mid-1\n",
    "    return result\n",
    "arr = [1,1, 3, 5, 5, 5, 5, 67, 123, 125]\n",
    "x = 5\n",
    "res = firstOcubinarySearch(arr, x, 0, len(arr)-1)\n",
    "print (res)"
   ]
  },
  {
   "cell_type": "code",
   "execution_count": 64,
   "metadata": {},
   "outputs": [
    {
     "name": "stdout",
     "output_type": "stream",
     "text": [
      "6\n"
     ]
    }
   ],
   "source": [
    "#Using Recursion\n",
    "def lastOcuBinarySearch(arr, ele, start, end):\n",
    "    if start <= end:\n",
    "        mid = (start+end)//2\n",
    "        if ((mid == len(arr)-1 or ele < arr[mid+1]) and arr[mid] == ele):\n",
    "            return mid\n",
    "        elif ele<arr[mid]:\n",
    "            return lastOcuBinarySearch(arr, ele, start, mid-1)\n",
    "        else:\n",
    "            return lastOcuBinarySearch(arr, ele, mid+1, end)\n",
    "    return -1\n",
    "arr = [1,1, 3, 5, 5, 5, 5, 67, 123, 125]\n",
    "x = 5\n",
    "res = lastOcuBinarySearch(arr, x, 0, len(arr)-1)\n",
    "print (res)           "
   ]
  },
  {
   "cell_type": "code",
   "execution_count": 69,
   "metadata": {},
   "outputs": [
    {
     "name": "stdout",
     "output_type": "stream",
     "text": [
      "-1\n"
     ]
    }
   ],
   "source": [
    "#Iteration\n",
    "def lastOcubinarySearch(arr, ele, start, end):\n",
    "    result = -1\n",
    "    #print (\"S\",start,\"E\",end)\n",
    "    while start <= end:\n",
    "        mid = (start + end)//2\n",
    "        #print (\"MID\",mid)\n",
    "        if arr[mid] == ele:\n",
    "            #print (\"E\",mid)\n",
    "            result = mid\n",
    "            #print (\"R\",result)\n",
    "            start = mid+1\n",
    "        elif arr[mid] > ele:\n",
    "            end = mid-1\n",
    "        else:\n",
    "            start = mid + 1\n",
    "    #print (\"RESULT\", result)\n",
    "    return result\n",
    "arr = [1,1, 3, 5, 5, 5, 5, 67, 123, 125]\n",
    "x = 9\n",
    "res = lastOcubinarySearch(arr, x, 0, len(arr)-1)\n",
    "    \n",
    "print (res)"
   ]
  },
  {
   "cell_type": "code",
   "execution_count": 47,
   "metadata": {},
   "outputs": [
    {
     "name": "stdout",
     "output_type": "stream",
     "text": [
      "-1 -1\n"
     ]
    }
   ],
   "source": [
    "print (firstOcubinarySearch(arr, 9, 0, len(arr)-1), lastOcubinarySearch(arr, 9, 0, len(arr)-1))"
   ]
  },
  {
   "cell_type": "code",
   "execution_count": null,
   "metadata": {},
   "outputs": [],
   "source": []
  }
 ],
 "metadata": {
  "kernelspec": {
   "display_name": "Python 3",
   "language": "python",
   "name": "python3"
  },
  "language_info": {
   "codemirror_mode": {
    "name": "ipython",
    "version": 3
   },
   "file_extension": ".py",
   "mimetype": "text/x-python",
   "name": "python",
   "nbconvert_exporter": "python",
   "pygments_lexer": "ipython3",
   "version": "3.8.5"
  }
 },
 "nbformat": 4,
 "nbformat_minor": 4
}
