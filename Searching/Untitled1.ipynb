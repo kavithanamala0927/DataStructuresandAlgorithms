{
 "cells": [
  {
   "cell_type": "code",
   "execution_count": 34,
   "metadata": {},
   "outputs": [
    {
     "name": "stdout",
     "output_type": "stream",
     "text": [
      "2\n"
     ]
    }
   ],
   "source": [
    "\n",
    "def findPivot(arr, start, end):\n",
    "    if start > end:\n",
    "        return -1\n",
    "    if start == end:\n",
    "        return start\n",
    "    mid = start + end //2\n",
    "    if mid < end and a[mid] > a[mid+1]:\n",
    "        return mid\n",
    "    if mid > start and a[mid] < a[mid-1]:\n",
    "        return mid - 1\n",
    "    if a[start] >= a[mid]:\n",
    "        findPivot(arr, start, mid-1)\n",
    "    return findPivot(arr, mid+1, end)\n",
    "        \n",
    "        \n",
    "a = [4,4,5,3]\n",
    "print (findPivot(a, 0, len(a)-1))\n"
   ]
  },
  {
   "cell_type": "code",
   "execution_count": 18,
   "metadata": {},
   "outputs": [
    {
     "data": {
      "text/plain": [
       "False"
      ]
     },
     "execution_count": 18,
     "metadata": {},
     "output_type": "execute_result"
    }
   ],
   "source": [
    "4>4"
   ]
  },
  {
   "cell_type": "code",
   "execution_count": null,
   "metadata": {},
   "outputs": [],
   "source": []
  }
 ],
 "metadata": {
  "kernelspec": {
   "display_name": "Python 3",
   "language": "python",
   "name": "python3"
  },
  "language_info": {
   "codemirror_mode": {
    "name": "ipython",
    "version": 3
   },
   "file_extension": ".py",
   "mimetype": "text/x-python",
   "name": "python",
   "nbconvert_exporter": "python",
   "pygments_lexer": "ipython3",
   "version": "3.8.5"
  }
 },
 "nbformat": 4,
 "nbformat_minor": 4
}
