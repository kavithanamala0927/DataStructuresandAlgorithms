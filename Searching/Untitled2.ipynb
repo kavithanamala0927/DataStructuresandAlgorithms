{
 "cells": [
  {
   "cell_type": "code",
   "execution_count": 82,
   "metadata": {},
   "outputs": [
    {
     "data": {
      "text/plain": [
       "-1"
      ]
     },
     "execution_count": 82,
     "metadata": {},
     "output_type": "execute_result"
    }
   ],
   "source": [
    "class Solution:\n",
    "    def find_height(self,tree,n,k):\n",
    "        # code here\n",
    "        tree.sort()\n",
    "        return self.search(tree, 0, n-1,k, 0)\n",
    "            \n",
    "    def search(self, tree, start, end, k, sum_so_far):\n",
    "        mid = (start + end)//2  \n",
    "        while start <= end:\n",
    "            for i in range(mid+1, n):\n",
    "                sum_so_far += tree[i]-tree[mid]\n",
    "            if sum_so_far == k:\n",
    "                return tree[mid]                    \n",
    "            elif sum_so_far < k:\n",
    "                return self.search(tree,start, mid-1, k, 0)\n",
    "            else:\n",
    "                return self.search(tree, mid+1, end, k, 0)\n",
    "        return -1\n",
    "\n",
    "            \n",
    "#arr = [2, 3, 6, 2, 4]\n",
    "arr = [81, 13, 36, 65, 38, 69]\n",
    "\n",
    "n= 6\n",
    "k = 47\n",
    "obj = Solution()\n",
    "obj.find_height(arr,n,k)"
   ]
  },
  {
   "cell_type": "code",
   "execution_count": 83,
   "metadata": {},
   "outputs": [
    {
     "data": {
      "text/plain": [
       "False"
      ]
     },
     "execution_count": 83,
     "metadata": {},
     "output_type": "execute_result"
    }
   ],
   "source": [
    "5>5"
   ]
  },
  {
   "cell_type": "code",
   "execution_count": null,
   "metadata": {},
   "outputs": [],
   "source": []
  }
 ],
 "metadata": {
  "kernelspec": {
   "display_name": "Python 3",
   "language": "python",
   "name": "python3"
  },
  "language_info": {
   "codemirror_mode": {
    "name": "ipython",
    "version": 3
   },
   "file_extension": ".py",
   "mimetype": "text/x-python",
   "name": "python",
   "nbconvert_exporter": "python",
   "pygments_lexer": "ipython3",
   "version": "3.8.5"
  }
 },
 "nbformat": 4,
 "nbformat_minor": 4
}
