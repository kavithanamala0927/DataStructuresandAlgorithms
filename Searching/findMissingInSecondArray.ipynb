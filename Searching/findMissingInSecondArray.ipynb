{
 "cells": [
  {
   "cell_type": "code",
   "execution_count": 20,
   "metadata": {},
   "outputs": [
    {
     "data": {
      "text/plain": [
       "[227, 2, 17, 15, 17, 21, 26, 16, 19, 22, 18, 8, 10, 17, 28, 7, 4, 21, 3, 4]"
      ]
     },
     "execution_count": 20,
     "metadata": {},
     "output_type": "execute_result"
    }
   ],
   "source": [
    "\n",
    "def binarySearch(arr, ele, start, end):\n",
    "    if end >= start:\n",
    "        mid = start + (end-start)//2\n",
    "        if arr[mid] == ele:\n",
    "            return mid\n",
    "        elif arr[mid] > ele:\n",
    "            return binarySearch(arr, ele, start, mid-1)\n",
    "        else:\n",
    "            return binarySearch(arr, ele, mid+1, end)\n",
    "    else:\n",
    "        return -1\n",
    "\n",
    "def findMissing(A,B,N,M):\n",
    "    # code here\n",
    "    out = []\n",
    "    for i in A:\n",
    "        res = binarySearch(B, i, 0, M-1)\n",
    "        if res == -1:\n",
    "            out.append(i)\n",
    "    return out\n",
    "\n",
    "A = [227, 2, 17, 15, 17, 21, 26, 30, 16, 12, 19, 22, 18, 8, 24, 10, 17, 28, 14, 7, 4, 21, 3, 4]\n",
    "B = [25, 12, 30, 24, 14, 34]\n",
    "#A.sort()\n",
    "B.sort()\n",
    "findMissing(A,B,5,5)"
   ]
  },
  {
   "cell_type": "code",
   "execution_count": 26,
   "metadata": {},
   "outputs": [
    {
     "data": {
      "text/plain": [
       "[227, 2, 17, 15, 17, 21, 26, 16, 19, 22, 18, 8, 10, 17, 28, 7, 4, 21, 3, 4]"
      ]
     },
     "execution_count": 26,
     "metadata": {},
     "output_type": "execute_result"
    }
   ],
   "source": [
    "\n",
    "def linearSearch(arr,M, x):\n",
    "    found = 0\n",
    "    for i in range(M):\n",
    "        if arr[i] == x:\n",
    "            found = 1\n",
    "    return found\n",
    "\n",
    "def findMissing(A,B,N,M):\n",
    "    # code here\n",
    "    out = []\n",
    "    for i in A:\n",
    "        if linearSearch(B,M,i) == 0:\n",
    "            out.append(i)\n",
    "    return out\n",
    "A = [227, 2, 17, 15, 17, 21, 26, 30, 16, 12, 19, 22, 18, 8, 24, 10, 17, 28, 14, 7, 4, 21, 3, 4]\n",
    "B = [25, 12, 30, 24, 14, 34]\n",
    "findMissing(A,B,24,6)"
   ]
  },
  {
   "cell_type": "code",
   "execution_count": 41,
   "metadata": {},
   "outputs": [
    {
     "name": "stdout",
     "output_type": "stream",
     "text": [
      "[227, 2, 17, 15, 17, 21, 26, 16, 19, 22, 18, 8, 10, 17, 28, 7, 4, 21, 3, 4]\n"
     ]
    }
   ],
   "source": [
    "A = [227, 2, 17, 15, 17, 21, 26, 30, 16, 12, 19, 22, 18, 8, 24, 10, 17, 28, 14, 7, 4, 21, 3, 4]\n",
    "B = [25, 12, 30, 24, 14, 34]\n",
    "from collections import defaultdict\n",
    "d = defaultdict(int)\n",
    "out = []\n",
    "for i in B:\n",
    "    d[i] += 1\n",
    "for i in A:\n",
    "    if d[i] == 0:\n",
    "        out.append(i)\n",
    "print (out)\n"
   ]
  },
  {
   "cell_type": "code",
   "execution_count": 43,
   "metadata": {},
   "outputs": [
    {
     "name": "stdout",
     "output_type": "stream",
     "text": [
      "[227, 2, 17, 15, 17, 21, 26, 16, 19, 22, 18, 8, 10, 17, 28, 7, 4, 21, 3, 4]\n"
     ]
    }
   ],
   "source": [
    "A = [227, 2, 17, 15, 17, 21, 26, 30, 16, 12, 19, 22, 18, 8, 24, 10, 17, 28, 14, 7, 4, 21, 3, 4]\n",
    "B = [25, 12, 30, 24, 14, 34]\n",
    "#from collections import defaultdict\n",
    "#d = defaultdict(int)\n",
    "d = {}\n",
    "out = []\n",
    "for i in B:\n",
    "    if i not in d.keys():\n",
    "        d[i] = 1\n",
    "    else:\n",
    "        d[i] += 1\n",
    "for i in A:\n",
    "    if i not in d.keys():\n",
    "        out.append(i)\n",
    "print (out)"
   ]
  },
  {
   "cell_type": "code",
   "execution_count": null,
   "metadata": {},
   "outputs": [],
   "source": [
    "findMissing(A,B,N,M):\n",
    "    out = []\n",
    "    for i in range(N):\n",
    "        if i not B:\n",
    "            out = out.append(i)\n",
    "    print (out)"
   ]
  }
 ],
 "metadata": {
  "kernelspec": {
   "display_name": "Python 3",
   "language": "python",
   "name": "python3"
  },
  "language_info": {
   "codemirror_mode": {
    "name": "ipython",
    "version": 3
   },
   "file_extension": ".py",
   "mimetype": "text/x-python",
   "name": "python",
   "nbconvert_exporter": "python",
   "pygments_lexer": "ipython3",
   "version": "3.8.5"
  }
 },
 "nbformat": 4,
 "nbformat_minor": 4
}
