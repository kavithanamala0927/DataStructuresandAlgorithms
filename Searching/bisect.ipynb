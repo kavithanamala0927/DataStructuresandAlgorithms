{
 "cells": [
  {
   "cell_type": "code",
   "execution_count": 19,
   "metadata": {},
   "outputs": [
    {
     "name": "stdout",
     "output_type": "stream",
     "text": [
      "1\n"
     ]
    }
   ],
   "source": [
    "arr = [1,2,3]\n",
    "m = 2\n",
    "subsets = []\n",
    "max_m = 0\n",
    "for i in range(len(arr)+1):\n",
    "    for j in range(i+1, len(arr)+1):\n",
    "        if arr[i:j] not in subsets:\n",
    "            subsets.append(arr[i:j])\n",
    "for i in subsets:\n",
    "    if (sum(i)%m) > max_m:\n",
    "        max_m = sum(i)%m\n",
    "print (max_m)\n",
    "        "
   ]
  },
  {
   "cell_type": "code",
   "execution_count": 22,
   "metadata": {},
   "outputs": [
    {
     "data": {
      "text/plain": [
       "1"
      ]
     },
     "execution_count": 22,
     "metadata": {},
     "output_type": "execute_result"
    }
   ],
   "source": [
    "def maximumSum(a, m):\n",
    "    subsets = []\n",
    "    max_m = 0\n",
    "    for i in range(len(a)+1):\n",
    "        for j in range(i+1, len(a)+1):\n",
    "            if a[i:j] not in subsets:\n",
    "                sum_sub = sum (a[i:j])\n",
    "                if sum_sub % m > max_m:\n",
    "                    max_m = sum_sub% m       \n",
    "    return (max_m)\n",
    "arr = [1,2,3]\n",
    "m = 2\n",
    "maximumSum(arr, m)"
   ]
  },
  {
   "cell_type": "code",
   "execution_count": 39,
   "metadata": {},
   "outputs": [
    {
     "data": {
      "text/plain": [
       "[1, 2, 2, 2, 3, 4, 5]"
      ]
     },
     "execution_count": 39,
     "metadata": {},
     "output_type": "execute_result"
    }
   ],
   "source": [
    "import bisect\n",
    "arr = [1,2,3,4,5]\n",
    "data = 2\n",
    "pos1 = bisect.bisect_left(arr, data)\n",
    "#print (pos1)\n",
    "pos = bisect.bisect_right(arr, data)\n",
    "pos\n",
    "arr.insert(pos, data)\n",
    "arr\n",
    "pos = bisect.bisect_right(arr, data, lo = 1, hi = len(arr))\n",
    "pos\n",
    "arr.insert(pos, data)\n",
    "arr"
   ]
  },
  {
   "cell_type": "code",
   "execution_count": null,
   "metadata": {},
   "outputs": [],
   "source": []
  }
 ],
 "metadata": {
  "kernelspec": {
   "display_name": "Python 3",
   "language": "python",
   "name": "python3"
  },
  "language_info": {
   "codemirror_mode": {
    "name": "ipython",
    "version": 3
   },
   "file_extension": ".py",
   "mimetype": "text/x-python",
   "name": "python",
   "nbconvert_exporter": "python",
   "pygments_lexer": "ipython3",
   "version": "3.8.5"
  }
 },
 "nbformat": 4,
 "nbformat_minor": 4
}
