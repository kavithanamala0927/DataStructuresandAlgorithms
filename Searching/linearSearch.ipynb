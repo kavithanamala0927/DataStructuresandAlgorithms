{
 "cells": [
  {
   "cell_type": "code",
   "execution_count": 1,
   "metadata": {},
   "outputs": [
    {
     "name": "stdout",
     "output_type": "stream",
     "text": [
      "Element 190 is not present in the array\n",
      "<__main__.LinearSearch object at 0x0000021524E8C7F0>\n"
     ]
    }
   ],
   "source": [
    "class LinearSearch:\n",
    "    def __init__(self,arr, element):\n",
    "        self.arr = arr\n",
    "        self.element = element\n",
    "        self.found = -1\n",
    "    def search(self):\n",
    "        for i in range (len(self.arr)):\n",
    "            if self.arr[i] == self.element:\n",
    "                self.found = i\n",
    "        if self.found != -1:\n",
    "            print (f\"Element {self.element} is present at index {self.found}\")\n",
    "        else:\n",
    "            print (f\"Element {self.element} is not present in the array\")\n",
    "arr = [10, 20, 80, 30, 60, 50,110,  100, 130, 170]\n",
    "s = 110\n",
    "obj = LinearSearch(arr, s) \n",
    "s = 190\n",
    "obj = LinearSearch(arr, s)\n",
    "obj.search()\n",
    "print (obj)"
   ]
  },
  {
   "cell_type": "code",
   "execution_count": 22,
   "metadata": {},
   "outputs": [
    {
     "name": "stdout",
     "output_type": "stream",
     "text": [
      "Found at position 4 and 5 attempt\n"
     ]
    }
   ],
   "source": [
    "def linearSearch(arr, x):\n",
    "    left = 0\n",
    "    right = len(arr)-1\n",
    "    found = -1\n",
    "    for left in range(right):\n",
    "        if arr[left] == x:\n",
    "            found = left\n",
    "            print (f\"Found at position {found} and {left+1} attempt\")\n",
    "            break\n",
    "        if arr[right] == x:\n",
    "            found = right\n",
    "            print (f\"Found at position {found} and {len(arr)-right} attempt\")\n",
    "            break\n",
    "        left += 1\n",
    "        right -= 1\n",
    "    if found == -1:\n",
    "        print (f\"NotFound with {left} attempts\")\n",
    "arr = [10, 20, 80, 30, 60, 50,110,  100, 130, 170]\n",
    "s = 60\n",
    "linearSearch(arr,s)"
   ]
  },
  {
   "cell_type": "code",
   "execution_count": null,
   "metadata": {},
   "outputs": [],
   "source": []
  }
 ],
 "metadata": {
  "kernelspec": {
   "display_name": "Python 3",
   "language": "python",
   "name": "python3"
  },
  "language_info": {
   "codemirror_mode": {
    "name": "ipython",
    "version": 3
   },
   "file_extension": ".py",
   "mimetype": "text/x-python",
   "name": "python",
   "nbconvert_exporter": "python",
   "pygments_lexer": "ipython3",
   "version": "3.8.5"
  }
 },
 "nbformat": 4,
 "nbformat_minor": 4
}
