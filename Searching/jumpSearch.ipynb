{
 "cells": [
  {
   "cell_type": "code",
   "execution_count": 14,
   "metadata": {},
   "outputs": [
    {
     "name": "stdout",
     "output_type": "stream",
     "text": [
      "Found 15\n"
     ]
    }
   ],
   "source": [
    "import math\n",
    "def jumpSearch(arr,x):\n",
    "    n = len(arr)\n",
    "    step = int (math.sqrt(n))\n",
    "    prev = 0\n",
    "    while arr[min(step, n)-1] < x:\n",
    "        prev = step\n",
    "        step += int (math.sqrt(n))\n",
    "        if prev >= n:\n",
    "            return -1\n",
    "    while arr[prev] < x:\n",
    "        prev += 1\n",
    "        if prev == min(step, n):\n",
    "            return -1\n",
    "    if arr[prev] == x:\n",
    "        print (\"Found\", prev)\n",
    "    else:\n",
    "        print (\"Not Found\", -1)\n",
    "\n",
    "arr = [0, 1, 1, 2, 3, 5, 8, 13, 21, 34, 55, 89, 144, 233, 377, 610]\n",
    "x = 610\n",
    "jumpSearch(arr,x)\n",
    "        "
   ]
  },
  {
   "cell_type": "code",
   "execution_count": null,
   "metadata": {},
   "outputs": [],
   "source": []
  }
 ],
 "metadata": {
  "kernelspec": {
   "display_name": "Python 3",
   "language": "python",
   "name": "python3"
  },
  "language_info": {
   "codemirror_mode": {
    "name": "ipython",
    "version": 3
   },
   "file_extension": ".py",
   "mimetype": "text/x-python",
   "name": "python",
   "nbconvert_exporter": "python",
   "pygments_lexer": "ipython3",
   "version": "3.8.5"
  }
 },
 "nbformat": 4,
 "nbformat_minor": 4
}
