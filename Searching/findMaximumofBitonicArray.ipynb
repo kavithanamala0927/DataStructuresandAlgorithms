{
 "cells": [
  {
   "cell_type": "code",
   "execution_count": 16,
   "metadata": {},
   "outputs": [
    {
     "data": {
      "text/plain": [
       "45"
      ]
     },
     "execution_count": 16,
     "metadata": {},
     "output_type": "execute_result"
    }
   ],
   "source": [
    "\n",
    "def findMaximum(arr,start, end):\n",
    "    if len(arr) <= 2:\n",
    "        return arr[len(arr)-1]\n",
    "    if start <= end:\n",
    "        mid = (start+end)//2\n",
    "        if arr[mid] > arr[mid-1] and arr[mid] > arr[mid+1]:\n",
    "            return arr[mid]\n",
    "        elif arr[mid] > arr[mid-1] and arr[mid] < arr[mid+1]:\n",
    "            return findMaximum(arr, mid+1, end)\n",
    "        else:\n",
    "            return findMaximum(arr, start, mid-1)\n",
    "        \n",
    "arr = [1, 15, 25, 45, 42, 21, 17, 12, 11]\n",
    "findMaximum(arr, 0, len(arr)-1)"
   ]
  },
  {
   "cell_type": "code",
   "execution_count": 11,
   "metadata": {},
   "outputs": [
    {
     "data": {
      "text/plain": [
       "50"
      ]
     },
     "execution_count": 11,
     "metadata": {},
     "output_type": "execute_result"
    }
   ],
   "source": [
    "class Solution:\n",
    "    def findMaximum(self,arr, n):\n",
    "\n",
    "        max_e = 0\n",
    "        start = 0\n",
    "        end = n-1\n",
    "        pivot = self.findPivot(arr, start, end)\n",
    "        if arr[pivot] < max_e:\n",
    "              return self.binarySearch(arr, ele, start, pivot-1)\n",
    "        else:\n",
    "              return self.binarySearch(arr, ele, pivot+1, end)\n",
    "    def binarySearch(self,arr, ele, start, end):\n",
    "        max_e = 0\n",
    "        if end >= start:\n",
    "            mid = start + (end-start)//2\n",
    "            #print (mid)\n",
    "            if arr[mid] > max_e:\n",
    "                max_e = arr[mid]\n",
    "                return max_e\n",
    "            return self.binarySearch(arr, ele, mid+1, end)\n",
    "    def findPivot(self, arr, start, end):\n",
    "        mid = (start + end )//2\n",
    "        if start >= end:\n",
    "            return -1\n",
    "        if arr[mid] > arr[mid+1]:\n",
    "            return mid+1\n",
    "        else:\n",
    "            if arr[start] > arr[mid]:\n",
    "                return self.findPivot(arr, start, mid-1)\n",
    "            else:\n",
    "                return self.findPivot(arr, mid+1, end)\n",
    "arr = [1, 45, 47, 50, 5]\n",
    "obj = Solution()\n",
    "obj.findMaximum(arr, 5)"
   ]
  },
  {
   "cell_type": "code",
   "execution_count": 25,
   "metadata": {},
   "outputs": [
    {
     "data": {
      "text/plain": [
       "10041"
      ]
     },
     "execution_count": 25,
     "metadata": {},
     "output_type": "execute_result"
    }
   ],
   "source": [
    "class Solution:\n",
    "    def findMaximum(self,arr, n):\n",
    "        if n <=2 :\n",
    "            return arr[n-1]\n",
    "        else:\n",
    "            return self.binaryMax(arr, 0, n-1, n)\n",
    "    \n",
    "    def binaryMax(self,arr,start, end, n):\n",
    "        if start <= end:\n",
    "            mid = (start+end)//2\n",
    "            if mid != n-1 and arr[mid] > arr[mid-1] and arr[mid] > arr[mid+1]:\n",
    "                return arr[mid]\n",
    "            elif mid != n-1 and arr[mid] > arr[mid-1] and arr[mid] < arr[mid+1]:\n",
    "                return self.binaryMax(arr,mid+1, end, n)\n",
    "            elif mid != n-1 and arr[mid] < arr[mid-1] and arr[mid] > arr[mid+1]:\n",
    "                return self.binaryMax(arr,start, mid-1, n)\n",
    "arr = []\n",
    "for i in range(1,10042):\n",
    "    arr.append(i)\n",
    "arr.append(1)\n",
    "ob = Solution()\n",
    "ob.findMaximum(arr,10042)"
   ]
  },
  {
   "cell_type": "code",
   "execution_count": 23,
   "metadata": {},
   "outputs": [
    {
     "data": {
      "text/plain": [
       "10042"
      ]
     },
     "execution_count": 23,
     "metadata": {},
     "output_type": "execute_result"
    }
   ],
   "source": []
  },
  {
   "cell_type": "code",
   "execution_count": null,
   "metadata": {},
   "outputs": [],
   "source": []
  }
 ],
 "metadata": {
  "kernelspec": {
   "display_name": "Python 3",
   "language": "python",
   "name": "python3"
  },
  "language_info": {
   "codemirror_mode": {
    "name": "ipython",
    "version": 3
   },
   "file_extension": ".py",
   "mimetype": "text/x-python",
   "name": "python",
   "nbconvert_exporter": "python",
   "pygments_lexer": "ipython3",
   "version": "3.8.5"
  }
 },
 "nbformat": 4,
 "nbformat_minor": 4
}
