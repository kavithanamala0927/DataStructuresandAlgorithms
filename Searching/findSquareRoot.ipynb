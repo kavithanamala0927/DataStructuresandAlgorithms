{
 "cells": [
  {
   "cell_type": "code",
   "execution_count": 82,
   "metadata": {},
   "outputs": [
    {
     "name": "stdout",
     "output_type": "stream",
     "text": [
      "2\n"
     ]
    }
   ],
   "source": [
    "def squareRoot(num, start, end):\n",
    "    mid = (start + end)//2\n",
    "    result = mid\n",
    "    if num == 0  or num == 1:\n",
    "        result = num\n",
    "    while start <= end:\n",
    "        if mid**2 == num:\n",
    "            result= mid\n",
    "            return result\n",
    "        if mid**2 > num:\n",
    "            return squareRoot(num, start, mid-1)\n",
    "        else:\n",
    "            result = squareRoot(num, mid+1, end)\n",
    "            return result\n",
    "    return result\n",
    "    \n",
    "num = 5\n",
    "print (squareRoot(num, 0, num))\n",
    "        "
   ]
  },
  {
   "cell_type": "code",
   "execution_count": null,
   "metadata": {},
   "outputs": [],
   "source": []
  },
  {
   "cell_type": "code",
   "execution_count": null,
   "metadata": {},
   "outputs": [],
   "source": []
  }
 ],
 "metadata": {
  "kernelspec": {
   "display_name": "Python 3",
   "language": "python",
   "name": "python3"
  },
  "language_info": {
   "codemirror_mode": {
    "name": "ipython",
    "version": 3
   },
   "file_extension": ".py",
   "mimetype": "text/x-python",
   "name": "python",
   "nbconvert_exporter": "python",
   "pygments_lexer": "ipython3",
   "version": "3.8.5"
  }
 },
 "nbformat": 4,
 "nbformat_minor": 4
}
